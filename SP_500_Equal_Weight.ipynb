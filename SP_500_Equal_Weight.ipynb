{
 "cells": [
  {
   "cell_type": "markdown",
   "metadata": {
    "slideshow": {
     "slide_type": "notes"
    }
   },
   "source": [
    "# Equal-Weight S&P 500 Index Fund\n",
    "\n",
    "## Introduction & Library Imports\n",
    "\n",
    "The S&P 500 is the world's most popular stock market index. The largest fund that is benchmarked to this index is the SPDR® S&P 500® ETF Trust. It has more than US$250 billion of assets under management.\n",
    "\n",
    "The goal of this section of the course is to create a Python script that will accept the value of your portfolio and tell you how many shares of each S&P 500 constituent you should purchase to get an equal-weight version of the index fund.\n",
    "\n",
    "## Library Imports\n",
    "\n",
    "The first thing we need to do is import the open-source software libraries that we'll be using in this tutorial."
   ]
  },
  {
   "cell_type": "code",
   "execution_count": 25,
   "metadata": {
    "slideshow": {
     "slide_type": "slide"
    }
   },
   "outputs": [],
   "source": [
    "import numpy as np #The Numpy numerical computing library\n",
    "import pandas as pd #The Pandas data science library\n",
    "import requests #The requests library for HTTP requests in Python\n",
    "import xlsxwriter #The XlsxWriter libarary for \n",
    "import math #The Python math module\n",
    "from contextlib import suppress\n",
    "import matplotlib.pyplot as plt"
   ]
  },
  {
   "cell_type": "markdown",
   "metadata": {
    "slideshow": {
     "slide_type": "slide"
    }
   },
   "source": [
    "## Importing Our List of Stocks\n",
    "\n",
    "The next thing we need to do is import the constituents of the S&P 500.\n",
    "\n",
    "These constituents change over time, so in an ideal world you would connect directly to the index provider (Standard & Poor's) and pull their real-time constituents on a regular basis.\n",
    "306\n",
    "Paying for access to the index provider's API is outside of the scope of this course. \n",
    "\n",
    "There's a static version of the S&P 500 constituents available here.  Move this file into the `starter-files` folder so it can be accessed by other files in that directory.\n",
    "\n",
    "Now it's time to import these stocks to our Jupyter Notebook file."
   ]
  },
  {
   "cell_type": "code",
   "execution_count": 26,
   "metadata": {
    "scrolled": true,
    "slideshow": {
     "slide_type": "slide"
    }
   },
   "outputs": [
    {
     "name": "stdout",
     "output_type": "stream",
     "text": [
      "    Ticker\n",
      "0        A\n",
      "1      AAL\n",
      "2      AAP\n",
      "3     AAPL\n",
      "4     ABBV\n",
      "..     ...\n",
      "496    YUM\n",
      "497    ZBH\n",
      "498   ZBRA\n",
      "499   ZION\n",
      "500    ZTS\n",
      "\n",
      "[501 rows x 1 columns]\n"
     ]
    },
    {
     "data": {
      "text/plain": [
       "0         A\n",
       "1       AAL\n",
       "2       AAP\n",
       "3      AAPL\n",
       "4      ABBV\n",
       "       ... \n",
       "496     YUM\n",
       "497     ZBH\n",
       "498    ZBRA\n",
       "499    ZION\n",
       "500     ZTS\n",
       "Name: Ticker, Length: 501, dtype: object"
      ]
     },
     "execution_count": 26,
     "metadata": {},
     "output_type": "execute_result"
    }
   ],
   "source": [
    "#url='https://github.com/prashantmalan/algorthmic_trading/blob/main/sp_500_stocks.csv?raw=true'\n",
    "stocks = pd.read_csv(r'C:\\Users\\user\\Downloads\\sp_500_stocks.csv')\n",
    "print (stocks)\n",
    "type(stocks)\n",
    "stocks['Ticker']\n"
   ]
  },
  {
   "cell_type": "markdown",
   "metadata": {
    "slideshow": {
     "slide_type": "slide"
    }
   },
   "source": [
    "## Acquiring an API Token\n",
    "\n",
    "Now it's time to import our IEX Cloud API token. This is the data provider that we will be using throughout this course.\n",
    "\n",
    "API tokens (and other sensitive information) should be stored in a `secrets.py` file that doesn't get pushed to your local Git repository. We'll be using a sandbox API token in this course, which means that the data we'll use is randomly-generated and (more importantly) has no cost associated with it.\n",
    "\n",
    "[Click here](http://nickmccullum.com/algorithmic-trading-python/secrets.py) to download your `secrets.py` file. Move the file into the same directory as this Jupyter Notebook before proceeding."
   ]
  },
  {
   "cell_type": "code",
   "execution_count": 18,
   "metadata": {
    "slideshow": {
     "slide_type": "slide"
    }
   },
   "outputs": [],
   "source": [
    "from secrets import IEX_CLOUD_API_TOKEN"
   ]
  },
  {
   "cell_type": "markdown",
   "metadata": {
    "slideshow": {
     "slide_type": "slide"
    }
   },
   "source": [
    "## Making Our First API Call\n",
    "\n",
    "Now it's time to structure our API calls to IEX cloud. \n",
    "\n",
    "We need the following information from the API:\n",
    "\n",
    "* Market capitalization for each stock\n",
    "* Price of each stock\n",
    "\n"
   ]
  },
  {
   "cell_type": "code",
   "execution_count": 27,
   "metadata": {
    "slideshow": {
     "slide_type": "slide"
    }
   },
   "outputs": [
    {
     "name": "stdout",
     "output_type": "stream",
     "text": [
      "Tpk_059b97af715d417d9f49f50b51b1c448\n"
     ]
    },
    {
     "data": {
      "text/plain": [
       "{'avgTotalVolume': 66457844,\n",
       " 'calculationPrice': 'close',\n",
       " 'change': 4.98,\n",
       " 'changePercent': 0.037,\n",
       " 'close': 148.5,\n",
       " 'closeSource': 'ciffaoli',\n",
       " 'closeTime': 1691923682011,\n",
       " 'companyName': 'Amazon.com Inc.',\n",
       " 'currency': 'USD',\n",
       " 'delayedPrice': 146.32,\n",
       " 'delayedPriceTime': 1669594263210,\n",
       " 'extendedChange': -0.01,\n",
       " 'extendedChangePercent': -7e-05,\n",
       " 'extendedPrice': 148.83,\n",
       " 'extendedPriceTime': 1694111769365,\n",
       " 'high': 149.58,\n",
       " 'highSource': 'uinyder1e eepidl5ca t m',\n",
       " 'highTime': 1682824459462,\n",
       " 'iexAskPrice': 0,\n",
       " 'iexAskSize': 0,\n",
       " 'iexBidPrice': 0,\n",
       " 'iexBidSize': 0,\n",
       " 'iexClose': 142.77,\n",
       " 'iexCloseTime': 1722439716859,\n",
       " 'iexLastUpdated': 1666845480835,\n",
       " 'iexMarketPercent': 0.02184789163695241,\n",
       " 'iexOpen': 147.137,\n",
       " 'iexOpenTime': 1715523300555,\n",
       " 'iexRealtimePrice': 148.98,\n",
       " 'iexRealtimeSize': 208,\n",
       " 'iexVolume': 1219706,\n",
       " 'lastTradeTime': 1718181414878,\n",
       " 'latestPrice': 144.78,\n",
       " 'latestSource': 'Close',\n",
       " 'latestTime': 'August 10, 2022',\n",
       " 'latestUpdate': 1665221243354,\n",
       " 'latestVolume': 56990388,\n",
       " 'low': 142.24,\n",
       " 'lowSource': '1e  tnuaydeimeer5dpil c',\n",
       " 'lowTime': 1678580168075,\n",
       " 'marketCap': 1507019399029,\n",
       " 'oddLotDelayedPrice': 147.259,\n",
       " 'oddLotDelayedPriceTime': 1738025218723,\n",
       " 'open': 149.58,\n",
       " 'openTime': 1673499109595,\n",
       " 'openSource': 'iilcffao',\n",
       " 'peRatio': 131.9,\n",
       " 'previousClose': 138.27,\n",
       " 'previousVolume': 42107833,\n",
       " 'primaryExchange': 'ASQADN',\n",
       " 'symbol': 'AMZN',\n",
       " 'volume': 56395115,\n",
       " 'week52High': 195.06,\n",
       " 'week52Low': 102.54,\n",
       " 'ytdChange': -0.1424416454311127,\n",
       " 'isUSMarketOpen': False}"
      ]
     },
     "execution_count": 27,
     "metadata": {},
     "output_type": "execute_result"
    }
   ],
   "source": [
    "symbol='AMZN'\n",
    "print(IEX_CLOUD_API_TOKEN)\n",
    "##IEX_CLOUD_API_TOKEN=\"059b97af715d417d9f49f50b51b1c448\"\n",
    "api_url = f'https://sandbox.iexapis.com/stable/stock/{symbol}/quote?token={IEX_CLOUD_API_TOKEN}'\n",
    "data = requests.get(api_url).json()\n",
    "data"
   ]
  },
  {
   "cell_type": "markdown",
   "metadata": {
    "slideshow": {
     "slide_type": "slide"
    }
   },
   "source": [
    "## Parsing Our API Call\n",
    "\n",
    "The API call that we executed in the last code block contains all of the information required to build our equal-weight S&P 500 strategy. \n",
    "\n",
    "With that said, the data isn't in a proper format yet. We need to parse it first."
   ]
  },
  {
   "cell_type": "code",
   "execution_count": 28,
   "metadata": {
    "slideshow": {
     "slide_type": "slide"
    }
   },
   "outputs": [
    {
     "name": "stdout",
     "output_type": "stream",
     "text": [
      "144.78\n",
      "1507019399029\n"
     ]
    }
   ],
   "source": [
    "print(data['latestPrice'])\n",
    "print(data['marketCap'])"
   ]
  },
  {
   "cell_type": "markdown",
   "metadata": {
    "slideshow": {
     "slide_type": "slide"
    }
   },
   "source": [
    "## Adding Our Stocks Data to a Pandas DataFrame\n",
    "\n",
    "The next thing we need to do is add our stock's price and market capitalization to a pandas DataFrame. Think of a DataFrame like the Python version of a spreadsheet. It stores tabular data."
   ]
  },
  {
   "cell_type": "code",
   "execution_count": 29,
   "metadata": {
    "slideshow": {
     "slide_type": "subslide"
    }
   },
   "outputs": [
    {
     "data": {
      "text/html": [
       "<div>\n",
       "<style scoped>\n",
       "    .dataframe tbody tr th:only-of-type {\n",
       "        vertical-align: middle;\n",
       "    }\n",
       "\n",
       "    .dataframe tbody tr th {\n",
       "        vertical-align: top;\n",
       "    }\n",
       "\n",
       "    .dataframe thead th {\n",
       "        text-align: right;\n",
       "    }\n",
       "</style>\n",
       "<table border=\"1\" class=\"dataframe\">\n",
       "  <thead>\n",
       "    <tr style=\"text-align: right;\">\n",
       "      <th></th>\n",
       "      <th>Ticker</th>\n",
       "      <th>Price</th>\n",
       "      <th>Market Capitalization</th>\n",
       "      <th>Number Of Shares to Buy</th>\n",
       "    </tr>\n",
       "  </thead>\n",
       "  <tbody>\n",
       "  </tbody>\n",
       "</table>\n",
       "</div>"
      ],
      "text/plain": [
       "Empty DataFrame\n",
       "Columns: [Ticker, Price, Market Capitalization, Number Of Shares to Buy]\n",
       "Index: []"
      ]
     },
     "execution_count": 29,
     "metadata": {},
     "output_type": "execute_result"
    }
   ],
   "source": [
    "my_columns = ['Ticker', 'Price','Market Capitalization', 'Number Of Shares to Buy']\n",
    "sp_dataframe = pd.DataFrame(columns = my_columns)\n",
    "sp_dataframe"
   ]
  },
  {
   "cell_type": "code",
   "execution_count": 30,
   "metadata": {
    "slideshow": {
     "slide_type": "subslide"
    }
   },
   "outputs": [
    {
     "data": {
      "text/html": [
       "<div>\n",
       "<style scoped>\n",
       "    .dataframe tbody tr th:only-of-type {\n",
       "        vertical-align: middle;\n",
       "    }\n",
       "\n",
       "    .dataframe tbody tr th {\n",
       "        vertical-align: top;\n",
       "    }\n",
       "\n",
       "    .dataframe thead th {\n",
       "        text-align: right;\n",
       "    }\n",
       "</style>\n",
       "<table border=\"1\" class=\"dataframe\">\n",
       "  <thead>\n",
       "    <tr style=\"text-align: right;\">\n",
       "      <th></th>\n",
       "      <th>Ticker</th>\n",
       "      <th>Price</th>\n",
       "      <th>Market Capitalization</th>\n",
       "      <th>Number Of Shares to Buy</th>\n",
       "    </tr>\n",
       "  </thead>\n",
       "  <tbody>\n",
       "    <tr>\n",
       "      <th>0</th>\n",
       "      <td>AMZN</td>\n",
       "      <td>144.78</td>\n",
       "      <td>1507019399029</td>\n",
       "      <td>N/A</td>\n",
       "    </tr>\n",
       "  </tbody>\n",
       "</table>\n",
       "</div>"
      ],
      "text/plain": [
       "  Ticker   Price Market Capitalization Number Of Shares to Buy\n",
       "0   AMZN  144.78         1507019399029                     N/A"
      ]
     },
     "execution_count": 30,
     "metadata": {},
     "output_type": "execute_result"
    }
   ],
   "source": [
    "\n",
    "sp_dataframe = sp_dataframe.append(\n",
    "                                        pd.Series(['AMZN', \n",
    "                                                   data['latestPrice'], \n",
    "                                                   data['marketCap'], \n",
    "                                                   'N/A'], \n",
    "                                                  index = my_columns), \n",
    "                                        ignore_index = True)\n",
    "sp_dataframe"
   ]
  },
  {
   "cell_type": "markdown",
   "metadata": {
    "slideshow": {
     "slide_type": "slide"
    }
   },
   "source": [
    "## Looping Through The Tickers in Our List of Stocks\n",
    "\n",
    "Using the same logic that we outlined above, we can pull data for all S&P 500 stocks and store their data in the DataFrame using a `for` loop."
   ]
  },
  {
   "cell_type": "code",
   "execution_count": 31,
   "metadata": {
    "slideshow": {
     "slide_type": "slide"
    }
   },
   "outputs": [
    {
     "name": "stdout",
     "output_type": "stream",
     "text": [
      "    Ticker\n",
      "0        A\n",
      "1      AAL\n",
      "2      AAP\n",
      "3     AAPL\n",
      "4     ABBV\n",
      "..     ...\n",
      "496    YUM\n",
      "497    ZBH\n",
      "498   ZBRA\n",
      "499   ZION\n",
      "500    ZTS\n",
      "\n",
      "[501 rows x 1 columns]\n",
      "https://sandbox.iexapis.com/stable/stock/A/quote?token=Tpk_059b97af715d417d9f49f50b51b1c448\n",
      "{'avgTotalVolume': 1343584, 'calculationPrice': 'close', 'change': 3.8, 'changePercent': 0.02992, 'close': 136.07, 'closeSource': 'flfioaci', 'closeTime': 1736874028816, 'companyName': 'Agilent Technologies Inc.', 'currency': 'USD', 'delayedPrice': 137.14, 'delayedPriceTime': 1680160366233, 'extendedChange': -0.29, 'extendedChangePercent': -0.00215, 'extendedPrice': 136.9, 'extendedPriceTime': 1691381537127, 'high': 138.11, 'highSource': ' nde5p di1 etramcylieeu', 'highTime': 1682642439178, 'iexAskPrice': 0, 'iexAskSize': 0, 'iexBidPrice': 0, 'iexBidSize': 0, 'iexClose': 136.79, 'iexCloseTime': 1663000219872, 'iexLastUpdated': 1724948671084, 'iexMarketPercent': 0.06948167466686514, 'iexOpen': 137.18, 'iexOpenTime': 1681180442480, 'iexRealtimePrice': 133.98, 'iexRealtimeSize': 100, 'iexVolume': 70984, 'lastTradeTime': 1736515967365, 'latestPrice': 133.15, 'latestSource': 'Close', 'latestTime': 'August 10, 2022', 'latestUpdate': 1735260812355, 'latestVolume': 1060407, 'low': 132.53, 'lowSource': 'erpe tl X eEiIracim', 'lowTime': 1709282168929, 'marketCap': 40431839582, 'oddLotDelayedPrice': 132.9, 'oddLotDelayedPriceTime': 1705922913783, 'open': 132.53, 'openTime': 1684198028807, 'openSource': 'aoiiffcl', 'peRatio': 32.95, 'previousClose': 130.92, 'previousVolume': 920653, 'primaryExchange': '  WN.E H GYIACTNKESONEKCXOCR', 'symbol': 'A', 'volume': 1069232, 'week52High': 186.93, 'week52Low': 116.65, 'ytdChange': -0.1616798419107296, 'isUSMarketOpen': False}\n",
      "  Ticker   Price Market Capitalization Number Of Shares to Buy\n",
      "0      A  133.15           40431839582                     N/A\n",
      "https://sandbox.iexapis.com/stable/stock/AAL/quote?token=Tpk_059b97af715d417d9f49f50b51b1c448\n",
      "{'avgTotalVolume': 34722982, 'calculationPrice': 'close', 'change': 0.46, 'changePercent': 0.03094, 'close': 15.32, 'closeSource': 'oaclfiif', 'closeTime': 1736893273014, 'companyName': 'American Airlines Group Inc', 'currency': 'USD', 'delayedPrice': 15.55, 'delayedPriceTime': 1687701733663, 'extendedChange': 0.03, 'extendedChangePercent': 0.00209, 'extendedPrice': 15.6, 'extendedPriceTime': 1732779632992, 'high': 15.84, 'highSource': 'aecuy el tdedrimni15 ep', 'highTime': 1688736565495, 'iexAskPrice': 0, 'iexAskSize': 0, 'iexBidPrice': 0, 'iexBidSize': 0, 'iexClose': 15.69, 'iexCloseTime': 1707390586584, 'iexLastUpdated': 1718794657386, 'iexMarketPercent': 0.013677781611411385, 'iexOpen': 15.27, 'iexOpenTime': 1671752170500, 'iexRealtimePrice': 15.79, 'iexRealtimeSize': 86, 'iexVolume': 424656, 'lastTradeTime': 1662931853496, 'latestPrice': 15.62, 'latestSource': 'Close', 'latestTime': 'August 10, 2022', 'latestUpdate': 1687045768775, 'latestVolume': 32604005, 'low': 15.06, 'lowSource': 'peed  ilc5tar1 meeyundi', 'lowTime': 1738362900946, 'marketCap': 10270551297, 'oddLotDelayedPrice': 15.186, 'oddLotDelayedPriceTime': 1676484566976, 'open': 15.7, 'openTime': 1678335976924, 'openSource': 'caiolfif', 'peRatio': -5.4, 'previousClose': 15.26, 'previousVolume': 23853663, 'primaryExchange': 'AANDSQ', 'symbol': 'AAL', 'volume': 33899013, 'week52High': 22.52, 'week52Low': 11.94, 'ytdChange': -0.15542801667078307, 'isUSMarketOpen': False}\n",
      "  Ticker   Price Market Capitalization Number Of Shares to Buy\n",
      "0      A  133.15           40431839582                     N/A\n",
      "1    AAL   15.62           10270551297                     N/A\n",
      "https://sandbox.iexapis.com/stable/stock/AAP/quote?token=Tpk_059b97af715d417d9f49f50b51b1c448\n",
      "{'avgTotalVolume': 622745, 'calculationPrice': 'close', 'change': 3, 'changePercent': 0.01543, 'close': 196.91, 'closeSource': 'ilcfoafi', 'closeTime': 1697751253605, 'companyName': 'Advance Auto Parts Inc', 'currency': 'USD', 'delayedPrice': 197.79, 'delayedPriceTime': 1740852515065, 'extendedChange': 0.06, 'extendedChangePercent': 0.00032, 'extendedPrice': 197.4, 'extendedPriceTime': 1709077592906, 'high': 205.05, 'highSource': ' mEep IlierieacXr t', 'highTime': 1672503136859, 'iexAskPrice': 0, 'iexAskSize': 0, 'iexBidPrice': 0, 'iexBidSize': 0, 'iexClose': 198.72, 'iexCloseTime': 1694130814823, 'iexLastUpdated': 1723677695504, 'iexMarketPercent': 0.06148630885674351, 'iexOpen': 201.9, 'iexOpenTime': 1735480738015, 'iexRealtimePrice': 195.5, 'iexRealtimeSize': 8, 'iexVolume': 33229, 'lastTradeTime': 1664631273984, 'latestPrice': 195.3, 'latestSource': 'Close', 'latestTime': 'August 10, 2022', 'latestUpdate': 1694024499043, 'latestVolume': 577412, 'low': 196.91, 'lowSource': 'cdrydlnt5 ee  i1epuemai', 'lowTime': 1728474692027, 'marketCap': 11812453451, 'oddLotDelayedPrice': 198.63, 'oddLotDelayedPriceTime': 1671851030871, 'open': 200.5, 'openTime': 1732854737429, 'openSource': 'liofiafc', 'peRatio': 21.82, 'previousClose': 195.5, 'previousVolume': 402286, 'primaryExchange': 'NENK KOCCRE NO TGEWCSY. AIXH', 'symbol': 'AAP', 'volume': 567378, 'week52High': 250.71, 'week52Low': 166, 'ytdChange': -0.1783790849949843, 'isUSMarketOpen': False}\n",
      "  Ticker   Price Market Capitalization Number Of Shares to Buy\n",
      "0      A  133.15           40431839582                     N/A\n",
      "1    AAL   15.62           10270551297                     N/A\n",
      "2    AAP  195.30           11812453451                     N/A\n",
      "https://sandbox.iexapis.com/stable/stock/AAPL/quote?token=Tpk_059b97af715d417d9f49f50b51b1c448\n",
      "{'avgTotalVolume': 73279806, 'calculationPrice': 'close', 'change': 4.43, 'changePercent': 0.02722, 'close': 173.19, 'closeSource': 'lfiafcio', 'closeTime': 1682080956898, 'companyName': 'Apple Inc', 'currency': 'USD', 'delayedPrice': 171.89, 'delayedPriceTime': 1668040339806, 'extendedChange': -0.09, 'extendedChangePercent': -0.00054, 'extendedPrice': 173.13, 'extendedPriceTime': 1679171256109, 'high': 173.19, 'highSource': 'e r5leipmanc dyeue tdi1', 'highTime': 1705375985248, 'iexAskPrice': 0, 'iexAskSize': 0, 'iexBidPrice': 0, 'iexBidSize': 0, 'iexClose': 171.82, 'iexCloseTime': 1715692130708, 'iexLastUpdated': 1730000554872, 'iexMarketPercent': 0.0220470551532696, 'iexOpen': 174.82, 'iexOpenTime': 1703287246844, 'iexRealtimePrice': 169.82, 'iexRealtimeSize': 9, 'iexVolume': 1564207, 'lastTradeTime': 1677644789710, 'latestPrice': 173.93, 'latestSource': 'Close', 'latestTime': 'August 10, 2022', 'latestUpdate': 1724687061509, 'latestVolume': 71660942, 'low': 168.2, 'lowSource': 'u1rme dtline i ydae5pec', 'lowTime': 1661008075086, 'marketCap': 2844042532935, 'oddLotDelayedPrice': 173.01, 'oddLotDelayedPriceTime': 1686788473163, 'open': 168.6, 'openTime': 1661891721025, 'openSource': 'oifciafl', 'peRatio': 28.64, 'previousClose': 165.79, 'previousVolume': 63142711, 'primaryExchange': 'QAASND', 'symbol': 'AAPL', 'volume': 72875674, 'week52High': 182.91, 'week52Low': 129.67, 'ytdChange': -0.04137011577472854, 'isUSMarketOpen': False}\n",
      "  Ticker   Price Market Capitalization Number Of Shares to Buy\n",
      "0      A  133.15           40431839582                     N/A\n",
      "1    AAL   15.62           10270551297                     N/A\n",
      "2    AAP  195.30           11812453451                     N/A\n",
      "3   AAPL  173.93         2844042532935                     N/A\n",
      "https://sandbox.iexapis.com/stable/stock/ABBV/quote?token=Tpk_059b97af715d417d9f49f50b51b1c448\n",
      "{'avgTotalVolume': 6138219, 'calculationPrice': 'close', 'change': 0.7, 'changePercent': 0.00501, 'close': 147.88, 'closeSource': 'laocfiif', 'closeTime': 1677608694286, 'companyName': 'Abbvie Inc', 'currency': 'USD', 'delayedPrice': 147.7, 'delayedPriceTime': 1717769795968, 'extendedChange': -0.61, 'extendedChangePercent': -0.00438, 'extendedPrice': 143.28, 'extendedPriceTime': 1741530165942, 'high': 147.88, 'highSource': 'm ieianye5el cerdt d1up', 'highTime': 1737927436886, 'iexAskPrice': 0, 'iexAskSize': 0, 'iexBidPrice': 0, 'iexBidSize': 0, 'iexClose': 143.91, 'iexCloseTime': 1695438807098, 'iexLastUpdated': 1736977423591, 'iexMarketPercent': 0.03512785982641874, 'iexOpen': 143.42, 'iexOpenTime': 1691702581674, 'iexRealtimePrice': 143.11, 'iexRealtimeSize': 26, 'iexVolume': 144444, 'lastTradeTime': 1696707705843, 'latestPrice': 141.27, 'latestSource': 'Close', 'latestTime': 'August 10, 2022', 'latestUpdate': 1735500401455, 'latestVolume': 4243824, 'low': 142, 'lowSource': 'it1pneieaddume e r5cyl ', 'lowTime': 1707805050787, 'marketCap': 254800911851, 'oddLotDelayedPrice': 143.4, 'oddLotDelayedPriceTime': 1679966013606, 'open': 142.22, 'openTime': 1712167021569, 'openSource': 'afliicfo', 'peRatio': 20, 'previousClose': 142.42, 'previousVolume': 3865880, 'primaryExchange': 'K ACRISKWYX NTO.CE CNNOGE HE', 'symbol': 'ABBV', 'volume': 4151688, 'week52High': 176.16, 'week52Low': 106.11, 'ytdChange': 0.07137222233802686, 'isUSMarketOpen': False}\n",
      "  Ticker   Price Market Capitalization Number Of Shares to Buy\n",
      "0      A  133.15           40431839582                     N/A\n",
      "1    AAL   15.62           10270551297                     N/A\n",
      "2    AAP  195.30           11812453451                     N/A\n",
      "3   AAPL  173.93         2844042532935                     N/A\n",
      "4   ABBV  141.27          254800911851                     N/A\n",
      "https://sandbox.iexapis.com/stable/stock/ABC/quote?token=Tpk_059b97af715d417d9f49f50b51b1c448\n",
      "{'avgTotalVolume': 1001391, 'calculationPrice': 'close', 'change': 0.89, 'changePercent': 0.00601, 'close': 148.21, 'closeSource': 'liffaoci', 'closeTime': 1685456600596, 'companyName': 'Amerisource Bergen Corp.', 'currency': 'USD', 'delayedPrice': 151.11, 'delayedPriceTime': 1677183688085, 'extendedChange': 0, 'extendedChangePercent': 0, 'extendedPrice': 147.36, 'extendedPriceTime': 1669660912271, 'high': 149.71, 'highSource': 'd ey a1lmecenitpir ude5', 'highTime': 1708967991628, 'iexAskPrice': 0, 'iexAskSize': 0, 'iexBidPrice': 0, 'iexBidSize': 0, 'iexClose': 150.82, 'iexCloseTime': 1669545385561, 'iexLastUpdated': 1692210799341, 'iexMarketPercent': 0.06038678091340797, 'iexOpen': 152.41, 'iexOpenTime': 1720643376290, 'iexRealtimePrice': 148.25, 'iexRealtimeSize': 1, 'iexVolume': 46892, 'lastTradeTime': 1691919332483, 'latestPrice': 149.86, 'latestSource': 'Close', 'latestTime': 'August 10, 2022', 'latestUpdate': 1690113251874, 'latestVolume': 801796, 'low': 148.05, 'lowSource': 'e1r ydi5te dp icneamelu', 'lowTime': 1717983341605, 'marketCap': 30807390675, 'oddLotDelayedPrice': 152.57, 'oddLotDelayedPriceTime': 1671933750668, 'open': 148.05, 'openTime': 1665063122225, 'openSource': 'cioflafi', 'peRatio': 17.27, 'previousClose': 145.03, 'previousVolume': 1419905, 'primaryExchange': 'TH WAECCKS XOGNRI YOE.EKNC N', 'symbol': 'ABC', 'volume': 802955, 'week52High': 167.97, 'week52Low': 115.81, 'ytdChange': 0.1068862593024496, 'isUSMarketOpen': False}\n",
      "  Ticker   Price Market Capitalization Number Of Shares to Buy\n",
      "0      A  133.15           40431839582                     N/A\n",
      "1    AAL   15.62           10270551297                     N/A\n",
      "2    AAP  195.30           11812453451                     N/A\n",
      "3   AAPL  173.93         2844042532935                     N/A\n",
      "4   ABBV  141.27          254800911851                     N/A\n",
      "5    ABC  149.86           30807390675                     N/A\n",
      "https://sandbox.iexapis.com/stable/stock/ABMD/quote?token=Tpk_059b97af715d417d9f49f50b51b1c448\n",
      "{'avgTotalVolume': 263004, 'calculationPrice': 'close', 'change': 11.94, 'changePercent': 0.04251, 'close': 307.3, 'closeSource': 'flicioaf', 'closeTime': 1741881861058, 'companyName': 'Abiomed Inc.', 'currency': 'USD', 'delayedPrice': 301.06, 'delayedPriceTime': 1701776339500, 'extendedChange': 0.05, 'extendedChangePercent': 0.00018, 'extendedPrice': 299.41, 'extendedPriceTime': 1672410845669, 'high': 307.3, 'highSource': 're ed5uit1edy  eacmnlip', 'highTime': 1741381902928, 'iexAskPrice': 0, 'iexAskSize': 0, 'iexBidPrice': 0, 'iexBidSize': 0, 'iexClose': 294.68, 'iexCloseTime': 1742954948272, 'iexLastUpdated': 1692653884748, 'iexMarketPercent': 0.09474105437340966, 'iexOpen': 294.87, 'iexOpenTime': 1741530017870, 'iexRealtimePrice': 302.76, 'iexRealtimeSize': 42, 'iexVolume': 18765, 'lastTradeTime': 1671205444407, 'latestPrice': 297.24, 'latestSource': 'Close', 'latestTime': 'August 10, 2022', 'latestUpdate': 1677093549684, 'latestVolume': 195629, 'low': 297.75, 'lowSource': 'IErecXaiprmeli e  t', 'lowTime': 1678176052460, 'marketCap': 13844888291, 'oddLotDelayedPrice': 298.45, 'oddLotDelayedPriceTime': 1660436193903, 'open': 297.75, 'openTime': 1668989496722, 'openSource': 'olaiffic', 'peRatio': 64.4, 'previousClose': 293.62, 'previousVolume': 197956, 'primaryExchange': 'NQADAS', 'symbol': 'ABMD', 'volume': 197432, 'week52High': 392.9, 'week52Low': 221.25, 'ytdChange': -0.1820282152741252, 'isUSMarketOpen': False}\n",
      "  Ticker   Price Market Capitalization Number Of Shares to Buy\n",
      "0      A  133.15           40431839582                     N/A\n",
      "1    AAL   15.62           10270551297                     N/A\n",
      "2    AAP  195.30           11812453451                     N/A\n",
      "3   AAPL  173.93         2844042532935                     N/A\n",
      "4   ABBV  141.27          254800911851                     N/A\n",
      "5    ABC  149.86           30807390675                     N/A\n",
      "6   ABMD  297.24           13844888291                     N/A\n",
      "https://sandbox.iexapis.com/stable/stock/ABT/quote?token=Tpk_059b97af715d417d9f49f50b51b1c448\n",
      "{'avgTotalVolume': 4461510, 'calculationPrice': 'close', 'change': 2.39, 'changePercent': 0.02204, 'close': 114.82, 'closeSource': 'alifcoif', 'closeTime': 1692481151916, 'companyName': 'Abbott Laboratories', 'currency': 'USD', 'delayedPrice': 111.83, 'delayedPriceTime': 1738771687582, 'extendedChange': -0.27, 'extendedChangePercent': -0.00257, 'extendedPrice': 114, 'extendedPriceTime': 1691338501104, 'high': 114.82, 'highSource': 'cr5yeli pe1ma dt enuide', 'highTime': 1661151222395, 'iexAskPrice': 0, 'iexAskSize': 0, 'iexBidPrice': 0, 'iexBidSize': 0, 'iexClose': 111.94, 'iexCloseTime': 1738669019890, 'iexLastUpdated': 1698014486443, 'iexMarketPercent': 0.04460744793183995, 'iexOpen': 113.66, 'iexOpenTime': 1682125489656, 'iexRealtimePrice': 113.25, 'iexRealtimeSize': 1, 'iexVolume': 173864, 'lastTradeTime': 1715292837480, 'latestPrice': 115.13, 'latestSource': 'Close', 'latestTime': 'August 10, 2022', 'latestUpdate': 1696899932562, 'latestVolume': 4090501, 'low': 111.7, 'lowSource': 'rci le5ee1ieuyn pda dtm', 'lowTime': 1727342169886, 'marketCap': 197862727262, 'oddLotDelayedPrice': 112.35, 'oddLotDelayedPriceTime': 1730065650558, 'open': 111.88, 'openTime': 1684459292400, 'openSource': 'acfoiifl', 'peRatio': 23.95, 'previousClose': 110.06, 'previousVolume': 4089698, 'primaryExchange': 'HC.OGCTEEY NAO I KE KSWNCNXR', 'symbol': 'ABT', 'volume': 4101864, 'week52High': 145.76, 'week52Low': 101.89, 'ytdChange': -0.2071187327351811, 'isUSMarketOpen': False}\n",
      "  Ticker   Price Market Capitalization Number Of Shares to Buy\n",
      "0      A  133.15           40431839582                     N/A\n",
      "1    AAL   15.62           10270551297                     N/A\n",
      "2    AAP  195.30           11812453451                     N/A\n",
      "3   AAPL  173.93         2844042532935                     N/A\n",
      "4   ABBV  141.27          254800911851                     N/A\n",
      "5    ABC  149.86           30807390675                     N/A\n",
      "6   ABMD  297.24           13844888291                     N/A\n",
      "7    ABT  115.13          197862727262                     N/A\n",
      "https://sandbox.iexapis.com/stable/stock/ACN/quote?token=Tpk_059b97af715d417d9f49f50b51b1c448\n",
      "{'avgTotalVolume': 1837129, 'calculationPrice': 'close', 'change': 7.02, 'changePercent': 0.0222, 'close': 331.01, 'closeSource': 'liifaocf', 'closeTime': 1685696279145, 'companyName': 'Accenture plc - Class A', 'currency': 'USD', 'delayedPrice': 322.79, 'delayedPriceTime': 1688746628148, 'extendedChange': -0.01, 'extendedChangePercent': -3e-05, 'extendedPrice': 328.01, 'extendedPriceTime': 1667218732479, 'high': 331.01, 'highSource': 'Xele  rp rmaiticEIe', 'highTime': 1689894900016, 'iexAskPrice': 0, 'iexAskSize': 0, 'iexBidPrice': 0, 'iexBidSize': 0, 'iexClose': 329.92, 'iexCloseTime': 1702972902867, 'iexLastUpdated': 1668464854078, 'iexMarketPercent': 0.044994109222083, 'iexOpen': 323.19, 'iexOpenTime': 1699831003625, 'iexRealtimePrice': 322.62, 'iexRealtimeSize': 11, 'iexVolume': 65519, 'lastTradeTime': 1675191624167, 'latestPrice': 319.99, 'latestSource': 'Close', 'latestTime': 'August 10, 2022', 'latestUpdate': 1662298668308, 'latestVolume': 1524894, 'low': 318.36, 'lowSource': 'ualid nieyedrmctep e1 5', 'lowTime': 1722118177309, 'marketCap': 210655940996, 'oddLotDelayedPrice': 318.76, 'oddLotDelayedPriceTime': 1671887739464, 'open': 319, 'openTime': 1662205476412, 'openSource': 'fiioafcl', 'peRatio': 31.82, 'previousClose': 321.49, 'previousVolume': 1835212, 'primaryExchange': 'NGHAIC EN W TNKESEYKXRCOO.C ', 'symbol': 'ACN', 'volume': 1500146, 'week52High': 425.58, 'week52Low': 272.9, 'ytdChange': -0.2309336183260384, 'isUSMarketOpen': False}\n",
      "  Ticker   Price Market Capitalization Number Of Shares to Buy\n",
      "0      A  133.15           40431839582                     N/A\n",
      "1    AAL   15.62           10270551297                     N/A\n",
      "2    AAP  195.30           11812453451                     N/A\n",
      "3   AAPL  173.93         2844042532935                     N/A\n",
      "4   ABBV  141.27          254800911851                     N/A\n",
      "5    ABC  149.86           30807390675                     N/A\n",
      "6   ABMD  297.24           13844888291                     N/A\n",
      "7    ABT  115.13          197862727262                     N/A\n",
      "8    ACN  319.99          210655940996                     N/A\n",
      "https://sandbox.iexapis.com/stable/stock/ADBE/quote?token=Tpk_059b97af715d417d9f49f50b51b1c448\n",
      "{'avgTotalVolume': 2316659, 'calculationPrice': 'close', 'change': 12.29, 'changePercent': 0.02847, 'close': 443.3, 'closeSource': 'lficfiao', 'closeTime': 1685237440425, 'companyName': 'Adobe Inc', 'currency': 'USD', 'delayedPrice': 442.51, 'delayedPriceTime': 1717729582263, 'extendedChange': 0.4, 'extendedChangePercent': 0.00092, 'extendedPrice': 442.4, 'extendedPriceTime': 1689694781491, 'high': 457.04, 'highSource': 'ep ld5i1 tcuen erydimea', 'highTime': 1740857207343, 'iexAskPrice': 0, 'iexAskSize': 0, 'iexBidPrice': 0, 'iexBidSize': 0, 'iexClose': 446.2, 'iexCloseTime': 1717877049529, 'iexLastUpdated': 1690578714927, 'iexMarketPercent': 0.0681484438193594, 'iexOpen': 447.89, 'iexOpenTime': 1690307460050, 'iexRealtimePrice': 444.2, 'iexRealtimeSize': 8, 'iexVolume': 174335, 'lastTradeTime': 1677119056841, 'latestPrice': 439.7, 'latestSource': 'Close', 'latestTime': 'August 10, 2022', 'latestUpdate': 1708234487090, 'latestVolume': 2697675, 'low': 443.3, 'lowSource': 'mdieiae c ute1l5ep dyrn', 'lowTime': 1687602160568, 'marketCap': 209611844065, 'oddLotDelayedPrice': 455.356, 'oddLotDelayedPriceTime': 1726434115773, 'open': 457.04, 'openTime': 1721093606718, 'openSource': 'ififlaoc', 'peRatio': 44.75, 'previousClose': 438.19, 'previousVolume': 2000263, 'primaryExchange': 'DQANAS', 'symbol': 'ADBE', 'volume': 2644551, 'week52High': 730.57, 'week52Low': 351, 'ytdChange': -0.22016483073437937, 'isUSMarketOpen': False}\n",
      "  Ticker   Price Market Capitalization Number Of Shares to Buy\n",
      "0      A  133.15           40431839582                     N/A\n",
      "1    AAL   15.62           10270551297                     N/A\n",
      "2    AAP  195.30           11812453451                     N/A\n",
      "3   AAPL  173.93         2844042532935                     N/A\n",
      "4   ABBV  141.27          254800911851                     N/A\n",
      "5    ABC  149.86           30807390675                     N/A\n",
      "6   ABMD  297.24           13844888291                     N/A\n",
      "7    ABT  115.13          197862727262                     N/A\n",
      "8    ACN  319.99          210655940996                     N/A\n",
      "9   ADBE  439.70          209611844065                     N/A\n",
      "https://sandbox.iexapis.com/stable/stock/ADI/quote?token=Tpk_059b97af715d417d9f49f50b51b1c448\n",
      "{'avgTotalVolume': 3242833, 'calculationPrice': 'close', 'change': 4.73, 'changePercent': 0.0283, 'close': 178.46, 'closeSource': 'acffoili', 'closeTime': 1742373523471, 'companyName': 'Analog Devices Inc.', 'currency': 'USD', 'delayedPrice': 182.09, 'delayedPriceTime': 1716063688879, 'extendedChange': 0, 'extendedChangePercent': 0, 'extendedPrice': 180.88, 'extendedPriceTime': 1670420950774, 'high': 178.97, 'highSource': 'dndi5 eteurpmc1 y aleie', 'highTime': 1702275051061, 'iexAskPrice': 0, 'iexAskSize': 0, 'iexBidPrice': 0, 'iexBidSize': 0, 'iexClose': 183.57, 'iexCloseTime': 1717074517796, 'iexLastUpdated': 1732082289154, 'iexMarketPercent': 0.06704694401874337, 'iexOpen': 176.53, 'iexOpenTime': 1705630712791, 'iexRealtimePrice': 177.92, 'iexRealtimeSize': 1, 'iexVolume': 214586, 'lastTradeTime': 1660547185939, 'latestPrice': 178.75, 'latestSource': 'Close', 'latestTime': 'August 10, 2022', 'latestUpdate': 1675352297832, 'latestVolume': 3229649, 'low': 177.4, 'lowSource': 'ee1padicd5li e nuyrmte ', 'lowTime': 1702753279566, 'marketCap': 95234586957, 'oddLotDelayedPrice': 177.28, 'oddLotDelayedPriceTime': 1672627824946, 'open': 177.4, 'openTime': 1725197468600, 'openSource': 'lfofiiac', 'peRatio': 52.94, 'previousClose': 177.22, 'previousVolume': 3789479, 'primaryExchange': 'QADANS', 'symbol': 'ADI', 'volume': 3342418, 'week52High': 189.8, 'week52Low': 141.8, 'ytdChange': 0.00622751237619657, 'isUSMarketOpen': False}\n",
      "   Ticker   Price Market Capitalization Number Of Shares to Buy\n",
      "0       A  133.15           40431839582                     N/A\n",
      "1     AAL   15.62           10270551297                     N/A\n",
      "2     AAP  195.30           11812453451                     N/A\n",
      "3    AAPL  173.93         2844042532935                     N/A\n",
      "4    ABBV  141.27          254800911851                     N/A\n",
      "5     ABC  149.86           30807390675                     N/A\n",
      "6    ABMD  297.24           13844888291                     N/A\n",
      "7     ABT  115.13          197862727262                     N/A\n",
      "8     ACN  319.99          210655940996                     N/A\n",
      "9    ADBE  439.70          209611844065                     N/A\n",
      "10    ADI  178.75           95234586957                     N/A\n",
      "https://sandbox.iexapis.com/stable/stock/ADM/quote?token=Tpk_059b97af715d417d9f49f50b51b1c448\n",
      "{'avgTotalVolume': 2825150, 'calculationPrice': 'close', 'change': 0.75, 'changePercent': 0.009, 'close': 84.4, 'closeSource': 'fficaiol', 'closeTime': 1679199099916, 'companyName': 'Archer Daniels Midland Co.', 'currency': 'USD', 'delayedPrice': 84.5, 'delayedPriceTime': 1667268819762, 'extendedChange': -0.1, 'extendedChangePercent': -0.0012, 'extendedPrice': 84.1, 'extendedPriceTime': 1716807649528, 'high': 87.6, 'highSource': ' 15tc yemeedpdrulianei ', 'highTime': 1693723080524, 'iexAskPrice': 0, 'iexAskSize': 0, 'iexBidPrice': 0, 'iexBidSize': 0, 'iexClose': 86.8, 'iexCloseTime': 1713008286438, 'iexLastUpdated': 1675865694291, 'iexMarketPercent': 0.05478818420539618, 'iexOpen': 86.69, 'iexOpenTime': 1675281044507, 'iexRealtimePrice': 87.7, 'iexRealtimeSize': 206, 'iexVolume': 111349, 'lastTradeTime': 1722894969147, 'latestPrice': 86.8, 'latestSource': 'Close', 'latestTime': 'August 10, 2022', 'latestUpdate': 1736608638967, 'latestVolume': 2080536, 'low': 84.4, 'lowSource': 'rm iy1etpi cdd5a enuele', 'lowTime': 1694118138771, 'marketCap': 48265848850, 'oddLotDelayedPrice': 84.39, 'oddLotDelayedPriceTime': 1717181258340, 'open': 84.83, 'openTime': 1684469550967, 'openSource': 'aliifcfo', 'peRatio': 13.57, 'previousClose': 85.47, 'previousVolume': 1798052, 'primaryExchange': 'XKCCNYGT  AONIKCEWHNOEERS  .', 'symbol': 'ADM', 'volume': 2056288, 'week52High': 100.53, 'week52Low': 58.54, 'ytdChange': 0.2520966003460844, 'isUSMarketOpen': False}\n",
      "   Ticker   Price Market Capitalization Number Of Shares to Buy\n",
      "0       A  133.15           40431839582                     N/A\n",
      "1     AAL   15.62           10270551297                     N/A\n",
      "2     AAP  195.30           11812453451                     N/A\n",
      "3    AAPL  173.93         2844042532935                     N/A\n",
      "4    ABBV  141.27          254800911851                     N/A\n",
      "5     ABC  149.86           30807390675                     N/A\n",
      "6    ABMD  297.24           13844888291                     N/A\n",
      "7     ABT  115.13          197862727262                     N/A\n",
      "8     ACN  319.99          210655940996                     N/A\n",
      "9    ADBE  439.70          209611844065                     N/A\n",
      "10    ADI  178.75           95234586957                     N/A\n",
      "11    ADM   86.80           48265848850                     N/A\n",
      "https://sandbox.iexapis.com/stable/stock/ADP/quote?token=Tpk_059b97af715d417d9f49f50b51b1c448\n",
      "{'avgTotalVolume': 1515628, 'calculationPrice': 'close', 'change': 2.78, 'changePercent': 0.01103, 'close': 262.49, 'closeSource': 'olicfifa', 'closeTime': 1661996468843, 'companyName': 'Automatic Data Processing Inc.', 'currency': 'USD', 'delayedPrice': 258.15, 'delayedPriceTime': 1689290422830, 'extendedChange': 4.93, 'extendedChangePercent': 0.01932, 'extendedPrice': 260.8, 'extendedPriceTime': 1705837888670, 'high': 267, 'highSource': 'eiedde5ei y1mp  ltnucra', 'highTime': 1704559092653, 'iexAskPrice': 264.5, 'iexAskSize': 105, 'iexBidPrice': 204.8, 'iexBidSize': 102, 'iexClose': 253.85, 'iexCloseTime': 1678453375577, 'iexLastUpdated': 1707200067048, 'iexMarketPercent': 0.07466627281156965, 'iexOpen': 257.851, 'iexOpenTime': 1699045227481, 'iexRealtimePrice': 263.67, 'iexRealtimeSize': 11, 'iexVolume': 121647, 'lastTradeTime': 1713774654288, 'latestPrice': 255.15, 'latestSource': 'Close', 'latestTime': 'August 10, 2022', 'latestUpdate': 1695478810119, 'latestVolume': 1656194, 'low': 253.82, 'lowSource': 'c1i erdpulman5tie eyd e', 'lowTime': 1688331360648, 'marketCap': 108196772148, 'oddLotDelayedPrice': 264.12, 'oddLotDelayedPriceTime': 1730937672274, 'open': 259.85, 'openTime': 1690120935936, 'openSource': 'oiciffla', 'peRatio': 37.03, 'previousClose': 253.6, 'previousVolume': 1092787, 'primaryExchange': 'NQDAAS', 'symbol': 'ADP', 'volume': 1645879, 'week52High': 266, 'week52Low': 192.4, 'ytdChange': 0.03505394336100474, 'isUSMarketOpen': False}\n",
      "   Ticker   Price Market Capitalization Number Of Shares to Buy\n",
      "0       A  133.15           40431839582                     N/A\n",
      "1     AAL   15.62           10270551297                     N/A\n",
      "2     AAP  195.30           11812453451                     N/A\n",
      "3    AAPL  173.93         2844042532935                     N/A\n",
      "4    ABBV  141.27          254800911851                     N/A\n",
      "5     ABC  149.86           30807390675                     N/A\n",
      "6    ABMD  297.24           13844888291                     N/A\n",
      "7     ABT  115.13          197862727262                     N/A\n",
      "8     ACN  319.99          210655940996                     N/A\n",
      "9    ADBE  439.70          209611844065                     N/A\n",
      "10    ADI  178.75           95234586957                     N/A\n",
      "11    ADM   86.80           48265848850                     N/A\n",
      "12    ADP  255.15          108196772148                     N/A\n",
      "https://sandbox.iexapis.com/stable/stock/ADSK/quote?token=Tpk_059b97af715d417d9f49f50b51b1c448\n",
      "{'avgTotalVolume': 1468244, 'calculationPrice': 'close', 'change': 8.2, 'changePercent': 0.0389, 'close': 237.49, 'closeSource': 'cliofafi', 'closeTime': 1671199868287, 'companyName': 'Autodesk Inc.', 'currency': 'USD', 'delayedPrice': 230.63, 'delayedPriceTime': 1667413921222, 'extendedChange': -0.24, 'extendedChangePercent': -0.00109, 'extendedPrice': 228.36, 'extendedPriceTime': 1674350876291, 'high': 237.49, 'highSource': 'pe  na1t yeemlec5udirid', 'highTime': 1679691278948, 'iexAskPrice': 0, 'iexAskSize': 0, 'iexBidPrice': 0, 'iexBidSize': 0, 'iexClose': 235.9, 'iexCloseTime': 1699996976442, 'iexLastUpdated': 1727049707669, 'iexMarketPercent': 0.05618062403092985, 'iexOpen': 227.74, 'iexOpenTime': 1707125675492, 'iexRealtimePrice': 229.07, 'iexRealtimeSize': 3, 'iexVolume': 63403, 'lastTradeTime': 1729653962122, 'latestPrice': 228.2, 'latestSource': 'Close', 'latestTime': 'August 10, 2022', 'latestUpdate': 1683176720184, 'latestVolume': 1210172, 'low': 226.233, 'lowSource': 'teenp cr5udd i1lyaeei m', 'lowTime': 1730567271265, 'marketCap': 51359572040, 'oddLotDelayedPrice': 237.49, 'oddLotDelayedPriceTime': 1697509302102, 'open': 235.64, 'openTime': 1661741811296, 'openSource': 'iflocifa', 'peRatio': 103.66, 'previousClose': 226.93, 'previousVolume': 999594, 'primaryExchange': 'SDAQNA', 'symbol': 'ADSK', 'volume': 1207561, 'week52High': 349.95, 'week52Low': 168.7, 'ytdChange': -0.19456664638531854, 'isUSMarketOpen': False}\n",
      "   Ticker   Price Market Capitalization Number Of Shares to Buy\n",
      "0       A  133.15           40431839582                     N/A\n",
      "1     AAL   15.62           10270551297                     N/A\n",
      "2     AAP  195.30           11812453451                     N/A\n",
      "3    AAPL  173.93         2844042532935                     N/A\n",
      "4    ABBV  141.27          254800911851                     N/A\n",
      "5     ABC  149.86           30807390675                     N/A\n",
      "6    ABMD  297.24           13844888291                     N/A\n",
      "7     ABT  115.13          197862727262                     N/A\n",
      "8     ACN  319.99          210655940996                     N/A\n",
      "9    ADBE  439.70          209611844065                     N/A\n",
      "10    ADI  178.75           95234586957                     N/A\n",
      "11    ADM   86.80           48265848850                     N/A\n",
      "12    ADP  255.15          108196772148                     N/A\n",
      "13   ADSK  228.20           51359572040                     N/A\n",
      "https://sandbox.iexapis.com/stable/stock/AEE/quote?token=Tpk_059b97af715d417d9f49f50b51b1c448\n",
      "{'avgTotalVolume': 1110808, 'calculationPrice': 'close', 'change': 0.49, 'changePercent': 0.00539, 'close': 97.75, 'closeSource': 'ofiaclif', 'closeTime': 1664613153686, 'companyName': 'Ameren Corp.', 'currency': 'USD', 'delayedPrice': 97.57, 'delayedPriceTime': 1684677561590, 'extendedChange': 0, 'extendedChangePercent': 0, 'extendedPrice': 94.27, 'extendedPriceTime': 1682442639873, 'high': 97.75, 'highSource': '5eiu1edl mptad rcn eiye', 'highTime': 1663597467150, 'iexAskPrice': 0, 'iexAskSize': 0, 'iexBidPrice': 0, 'iexBidSize': 0, 'iexClose': 98.07, 'iexCloseTime': 1708425133438, 'iexLastUpdated': 1671228401197, 'iexMarketPercent': 0.07760708660989099, 'iexOpen': 95.17, 'iexOpenTime': 1665884164996, 'iexRealtimePrice': 91.9, 'iexRealtimeSize': 2, 'iexVolume': 120593, 'lastTradeTime': 1670494806635, 'latestPrice': 96.71, 'latestSource': 'Close', 'latestTime': 'August 10, 2022', 'latestUpdate': 1683717383295, 'latestVolume': 1577364, 'low': 93.45, 'lowSource': 'c1n5 udeearyp ieeltimd ', 'lowTime': 1687272907426, 'marketCap': 24474644706, 'oddLotDelayedPrice': 94.45, 'oddLotDelayedPriceTime': 1718402865792, 'open': 96.94, 'openTime': 1671073391884, 'openSource': 'lofacifi', 'peRatio': 25.11, 'previousClose': 94.42, 'previousVolume': 1096587, 'primaryExchange': 'EYKN I SEX N.CCOECRWGNATHK O', 'symbol': 'AEE', 'volume': 1519490, 'week52High': 101.15, 'week52Low': 82, 'ytdChange': 0.06897146675705607, 'isUSMarketOpen': False}\n",
      "   Ticker   Price Market Capitalization Number Of Shares to Buy\n",
      "0       A  133.15           40431839582                     N/A\n",
      "1     AAL   15.62           10270551297                     N/A\n",
      "2     AAP  195.30           11812453451                     N/A\n",
      "3    AAPL  173.93         2844042532935                     N/A\n",
      "4    ABBV  141.27          254800911851                     N/A\n",
      "5     ABC  149.86           30807390675                     N/A\n",
      "6    ABMD  297.24           13844888291                     N/A\n",
      "7     ABT  115.13          197862727262                     N/A\n",
      "8     ACN  319.99          210655940996                     N/A\n",
      "9    ADBE  439.70          209611844065                     N/A\n",
      "10    ADI  178.75           95234586957                     N/A\n",
      "11    ADM   86.80           48265848850                     N/A\n",
      "12    ADP  255.15          108196772148                     N/A\n",
      "13   ADSK  228.20           51359572040                     N/A\n",
      "14    AEE   96.71           24474644706                     N/A\n",
      "https://sandbox.iexapis.com/stable/stock/AEP/quote?token=Tpk_059b97af715d417d9f49f50b51b1c448\n",
      "{'avgTotalVolume': 2597365, 'calculationPrice': 'close', 'change': 0.8, 'changePercent': 0.00766, 'close': 101.64, 'closeSource': 'aiicoflf', 'closeTime': 1710024387920, 'companyName': 'American Electric Power Company Inc.', 'currency': 'USD', 'delayedPrice': 101.66, 'delayedPriceTime': 1704091734267, 'extendedChange': -0.2, 'extendedChangePercent': -0.00194, 'extendedPrice': 103.8, 'extendedPriceTime': 1692606538089, 'high': 104.51, 'highSource': 'ranuli de e1ectd yip5me', 'highTime': 1726206243536, 'iexAskPrice': 0, 'iexAskSize': 0, 'iexBidPrice': 0, 'iexBidSize': 0, 'iexClose': 103.39, 'iexCloseTime': 1697945160307, 'iexLastUpdated': 1718898052844, 'iexMarketPercent': 0.03845714113119032, 'iexOpen': 105.43, 'iexOpenTime': 1705082521422, 'iexRealtimePrice': 104.15, 'iexRealtimeSize': 104, 'iexVolume': 87894, 'lastTradeTime': 1735861289213, 'latestPrice': 101.66, 'latestSource': 'Close', 'latestTime': 'August 10, 2022', 'latestUpdate': 1695013913207, 'latestVolume': 2394546, 'low': 101.64, 'lowSource': 'mcpli eXIirEarte e ', 'lowTime': 1680509266601, 'marketCap': 54526661614, 'oddLotDelayedPrice': 101.8, 'oddLotDelayedPriceTime': 1743061985240, 'open': 104.51, 'openTime': 1733075876427, 'openSource': 'lffiocai', 'peRatio': 20.23, 'previousClose': 104.21, 'previousVolume': 1940660, 'primaryExchange': 'SAQDAN', 'symbol': 'AEP', 'volume': 2387288, 'week52High': 103.91, 'week52Low': 78.4, 'ytdChange': 0.1676992068712489, 'isUSMarketOpen': False}\n",
      "   Ticker   Price Market Capitalization Number Of Shares to Buy\n",
      "0       A  133.15           40431839582                     N/A\n",
      "1     AAL   15.62           10270551297                     N/A\n",
      "2     AAP  195.30           11812453451                     N/A\n",
      "3    AAPL  173.93         2844042532935                     N/A\n",
      "4    ABBV  141.27          254800911851                     N/A\n",
      "5     ABC  149.86           30807390675                     N/A\n",
      "6    ABMD  297.24           13844888291                     N/A\n",
      "7     ABT  115.13          197862727262                     N/A\n",
      "8     ACN  319.99          210655940996                     N/A\n",
      "9    ADBE  439.70          209611844065                     N/A\n",
      "10    ADI  178.75           95234586957                     N/A\n",
      "11    ADM   86.80           48265848850                     N/A\n",
      "12    ADP  255.15          108196772148                     N/A\n",
      "13   ADSK  228.20           51359572040                     N/A\n",
      "14    AEE   96.71           24474644706                     N/A\n",
      "15    AEP  101.66           54526661614                     N/A\n",
      "https://sandbox.iexapis.com/stable/stock/AES/quote?token=Tpk_059b97af715d417d9f49f50b51b1c448\n",
      "{'avgTotalVolume': 5259382, 'calculationPrice': 'close', 'change': 0.61, 'changePercent': 0.02515, 'close': 25.49, 'closeSource': 'fcaiofil', 'closeTime': 1723627426772, 'companyName': 'AES Corp.', 'currency': 'USD', 'delayedPrice': 24.56, 'delayedPriceTime': 1705043371479, 'extendedChange': -0.43, 'extendedChangePercent': -0.0182, 'extendedPrice': 24, 'extendedPriceTime': 1709355637980, 'high': 25.66, 'highSource': 'red pcliiyauden15m  ete', 'highTime': 1668477516218, 'iexAskPrice': 0, 'iexAskSize': 0, 'iexBidPrice': 0, 'iexBidSize': 0, 'iexClose': 24.47, 'iexCloseTime': 1705320501360, 'iexLastUpdated': 1730536150959, 'iexMarketPercent': 0.045077302935090796, 'iexOpen': 24.827, 'iexOpenTime': 1730089517300, 'iexRealtimePrice': 25.43, 'iexRealtimeSize': 209, 'iexVolume': 191173, 'lastTradeTime': 1703399149526, 'latestPrice': 25.22, 'latestSource': 'Close', 'latestTime': 'August 10, 2022', 'latestUpdate': 1673300547810, 'latestVolume': 4361325, 'low': 24.6, 'lowSource': 'emaddcel1u priet5eiyn  ', 'lowTime': 1720044229376, 'marketCap': 16357444086, 'oddLotDelayedPrice': 24.5, 'oddLotDelayedPriceTime': 1723744551922, 'open': 24.6, 'openTime': 1705435236328, 'openSource': 'lciffaio', 'peRatio': -49.16, 'previousClose': 24.34, 'previousVolume': 3913795, 'primaryExchange': 'CYHNOOKSECCG  IREN. WENT AXK', 'symbol': 'AES', 'volume': 4352777, 'week52High': 26.34, 'week52Low': 18.93, 'ytdChange': 0.028222806331498353, 'isUSMarketOpen': False}\n",
      "   Ticker   Price Market Capitalization Number Of Shares to Buy\n",
      "0       A  133.15           40431839582                     N/A\n",
      "1     AAL   15.62           10270551297                     N/A\n",
      "2     AAP  195.30           11812453451                     N/A\n",
      "3    AAPL  173.93         2844042532935                     N/A\n",
      "4    ABBV  141.27          254800911851                     N/A\n",
      "5     ABC  149.86           30807390675                     N/A\n",
      "6    ABMD  297.24           13844888291                     N/A\n",
      "7     ABT  115.13          197862727262                     N/A\n",
      "8     ACN  319.99          210655940996                     N/A\n",
      "9    ADBE  439.70          209611844065                     N/A\n",
      "10    ADI  178.75           95234586957                     N/A\n",
      "11    ADM   86.80           48265848850                     N/A\n",
      "12    ADP  255.15          108196772148                     N/A\n",
      "13   ADSK  228.20           51359572040                     N/A\n",
      "14    AEE   96.71           24474644706                     N/A\n",
      "15    AEP  101.66           54526661614                     N/A\n",
      "16    AES   25.22           16357444086                     N/A\n",
      "https://sandbox.iexapis.com/stable/stock/AFL/quote?token=Tpk_059b97af715d417d9f49f50b51b1c448\n",
      "{'avgTotalVolume': 2464922, 'calculationPrice': 'close', 'change': 1.34, 'changePercent': 0.02235, 'close': 62.2, 'closeSource': 'calfoifi', 'closeTime': 1690852141172, 'companyName': 'Aflac Inc.', 'currency': 'USD', 'delayedPrice': 63.38, 'delayedPriceTime': 1668993832194, 'extendedChange': 0.08, 'extendedChangePercent': 0.0013, 'extendedPrice': 62.4, 'extendedPriceTime': 1689640206690, 'high': 63.98, 'highSource': 'mie5aer1teuecpdd  nyli ', 'highTime': 1701002507339, 'iexAskPrice': 0, 'iexAskSize': 0, 'iexBidPrice': 0, 'iexBidSize': 0, 'iexClose': 64.462, 'iexCloseTime': 1670546959059, 'iexLastUpdated': 1732243171786, 'iexMarketPercent': 0.04331431094926779, 'iexOpen': 62.86, 'iexOpenTime': 1707000776801, 'iexRealtimePrice': 62.071, 'iexRealtimeSize': 145, 'iexVolume': 83586, 'lastTradeTime': 1677143626159, 'latestPrice': 63.89, 'latestSource': 'Close', 'latestTime': 'August 10, 2022', 'latestUpdate': 1714531310063, 'latestVolume': 2016451, 'low': 62.2, 'lowSource': 'a ilr5 e u1dtiedypemcen', 'lowTime': 1670449406567, 'marketCap': 39263745327, 'oddLotDelayedPrice': 62.94, 'oddLotDelayedPriceTime': 1698822855893, 'open': 63.64, 'openTime': 1691372261376, 'openSource': 'ciaflfoi', 'peRatio': 9.49, 'previousClose': 61.7, 'previousVolume': 2076587, 'primaryExchange': 'EKNCCINC R WSNKXEHTO  YGEAO.', 'symbol': 'AFL', 'volume': 2082362, 'week52High': 67.32, 'week52Low': 51.33, 'ytdChange': 0.07305609333901335, 'isUSMarketOpen': False}\n",
      "   Ticker   Price Market Capitalization Number Of Shares to Buy\n",
      "0       A  133.15           40431839582                     N/A\n",
      "1     AAL   15.62           10270551297                     N/A\n",
      "2     AAP  195.30           11812453451                     N/A\n",
      "3    AAPL  173.93         2844042532935                     N/A\n",
      "4    ABBV  141.27          254800911851                     N/A\n",
      "5     ABC  149.86           30807390675                     N/A\n",
      "6    ABMD  297.24           13844888291                     N/A\n",
      "7     ABT  115.13          197862727262                     N/A\n",
      "8     ACN  319.99          210655940996                     N/A\n",
      "9    ADBE  439.70          209611844065                     N/A\n",
      "10    ADI  178.75           95234586957                     N/A\n",
      "11    ADM   86.80           48265848850                     N/A\n",
      "12    ADP  255.15          108196772148                     N/A\n",
      "13   ADSK  228.20           51359572040                     N/A\n",
      "14    AEE   96.71           24474644706                     N/A\n",
      "15    AEP  101.66           54526661614                     N/A\n",
      "16    AES   25.22           16357444086                     N/A\n",
      "17    AFL   63.89           39263745327                     N/A\n",
      "https://sandbox.iexapis.com/stable/stock/AIG/quote?token=Tpk_059b97af715d417d9f49f50b51b1c448\n",
      "{'avgTotalVolume': 4297246, 'calculationPrice': 'close', 'change': 1.41, 'changePercent': 0.02569, 'close': 55.69, 'closeSource': 'facilofi', 'closeTime': 1731674081776, 'companyName': 'American International Group Inc', 'currency': 'USD', 'delayedPrice': 56.47, 'delayedPriceTime': 1726305579572, 'extendedChange': 0.08, 'extendedChangePercent': 0.00149, 'extendedPrice': 57, 'extendedPriceTime': 1664972781124, 'high': 56.9, 'highSource': 'yti 1ene5p  dulercmdeai', 'highTime': 1735373658916, 'iexAskPrice': 0, 'iexAskSize': 0, 'iexBidPrice': 0, 'iexBidSize': 0, 'iexClose': 55, 'iexCloseTime': 1727306835822, 'iexLastUpdated': 1682092710251, 'iexMarketPercent': 0.04164006548805706, 'iexOpen': 56.71, 'iexOpenTime': 1722371471915, 'iexRealtimePrice': 56.01, 'iexRealtimeSize': 56, 'iexVolume': 190663, 'lastTradeTime': 1693564474404, 'latestPrice': 55.91, 'latestSource': 'Close', 'latestTime': 'August 10, 2022', 'latestUpdate': 1671008047125, 'latestVolume': 4895143, 'low': 54.8, 'lowSource': 'nliepedrim5td eea u 1cy', 'lowTime': 1682814739369, 'marketCap': 45553878487, 'oddLotDelayedPrice': 55.44, 'oddLotDelayedPriceTime': 1708866572199, 'open': 56.9, 'openTime': 1664450539898, 'openSource': 'folaiifc', 'peRatio': 4.9, 'previousClose': 54.46, 'previousVolume': 5233490, 'primaryExchange': ' AEEYNRXKNKWCC CTESOH  NOG.I', 'symbol': 'AIG', 'volume': 4813343, 'week52High': 67.02, 'week52Low': 49.8, 'ytdChange': -0.0219828898284818, 'isUSMarketOpen': False}\n",
      "   Ticker   Price Market Capitalization Number Of Shares to Buy\n",
      "0       A  133.15           40431839582                     N/A\n",
      "1     AAL   15.62           10270551297                     N/A\n",
      "2     AAP  195.30           11812453451                     N/A\n",
      "3    AAPL  173.93         2844042532935                     N/A\n",
      "4    ABBV  141.27          254800911851                     N/A\n",
      "5     ABC  149.86           30807390675                     N/A\n",
      "6    ABMD  297.24           13844888291                     N/A\n",
      "7     ABT  115.13          197862727262                     N/A\n",
      "8     ACN  319.99          210655940996                     N/A\n",
      "9    ADBE  439.70          209611844065                     N/A\n",
      "10    ADI  178.75           95234586957                     N/A\n",
      "11    ADM   86.80           48265848850                     N/A\n",
      "12    ADP  255.15          108196772148                     N/A\n",
      "13   ADSK  228.20           51359572040                     N/A\n",
      "14    AEE   96.71           24474644706                     N/A\n",
      "15    AEP  101.66           54526661614                     N/A\n",
      "16    AES   25.22           16357444086                     N/A\n",
      "17    AFL   63.89           39263745327                     N/A\n",
      "18    AIG   55.91           45553878487                     N/A\n",
      "https://sandbox.iexapis.com/stable/stock/AIV/quote?token=Tpk_059b97af715d417d9f49f50b51b1c448\n",
      "{'avgTotalVolume': 1313778, 'calculationPrice': 'close', 'change': 0.39, 'changePercent': 0.04586, 'close': 9.09, 'closeSource': 'aofiicfl', 'closeTime': 1695491372450, 'companyName': 'Apartment Investment & Management Co. - Class A', 'currency': 'USD', 'delayedPrice': 9.14, 'delayedPriceTime': 1723658281915, 'extendedChange': 0, 'extendedChangePercent': 0, 'extendedPrice': 9.31, 'extendedPriceTime': 1677182252837, 'high': 9.5, 'highSource': 'nmpi 5lc1rieau e edydet', 'highTime': 1707286564452, 'iexAskPrice': 0, 'iexAskSize': 0, 'iexBidPrice': 0, 'iexBidSize': 0, 'iexClose': 9.15, 'iexCloseTime': 1726637305233, 'iexLastUpdated': 1708604067874, 'iexMarketPercent': 0.03542226063420388, 'iexOpen': 8.8, 'iexOpenTime': 1663645306452, 'iexRealtimePrice': 9.32, 'iexRealtimeSize': 69, 'iexVolume': 55543, 'lastTradeTime': 1660193198526, 'latestPrice': 9.24, 'latestSource': 'Close', 'latestTime': 'August 10, 2022', 'latestUpdate': 1665855708177, 'latestVolume': 1626937, 'low': 8.76, 'lowSource': 'm5de1icyaidp tlneu  ree', 'lowTime': 1714505123836, 'marketCap': 1382510305, 'oddLotDelayedPrice': 9.17, 'oddLotDelayedPriceTime': 1707656893499, 'open': 9.21, 'openTime': 1681437914979, 'openSource': 'icaflifo', 'peRatio': 5.79, 'previousClose': 9.03, 'previousVolume': 1238625, 'primaryExchange': 'N  ACOOIER NKKGEYN.SCEHT CWX', 'symbol': 'AIV', 'volume': 1645436, 'week52High': 9.16, 'week52Low': 5.23, 'ytdChange': 0.1705734219682309, 'isUSMarketOpen': False}\n",
      "   Ticker   Price Market Capitalization Number Of Shares to Buy\n",
      "0       A  133.15           40431839582                     N/A\n",
      "1     AAL   15.62           10270551297                     N/A\n",
      "2     AAP  195.30           11812453451                     N/A\n",
      "3    AAPL  173.93         2844042532935                     N/A\n",
      "4    ABBV  141.27          254800911851                     N/A\n",
      "5     ABC  149.86           30807390675                     N/A\n",
      "6    ABMD  297.24           13844888291                     N/A\n",
      "7     ABT  115.13          197862727262                     N/A\n",
      "8     ACN  319.99          210655940996                     N/A\n",
      "9    ADBE  439.70          209611844065                     N/A\n",
      "10    ADI  178.75           95234586957                     N/A\n",
      "11    ADM   86.80           48265848850                     N/A\n",
      "12    ADP  255.15          108196772148                     N/A\n",
      "13   ADSK  228.20           51359572040                     N/A\n",
      "14    AEE   96.71           24474644706                     N/A\n",
      "15    AEP  101.66           54526661614                     N/A\n",
      "16    AES   25.22           16357444086                     N/A\n",
      "17    AFL   63.89           39263745327                     N/A\n",
      "18    AIG   55.91           45553878487                     N/A\n",
      "19    AIV    9.24            1382510305                     N/A\n",
      "https://sandbox.iexapis.com/stable/stock/AIZ/quote?token=Tpk_059b97af715d417d9f49f50b51b1c448\n",
      "{'avgTotalVolume': 454470, 'calculationPrice': 'close', 'change': 3.92, 'changePercent': 0.02406, 'close': 162.8, 'closeSource': 'acliifof', 'closeTime': 1667593190329, 'companyName': 'Assurant Inc', 'currency': 'USD', 'delayedPrice': 164.47, 'delayedPriceTime': 1720030784601, 'extendedChange': 0, 'extendedChangePercent': 0, 'extendedPrice': 162.48, 'extendedPriceTime': 1724217267672, 'high': 168.11, 'highSource': 'dlui penc ta5emire1yd e', 'highTime': 1688551286499, 'iexAskPrice': 0, 'iexAskSize': 0, 'iexBidPrice': 0, 'iexBidSize': 0, 'iexClose': 164.464, 'iexCloseTime': 1664653208616, 'iexLastUpdated': 1721057530629, 'iexMarketPercent': 0.04444328700794845, 'iexOpen': 164.13, 'iexOpenTime': 1738374310048, 'iexRealtimePrice': 168.05, 'iexRealtimeSize': 2, 'iexVolume': 13345, 'lastTradeTime': 1722213935313, 'latestPrice': 166.15, 'latestSource': 'Close', 'latestTime': 'August 10, 2022', 'latestUpdate': 1676401765561, 'latestVolume': 305268, 'low': 161.875, 'lowSource': 'ee adiedip nm51eyucl tr', 'lowTime': 1733125159299, 'marketCap': 8965235872, 'oddLotDelayedPrice': 165.67, 'oddLotDelayedPriceTime': 1690762063986, 'open': 166.5, 'openTime': 1700326808803, 'openSource': 'oilcafif', 'peRatio': 7.81, 'previousClose': 161.31, 'previousVolume': 510785, 'primaryExchange': 'KCAOIRNGK H  WNECTEXENYSCO. ', 'symbol': 'AIZ', 'volume': 316084, 'week52High': 196.82, 'week52Low': 144.35, 'ytdChange': 0.0472551604344633, 'isUSMarketOpen': False}\n",
      "   Ticker   Price Market Capitalization Number Of Shares to Buy\n",
      "0       A  133.15           40431839582                     N/A\n",
      "1     AAL   15.62           10270551297                     N/A\n",
      "2     AAP  195.30           11812453451                     N/A\n",
      "3    AAPL  173.93         2844042532935                     N/A\n",
      "4    ABBV  141.27          254800911851                     N/A\n",
      "5     ABC  149.86           30807390675                     N/A\n",
      "6    ABMD  297.24           13844888291                     N/A\n",
      "7     ABT  115.13          197862727262                     N/A\n",
      "8     ACN  319.99          210655940996                     N/A\n",
      "9    ADBE  439.70          209611844065                     N/A\n",
      "10    ADI  178.75           95234586957                     N/A\n",
      "11    ADM   86.80           48265848850                     N/A\n",
      "12    ADP  255.15          108196772148                     N/A\n",
      "13   ADSK  228.20           51359572040                     N/A\n",
      "14    AEE   96.71           24474644706                     N/A\n",
      "15    AEP  101.66           54526661614                     N/A\n",
      "16    AES   25.22           16357444086                     N/A\n",
      "17    AFL   63.89           39263745327                     N/A\n",
      "18    AIG   55.91           45553878487                     N/A\n",
      "19    AIV    9.24            1382510305                     N/A\n",
      "20    AIZ  166.15            8965235872                     N/A\n",
      "https://sandbox.iexapis.com/stable/stock/AJG/quote?token=Tpk_059b97af715d417d9f49f50b51b1c448\n",
      "{'avgTotalVolume': 781034, 'calculationPrice': 'close', 'change': 2.69, 'changePercent': 0.01524, 'close': 186.13, 'closeSource': 'iiloffca', 'closeTime': 1693156048295, 'companyName': 'Arthur J. Gallagher & Co.', 'currency': 'USD', 'delayedPrice': 190.03, 'delayedPriceTime': 1695249509391, 'extendedChange': 0, 'extendedChangePercent': 0, 'extendedPrice': 185.55, 'extendedPriceTime': 1693718376282, 'high': 193.62, 'highSource': 'n mda l ieeee1rtduyc5ip', 'highTime': 1661344172400, 'iexAskPrice': 0, 'iexAskSize': 0, 'iexBidPrice': 0, 'iexBidSize': 0, 'iexClose': 185.8, 'iexCloseTime': 1660621180052, 'iexLastUpdated': 1704398696367, 'iexMarketPercent': 0.08276967567835154, 'iexOpen': 187.11, 'iexOpenTime': 1704903972625, 'iexRealtimePrice': 185.77, 'iexRealtimeSize': 33, 'iexVolume': 68528, 'lastTradeTime': 1695131306475, 'latestPrice': 190.26, 'latestSource': 'Close', 'latestTime': 'August 10, 2022', 'latestUpdate': 1717961755087, 'latestVolume': 831643, 'low': 186.13, 'lowSource': 'daiyrm iutee 15nd epecl', 'lowTime': 1716173685725, 'marketCap': 39883797204, 'oddLotDelayedPrice': 186.92, 'oddLotDelayedPriceTime': 1687111839792, 'open': 193.47, 'openTime': 1694993388258, 'openSource': 'caflfiio', 'peRatio': 38, 'previousClose': 190.4, 'previousVolume': 775329, 'primaryExchange': 'ONT SC KCN  CWGONXHREEYAEK.I', 'symbol': 'AJG', 'volume': 827836, 'week52High': 191.39, 'week52Low': 138, 'ytdChange': 0.1015180738043761, 'isUSMarketOpen': False}\n",
      "   Ticker   Price Market Capitalization Number Of Shares to Buy\n",
      "0       A  133.15           40431839582                     N/A\n",
      "1     AAL   15.62           10270551297                     N/A\n",
      "2     AAP  195.30           11812453451                     N/A\n",
      "3    AAPL  173.93         2844042532935                     N/A\n",
      "4    ABBV  141.27          254800911851                     N/A\n",
      "5     ABC  149.86           30807390675                     N/A\n",
      "6    ABMD  297.24           13844888291                     N/A\n",
      "7     ABT  115.13          197862727262                     N/A\n",
      "8     ACN  319.99          210655940996                     N/A\n",
      "9    ADBE  439.70          209611844065                     N/A\n",
      "10    ADI  178.75           95234586957                     N/A\n",
      "11    ADM   86.80           48265848850                     N/A\n",
      "12    ADP  255.15          108196772148                     N/A\n",
      "13   ADSK  228.20           51359572040                     N/A\n",
      "14    AEE   96.71           24474644706                     N/A\n",
      "15    AEP  101.66           54526661614                     N/A\n",
      "16    AES   25.22           16357444086                     N/A\n",
      "17    AFL   63.89           39263745327                     N/A\n",
      "18    AIG   55.91           45553878487                     N/A\n",
      "19    AIV    9.24            1382510305                     N/A\n",
      "20    AIZ  166.15            8965235872                     N/A\n",
      "21    AJG  190.26           39883797204                     N/A\n",
      "https://sandbox.iexapis.com/stable/stock/AKAM/quote?token=Tpk_059b97af715d417d9f49f50b51b1c448\n",
      "{'avgTotalVolume': 1739425, 'calculationPrice': 'close', 'change': 0.95, 'changePercent': 0.00979, 'close': 100.05, 'closeSource': 'lifcfaoi', 'closeTime': 1689915781460, 'companyName': 'Akamai Technologies Inc', 'currency': 'USD', 'delayedPrice': 99.39, 'delayedPriceTime': 1691373176785, 'extendedChange': 0, 'extendedChangePercent': 0, 'extendedPrice': 99.49, 'extendedPriceTime': 1738487249478, 'high': 100.05, 'highSource': 'reeuy1etlenaid d icmp 5', 'highTime': 1701430501785, 'iexAskPrice': 0, 'iexAskSize': 0, 'iexBidPrice': 0, 'iexBidSize': 0, 'iexClose': 95.99, 'iexCloseTime': 1671918940201, 'iexLastUpdated': 1723995665980, 'iexMarketPercent': 0.0659901016832259, 'iexOpen': 96.15, 'iexOpenTime': 1675676028779, 'iexRealtimePrice': 98.98, 'iexRealtimeSize': 1, 'iexVolume': 203910, 'lastTradeTime': 1698325311842, 'latestPrice': 96.54, 'latestSource': 'Close', 'latestTime': 'August 10, 2022', 'latestUpdate': 1678593168488, 'latestVolume': 3173094, 'low': 92.48, 'lowSource': 'dpertceei ye5l1ni madu ', 'lowTime': 1664026129237, 'marketCap': 15759793762, 'oddLotDelayedPrice': 96.78, 'oddLotDelayedPriceTime': 1719575749212, 'open': 96.47, 'openTime': 1701706052928, 'openSource': 'ficfialo', 'peRatio': 26, 'previousClose': 98.31, 'previousVolume': 1627422, 'primaryExchange': 'QANDAS', 'symbol': 'AKAM', 'volume': 3277371, 'week52High': 123.45, 'week52Low': 86.4, 'ytdChange': -0.184846100429291, 'isUSMarketOpen': False}\n",
      "   Ticker   Price Market Capitalization Number Of Shares to Buy\n",
      "0       A  133.15           40431839582                     N/A\n",
      "1     AAL   15.62           10270551297                     N/A\n",
      "2     AAP  195.30           11812453451                     N/A\n",
      "3    AAPL  173.93         2844042532935                     N/A\n",
      "4    ABBV  141.27          254800911851                     N/A\n",
      "5     ABC  149.86           30807390675                     N/A\n",
      "6    ABMD  297.24           13844888291                     N/A\n",
      "7     ABT  115.13          197862727262                     N/A\n",
      "8     ACN  319.99          210655940996                     N/A\n",
      "9    ADBE  439.70          209611844065                     N/A\n",
      "10    ADI  178.75           95234586957                     N/A\n",
      "11    ADM   86.80           48265848850                     N/A\n",
      "12    ADP  255.15          108196772148                     N/A\n",
      "13   ADSK  228.20           51359572040                     N/A\n",
      "14    AEE   96.71           24474644706                     N/A\n",
      "15    AEP  101.66           54526661614                     N/A\n",
      "16    AES   25.22           16357444086                     N/A\n",
      "17    AFL   63.89           39263745327                     N/A\n",
      "18    AIG   55.91           45553878487                     N/A\n",
      "19    AIV    9.24            1382510305                     N/A\n",
      "20    AIZ  166.15            8965235872                     N/A\n",
      "21    AJG  190.26           39883797204                     N/A\n",
      "22   AKAM   96.54           15759793762                     N/A\n",
      "https://sandbox.iexapis.com/stable/stock/ALB/quote?token=Tpk_059b97af715d417d9f49f50b51b1c448\n",
      "{'avgTotalVolume': 1100220, 'calculationPrice': 'close', 'change': 14.65, 'changePercent': 0.06067, 'close': 260.9, 'closeSource': 'fflcoiia', 'closeTime': 1667176357820, 'companyName': 'Albemarle Corp.', 'currency': 'USD', 'delayedPrice': 262.65, 'delayedPriceTime': 1739254695965, 'extendedChange': 0.26, 'extendedChangePercent': 0.001, 'extendedPrice': 268.19, 'extendedPriceTime': 1704511891240, 'high': 265.997, 'highSource': 'pd1mi5  eenr eeutliadcy', 'highTime': 1702360584024, 'iexAskPrice': 0, 'iexAskSize': 0, 'iexBidPrice': 0, 'iexBidSize': 0, 'iexClose': 261.34, 'iexCloseTime': 1698367604616, 'iexLastUpdated': 1691943307522, 'iexMarketPercent': 0.07774663114022094, 'iexOpen': 256.73, 'iexOpenTime': 1672599927550, 'iexRealtimePrice': 269.17, 'iexRealtimeSize': 35, 'iexVolume': 101248, 'lastTradeTime': 1718892595331, 'latestPrice': 260, 'latestSource': 'Close', 'latestTime': 'August 10, 2022', 'latestUpdate': 1667716973323, 'latestVolume': 1392554, 'low': 253.91, 'lowSource': 'ueie y5rcm1den p eitald', 'lowTime': 1694187998990, 'marketCap': 31582290290, 'oddLotDelayedPrice': 266.79, 'oddLotDelayedPriceTime': 1682649955263, 'open': 262.15, 'openTime': 1688831374352, 'openSource': 'alfoicif', 'peRatio': 118, 'previousClose': 250.95, 'previousVolume': 778150, 'primaryExchange': ' WRHCSONCKENCXYA.E   GETNOKI', 'symbol': 'ALB', 'volume': 1423141, 'week52High': 301.27, 'week52Low': 177.22, 'ytdChange': 0.11397778520526028, 'isUSMarketOpen': False}\n",
      "   Ticker   Price Market Capitalization Number Of Shares to Buy\n",
      "0       A  133.15           40431839582                     N/A\n",
      "1     AAL   15.62           10270551297                     N/A\n",
      "2     AAP  195.30           11812453451                     N/A\n",
      "3    AAPL  173.93         2844042532935                     N/A\n",
      "4    ABBV  141.27          254800911851                     N/A\n",
      "5     ABC  149.86           30807390675                     N/A\n",
      "6    ABMD  297.24           13844888291                     N/A\n",
      "7     ABT  115.13          197862727262                     N/A\n",
      "8     ACN  319.99          210655940996                     N/A\n",
      "9    ADBE  439.70          209611844065                     N/A\n",
      "10    ADI  178.75           95234586957                     N/A\n",
      "11    ADM   86.80           48265848850                     N/A\n",
      "12    ADP  255.15          108196772148                     N/A\n",
      "13   ADSK  228.20           51359572040                     N/A\n",
      "14    AEE   96.71           24474644706                     N/A\n",
      "15    AEP  101.66           54526661614                     N/A\n",
      "16    AES   25.22           16357444086                     N/A\n",
      "17    AFL   63.89           39263745327                     N/A\n",
      "18    AIG   55.91           45553878487                     N/A\n",
      "19    AIV    9.24            1382510305                     N/A\n",
      "20    AIZ  166.15            8965235872                     N/A\n",
      "21    AJG  190.26           39883797204                     N/A\n",
      "22   AKAM   96.54           15759793762                     N/A\n",
      "23    ALB  260.00           31582290290                     N/A\n",
      "https://sandbox.iexapis.com/stable/stock/ALGN/quote?token=Tpk_059b97af715d417d9f49f50b51b1c448\n",
      "{'avgTotalVolume': 926939, 'calculationPrice': 'close', 'change': 14.37, 'changePercent': 0.05223, 'close': 296.09, 'closeSource': 'fifalcoi', 'closeTime': 1696066308646, 'companyName': 'Align Technology, Inc.', 'currency': 'USD', 'delayedPrice': 301.19, 'delayedPriceTime': 1677273229823, 'extendedChange': -0.8, 'extendedChangePercent': -0.0028, 'extendedPrice': 287.22, 'extendedPriceTime': 1660639802555, 'high': 296.09, 'highSource': 'c eeue tndd5e1 piayrilm', 'highTime': 1740184321759, 'iexAskPrice': 0, 'iexAskSize': 0, 'iexBidPrice': 0, 'iexBidSize': 0, 'iexClose': 290.49, 'iexCloseTime': 1691663484673, 'iexLastUpdated': 1669200099157, 'iexMarketPercent': 0.06770873550951007, 'iexOpen': 298.27, 'iexOpenTime': 1661495113229, 'iexRealtimePrice': 288.85, 'iexRealtimeSize': 101, 'iexVolume': 49322, 'lastTradeTime': 1688247317436, 'latestPrice': 298.88, 'latestSource': 'Close', 'latestTime': 'August 10, 2022', 'latestUpdate': 1673133847018, 'latestVolume': 744141, 'low': 290.25, 'lowSource': 'i1ymdtiecleearu5n  dpe ', 'lowTime': 1698117178109, 'marketCap': 23143020088, 'oddLotDelayedPrice': 289.19, 'oddLotDelayedPriceTime': 1670741535055, 'open': 292.77, 'openTime': 1725650685218, 'openSource': 'ifofalic', 'peRatio': 37.41, 'previousClose': 284.42, 'previousVolume': 770475, 'primaryExchange': 'AQNASD', 'symbol': 'ALGN', 'volume': 718248, 'week52High': 737.55, 'week52Low': 232.05, 'ytdChange': -0.557017924813287, 'isUSMarketOpen': False}\n",
      "   Ticker   Price Market Capitalization Number Of Shares to Buy\n",
      "0       A  133.15           40431839582                     N/A\n",
      "1     AAL   15.62           10270551297                     N/A\n",
      "2     AAP  195.30           11812453451                     N/A\n",
      "3    AAPL  173.93         2844042532935                     N/A\n",
      "4    ABBV  141.27          254800911851                     N/A\n",
      "5     ABC  149.86           30807390675                     N/A\n",
      "6    ABMD  297.24           13844888291                     N/A\n",
      "7     ABT  115.13          197862727262                     N/A\n",
      "8     ACN  319.99          210655940996                     N/A\n",
      "9    ADBE  439.70          209611844065                     N/A\n",
      "10    ADI  178.75           95234586957                     N/A\n",
      "11    ADM   86.80           48265848850                     N/A\n",
      "12    ADP  255.15          108196772148                     N/A\n",
      "13   ADSK  228.20           51359572040                     N/A\n",
      "14    AEE   96.71           24474644706                     N/A\n",
      "15    AEP  101.66           54526661614                     N/A\n",
      "16    AES   25.22           16357444086                     N/A\n",
      "17    AFL   63.89           39263745327                     N/A\n",
      "18    AIG   55.91           45553878487                     N/A\n",
      "19    AIV    9.24            1382510305                     N/A\n",
      "20    AIZ  166.15            8965235872                     N/A\n",
      "21    AJG  190.26           39883797204                     N/A\n",
      "22   AKAM   96.54           15759793762                     N/A\n",
      "23    ALB  260.00           31582290290                     N/A\n",
      "24   ALGN  298.88           23143020088                     N/A\n",
      "https://sandbox.iexapis.com/stable/stock/ALK/quote?token=Tpk_059b97af715d417d9f49f50b51b1c448\n",
      "{'avgTotalVolume': 1591894, 'calculationPrice': 'close', 'change': 0.88, 'changePercent': 0.01945, 'close': 47.34, 'closeSource': 'fiaocifl', 'closeTime': 1716025025064, 'companyName': 'Alaska Air Group Inc.', 'currency': 'USD', 'delayedPrice': 46.83, 'delayedPriceTime': 1691434819625, 'extendedChange': 0, 'extendedChangePercent': 0, 'extendedPrice': 48.67, 'extendedPriceTime': 1703828825615, 'high': 49.235, 'highSource': 'dulc1neyt 5er imedeip a', 'highTime': 1696649647661, 'iexAskPrice': 0, 'iexAskSize': 0, 'iexBidPrice': 0, 'iexBidSize': 0, 'iexClose': 46.87, 'iexCloseTime': 1688494796261, 'iexLastUpdated': 1666847442175, 'iexMarketPercent': 0.03847461926240879, 'iexOpen': 47.08, 'iexOpenTime': 1681797628828, 'iexRealtimePrice': 47.37, 'iexRealtimeSize': 15, 'iexVolume': 37008, 'lastTradeTime': 1706165706765, 'latestPrice': 47.33, 'latestSource': 'Close', 'latestTime': 'August 10, 2022', 'latestUpdate': 1694255339865, 'latestVolume': 1000438, 'low': 47.34, 'lowSource': 'ly 5nmierdd e1e itueacp', 'lowTime': 1724798988423, 'marketCap': 6026988243, 'oddLotDelayedPrice': 46.72, 'oddLotDelayedPriceTime': 1725888382416, 'open': 47.7, 'openTime': 1682570367300, 'openSource': 'fcfoiial', 'peRatio': 29.9, 'previousClose': 47.81, 'previousVolume': 972813, 'primaryExchange': '  EYOTWNE CANKRH COGESNKIC.X', 'symbol': 'ALK', 'volume': 1002383, 'week52High': 65.39, 'week52Low': 39.73, 'ytdChange': -0.10571684533319071, 'isUSMarketOpen': False}\n",
      "   Ticker   Price Market Capitalization Number Of Shares to Buy\n",
      "0       A  133.15           40431839582                     N/A\n",
      "1     AAL   15.62           10270551297                     N/A\n",
      "2     AAP  195.30           11812453451                     N/A\n",
      "3    AAPL  173.93         2844042532935                     N/A\n",
      "4    ABBV  141.27          254800911851                     N/A\n",
      "5     ABC  149.86           30807390675                     N/A\n",
      "6    ABMD  297.24           13844888291                     N/A\n",
      "7     ABT  115.13          197862727262                     N/A\n",
      "8     ACN  319.99          210655940996                     N/A\n",
      "9    ADBE  439.70          209611844065                     N/A\n",
      "10    ADI  178.75           95234586957                     N/A\n",
      "11    ADM   86.80           48265848850                     N/A\n",
      "12    ADP  255.15          108196772148                     N/A\n",
      "13   ADSK  228.20           51359572040                     N/A\n",
      "14    AEE   96.71           24474644706                     N/A\n",
      "15    AEP  101.66           54526661614                     N/A\n",
      "16    AES   25.22           16357444086                     N/A\n",
      "17    AFL   63.89           39263745327                     N/A\n",
      "18    AIG   55.91           45553878487                     N/A\n",
      "19    AIV    9.24            1382510305                     N/A\n",
      "20    AIZ  166.15            8965235872                     N/A\n",
      "21    AJG  190.26           39883797204                     N/A\n",
      "22   AKAM   96.54           15759793762                     N/A\n",
      "23    ALB  260.00           31582290290                     N/A\n",
      "24   ALGN  298.88           23143020088                     N/A\n",
      "25    ALK   47.33            6026988243                     N/A\n",
      "https://sandbox.iexapis.com/stable/stock/ALL/quote?token=Tpk_059b97af715d417d9f49f50b51b1c448\n",
      "{'avgTotalVolume': 1965836, 'calculationPrice': 'close', 'change': 4.24, 'changePercent': 0.03532, 'close': 127.92, 'closeSource': 'ffiilcao', 'closeTime': 1663991962334, 'companyName': 'Allstate Corp (The)', 'currency': 'USD', 'delayedPrice': 129.1, 'delayedPriceTime': 1680655311202, 'extendedChange': -0.09, 'extendedChangePercent': -0.00074, 'extendedPrice': 126.6, 'extendedPriceTime': 1723630194579, 'high': 127.92, 'highSource': ' lute5pen  yeir1cmaiedd', 'highTime': 1726830166176, 'iexAskPrice': 0, 'iexAskSize': 0, 'iexBidPrice': 0, 'iexBidSize': 0, 'iexClose': 127.23, 'iexCloseTime': 1725663053522, 'iexLastUpdated': 1707038990725, 'iexMarketPercent': 0.06105860667884183, 'iexOpen': 124.84, 'iexOpenTime': 1683332632769, 'iexRealtimePrice': 127.03, 'iexRealtimeSize': 50, 'iexVolume': 101594, 'lastTradeTime': 1736392905158, 'latestPrice': 124.31, 'latestSource': 'Close', 'latestTime': 'August 10, 2022', 'latestUpdate': 1700775017497, 'latestVolume': 1709082, 'low': 123.01, 'lowSource': 'mrnepe5c deuieta 1 liyd', 'lowTime': 1740907094764, 'marketCap': 34315669008, 'oddLotDelayedPrice': 124.3, 'oddLotDelayedPriceTime': 1721274583069, 'open': 123.01, 'openTime': 1739025930218, 'openSource': 'lcfaioif', 'peRatio': 41.17, 'previousClose': 121.11, 'previousVolume': 1174459, 'primaryExchange': ' K YGEN XEOOACCN NCWRKITHS.E', 'symbol': 'ALL', 'volume': 1734609, 'week52High': 145.85, 'week52Low': 107.6, 'ytdChange': 0.06649972442935631, 'isUSMarketOpen': False}\n",
      "   Ticker   Price Market Capitalization Number Of Shares to Buy\n",
      "0       A  133.15           40431839582                     N/A\n",
      "1     AAL   15.62           10270551297                     N/A\n",
      "2     AAP  195.30           11812453451                     N/A\n",
      "3    AAPL  173.93         2844042532935                     N/A\n",
      "4    ABBV  141.27          254800911851                     N/A\n",
      "5     ABC  149.86           30807390675                     N/A\n",
      "6    ABMD  297.24           13844888291                     N/A\n",
      "7     ABT  115.13          197862727262                     N/A\n",
      "8     ACN  319.99          210655940996                     N/A\n",
      "9    ADBE  439.70          209611844065                     N/A\n",
      "10    ADI  178.75           95234586957                     N/A\n",
      "11    ADM   86.80           48265848850                     N/A\n",
      "12    ADP  255.15          108196772148                     N/A\n",
      "13   ADSK  228.20           51359572040                     N/A\n",
      "14    AEE   96.71           24474644706                     N/A\n",
      "15    AEP  101.66           54526661614                     N/A\n",
      "16    AES   25.22           16357444086                     N/A\n",
      "17    AFL   63.89           39263745327                     N/A\n",
      "18    AIG   55.91           45553878487                     N/A\n",
      "19    AIV    9.24            1382510305                     N/A\n",
      "20    AIZ  166.15            8965235872                     N/A\n",
      "21    AJG  190.26           39883797204                     N/A\n",
      "22   AKAM   96.54           15759793762                     N/A\n",
      "23    ALB  260.00           31582290290                     N/A\n",
      "24   ALGN  298.88           23143020088                     N/A\n",
      "25    ALK   47.33            6026988243                     N/A\n",
      "26    ALL  124.31           34315669008                     N/A\n",
      "https://sandbox.iexapis.com/stable/stock/ALLE/quote?token=Tpk_059b97af715d417d9f49f50b51b1c448\n",
      "{'avgTotalVolume': 658017, 'calculationPrice': 'close', 'change': 2.77, 'changePercent': 0.02883, 'close': 106.85, 'closeSource': 'iilcfaof', 'closeTime': 1707666684540, 'companyName': 'Allegion plc', 'currency': 'USD', 'delayedPrice': 104.76, 'delayedPriceTime': 1716820088752, 'extendedChange': 0, 'extendedChangePercent': 0, 'extendedPrice': 102.51, 'extendedPriceTime': 1731476725841, 'high': 106.85, 'highSource': ' yc5mieprluedeedta  ni1', 'highTime': 1676352079831, 'iexAskPrice': 0, 'iexAskSize': 0, 'iexBidPrice': 0, 'iexBidSize': 0, 'iexClose': 106.92, 'iexCloseTime': 1743015769081, 'iexLastUpdated': 1742087639648, 'iexMarketPercent': 0.05819305144468201, 'iexOpen': 104.89, 'iexOpenTime': 1673389424085, 'iexRealtimePrice': 106.38, 'iexRealtimeSize': 103, 'iexVolume': 44393, 'lastTradeTime': 1660957376032, 'latestPrice': 103.67, 'latestSource': 'Close', 'latestTime': 'August 10, 2022', 'latestUpdate': 1741457337378, 'latestVolume': 826400, 'low': 103.48, 'lowSource': ' etaueyn1idr  ipm5eceld', 'lowTime': 1678561028952, 'marketCap': 9385314967, 'oddLotDelayedPrice': 103.21, 'oddLotDelayedPriceTime': 1708758008629, 'open': 104.82, 'openTime': 1709998064770, 'openSource': 'ofaifilc', 'peRatio': 19.71, 'previousClose': 100.02, 'previousVolume': 827397, 'primaryExchange': 'KK .AEECSINGYOCCN O ETH XRWN', 'symbol': 'ALLE', 'volume': 827693, 'week52High': 147.21, 'week52Low': 95.8, 'ytdChange': -0.22307584834175267, 'isUSMarketOpen': False}\n",
      "   Ticker   Price Market Capitalization Number Of Shares to Buy\n",
      "0       A  133.15           40431839582                     N/A\n",
      "1     AAL   15.62           10270551297                     N/A\n",
      "2     AAP  195.30           11812453451                     N/A\n",
      "3    AAPL  173.93         2844042532935                     N/A\n",
      "4    ABBV  141.27          254800911851                     N/A\n",
      "5     ABC  149.86           30807390675                     N/A\n",
      "6    ABMD  297.24           13844888291                     N/A\n",
      "7     ABT  115.13          197862727262                     N/A\n",
      "8     ACN  319.99          210655940996                     N/A\n",
      "9    ADBE  439.70          209611844065                     N/A\n",
      "10    ADI  178.75           95234586957                     N/A\n",
      "11    ADM   86.80           48265848850                     N/A\n",
      "12    ADP  255.15          108196772148                     N/A\n",
      "13   ADSK  228.20           51359572040                     N/A\n",
      "14    AEE   96.71           24474644706                     N/A\n",
      "15    AEP  101.66           54526661614                     N/A\n",
      "16    AES   25.22           16357444086                     N/A\n",
      "17    AFL   63.89           39263745327                     N/A\n",
      "18    AIG   55.91           45553878487                     N/A\n",
      "19    AIV    9.24            1382510305                     N/A\n",
      "20    AIZ  166.15            8965235872                     N/A\n",
      "21    AJG  190.26           39883797204                     N/A\n",
      "22   AKAM   96.54           15759793762                     N/A\n",
      "23    ALB  260.00           31582290290                     N/A\n",
      "24   ALGN  298.88           23143020088                     N/A\n",
      "25    ALK   47.33            6026988243                     N/A\n",
      "26    ALL  124.31           34315669008                     N/A\n",
      "27   ALLE  103.67            9385314967                     N/A\n",
      "https://sandbox.iexapis.com/stable/stock/ALXN/quote?token=Tpk_059b97af715d417d9f49f50b51b1c448\n"
     ]
    },
    {
     "ename": "KeyboardInterrupt",
     "evalue": "",
     "output_type": "error",
     "traceback": [
      "\u001b[1;31m---------------------------------------------------------------------------\u001b[0m",
      "\u001b[1;31mKeyboardInterrupt\u001b[0m                         Traceback (most recent call last)",
      "\u001b[1;32m~\\AppData\\Local\\Temp/ipykernel_17460/1703773792.py\u001b[0m in \u001b[0;36m<module>\u001b[1;34m\u001b[0m\n\u001b[0;32m      4\u001b[0m     \u001b[0mapi_url\u001b[0m \u001b[1;33m=\u001b[0m \u001b[1;34mf'https://sandbox.iexapis.com/stable/stock/{symbol}/quote?token={IEX_CLOUD_API_TOKEN}'\u001b[0m\u001b[1;33m\u001b[0m\u001b[1;33m\u001b[0m\u001b[0m\n\u001b[0;32m      5\u001b[0m     \u001b[0mprint\u001b[0m\u001b[1;33m(\u001b[0m\u001b[0mapi_url\u001b[0m\u001b[1;33m)\u001b[0m\u001b[1;33m\u001b[0m\u001b[1;33m\u001b[0m\u001b[0m\n\u001b[1;32m----> 6\u001b[1;33m     \u001b[0mdata\u001b[0m \u001b[1;33m=\u001b[0m \u001b[0mrequests\u001b[0m\u001b[1;33m.\u001b[0m\u001b[0mget\u001b[0m\u001b[1;33m(\u001b[0m\u001b[0mapi_url\u001b[0m\u001b[1;33m)\u001b[0m\u001b[1;33m.\u001b[0m\u001b[0mjson\u001b[0m\u001b[1;33m(\u001b[0m\u001b[1;33m)\u001b[0m\u001b[1;33m\u001b[0m\u001b[1;33m\u001b[0m\u001b[0m\n\u001b[0m\u001b[0;32m      7\u001b[0m     \u001b[0mprint\u001b[0m\u001b[1;33m(\u001b[0m\u001b[0mdata\u001b[0m\u001b[1;33m)\u001b[0m\u001b[1;33m\u001b[0m\u001b[1;33m\u001b[0m\u001b[0m\n\u001b[0;32m      8\u001b[0m     sp_dataframe = sp_dataframe.append(\n",
      "\u001b[1;32m~\\anaconda3\\lib\\site-packages\\requests\\api.py\u001b[0m in \u001b[0;36mget\u001b[1;34m(url, params, **kwargs)\u001b[0m\n\u001b[0;32m     73\u001b[0m     \"\"\"\n\u001b[0;32m     74\u001b[0m \u001b[1;33m\u001b[0m\u001b[0m\n\u001b[1;32m---> 75\u001b[1;33m     \u001b[1;32mreturn\u001b[0m \u001b[0mrequest\u001b[0m\u001b[1;33m(\u001b[0m\u001b[1;34m'get'\u001b[0m\u001b[1;33m,\u001b[0m \u001b[0murl\u001b[0m\u001b[1;33m,\u001b[0m \u001b[0mparams\u001b[0m\u001b[1;33m=\u001b[0m\u001b[0mparams\u001b[0m\u001b[1;33m,\u001b[0m \u001b[1;33m**\u001b[0m\u001b[0mkwargs\u001b[0m\u001b[1;33m)\u001b[0m\u001b[1;33m\u001b[0m\u001b[1;33m\u001b[0m\u001b[0m\n\u001b[0m\u001b[0;32m     76\u001b[0m \u001b[1;33m\u001b[0m\u001b[0m\n\u001b[0;32m     77\u001b[0m \u001b[1;33m\u001b[0m\u001b[0m\n",
      "\u001b[1;32m~\\anaconda3\\lib\\site-packages\\requests\\api.py\u001b[0m in \u001b[0;36mrequest\u001b[1;34m(method, url, **kwargs)\u001b[0m\n\u001b[0;32m     59\u001b[0m     \u001b[1;31m# cases, and look like a memory leak in others.\u001b[0m\u001b[1;33m\u001b[0m\u001b[1;33m\u001b[0m\u001b[0m\n\u001b[0;32m     60\u001b[0m     \u001b[1;32mwith\u001b[0m \u001b[0msessions\u001b[0m\u001b[1;33m.\u001b[0m\u001b[0mSession\u001b[0m\u001b[1;33m(\u001b[0m\u001b[1;33m)\u001b[0m \u001b[1;32mas\u001b[0m \u001b[0msession\u001b[0m\u001b[1;33m:\u001b[0m\u001b[1;33m\u001b[0m\u001b[1;33m\u001b[0m\u001b[0m\n\u001b[1;32m---> 61\u001b[1;33m         \u001b[1;32mreturn\u001b[0m \u001b[0msession\u001b[0m\u001b[1;33m.\u001b[0m\u001b[0mrequest\u001b[0m\u001b[1;33m(\u001b[0m\u001b[0mmethod\u001b[0m\u001b[1;33m=\u001b[0m\u001b[0mmethod\u001b[0m\u001b[1;33m,\u001b[0m \u001b[0murl\u001b[0m\u001b[1;33m=\u001b[0m\u001b[0murl\u001b[0m\u001b[1;33m,\u001b[0m \u001b[1;33m**\u001b[0m\u001b[0mkwargs\u001b[0m\u001b[1;33m)\u001b[0m\u001b[1;33m\u001b[0m\u001b[1;33m\u001b[0m\u001b[0m\n\u001b[0m\u001b[0;32m     62\u001b[0m \u001b[1;33m\u001b[0m\u001b[0m\n\u001b[0;32m     63\u001b[0m \u001b[1;33m\u001b[0m\u001b[0m\n",
      "\u001b[1;32m~\\anaconda3\\lib\\site-packages\\requests\\sessions.py\u001b[0m in \u001b[0;36mrequest\u001b[1;34m(self, method, url, params, data, headers, cookies, files, auth, timeout, allow_redirects, proxies, hooks, stream, verify, cert, json)\u001b[0m\n\u001b[0;32m    540\u001b[0m         }\n\u001b[0;32m    541\u001b[0m         \u001b[0msend_kwargs\u001b[0m\u001b[1;33m.\u001b[0m\u001b[0mupdate\u001b[0m\u001b[1;33m(\u001b[0m\u001b[0msettings\u001b[0m\u001b[1;33m)\u001b[0m\u001b[1;33m\u001b[0m\u001b[1;33m\u001b[0m\u001b[0m\n\u001b[1;32m--> 542\u001b[1;33m         \u001b[0mresp\u001b[0m \u001b[1;33m=\u001b[0m \u001b[0mself\u001b[0m\u001b[1;33m.\u001b[0m\u001b[0msend\u001b[0m\u001b[1;33m(\u001b[0m\u001b[0mprep\u001b[0m\u001b[1;33m,\u001b[0m \u001b[1;33m**\u001b[0m\u001b[0msend_kwargs\u001b[0m\u001b[1;33m)\u001b[0m\u001b[1;33m\u001b[0m\u001b[1;33m\u001b[0m\u001b[0m\n\u001b[0m\u001b[0;32m    543\u001b[0m \u001b[1;33m\u001b[0m\u001b[0m\n\u001b[0;32m    544\u001b[0m         \u001b[1;32mreturn\u001b[0m \u001b[0mresp\u001b[0m\u001b[1;33m\u001b[0m\u001b[1;33m\u001b[0m\u001b[0m\n",
      "\u001b[1;32m~\\anaconda3\\lib\\site-packages\\requests\\sessions.py\u001b[0m in \u001b[0;36msend\u001b[1;34m(self, request, **kwargs)\u001b[0m\n\u001b[0;32m    653\u001b[0m \u001b[1;33m\u001b[0m\u001b[0m\n\u001b[0;32m    654\u001b[0m         \u001b[1;31m# Send the request\u001b[0m\u001b[1;33m\u001b[0m\u001b[1;33m\u001b[0m\u001b[0m\n\u001b[1;32m--> 655\u001b[1;33m         \u001b[0mr\u001b[0m \u001b[1;33m=\u001b[0m \u001b[0madapter\u001b[0m\u001b[1;33m.\u001b[0m\u001b[0msend\u001b[0m\u001b[1;33m(\u001b[0m\u001b[0mrequest\u001b[0m\u001b[1;33m,\u001b[0m \u001b[1;33m**\u001b[0m\u001b[0mkwargs\u001b[0m\u001b[1;33m)\u001b[0m\u001b[1;33m\u001b[0m\u001b[1;33m\u001b[0m\u001b[0m\n\u001b[0m\u001b[0;32m    656\u001b[0m \u001b[1;33m\u001b[0m\u001b[0m\n\u001b[0;32m    657\u001b[0m         \u001b[1;31m# Total elapsed time of the request (approximately)\u001b[0m\u001b[1;33m\u001b[0m\u001b[1;33m\u001b[0m\u001b[0m\n",
      "\u001b[1;32m~\\anaconda3\\lib\\site-packages\\requests\\adapters.py\u001b[0m in \u001b[0;36msend\u001b[1;34m(self, request, stream, timeout, verify, cert, proxies)\u001b[0m\n\u001b[0;32m    437\u001b[0m         \u001b[1;32mtry\u001b[0m\u001b[1;33m:\u001b[0m\u001b[1;33m\u001b[0m\u001b[1;33m\u001b[0m\u001b[0m\n\u001b[0;32m    438\u001b[0m             \u001b[1;32mif\u001b[0m \u001b[1;32mnot\u001b[0m \u001b[0mchunked\u001b[0m\u001b[1;33m:\u001b[0m\u001b[1;33m\u001b[0m\u001b[1;33m\u001b[0m\u001b[0m\n\u001b[1;32m--> 439\u001b[1;33m                 resp = conn.urlopen(\n\u001b[0m\u001b[0;32m    440\u001b[0m                     \u001b[0mmethod\u001b[0m\u001b[1;33m=\u001b[0m\u001b[0mrequest\u001b[0m\u001b[1;33m.\u001b[0m\u001b[0mmethod\u001b[0m\u001b[1;33m,\u001b[0m\u001b[1;33m\u001b[0m\u001b[1;33m\u001b[0m\u001b[0m\n\u001b[0;32m    441\u001b[0m                     \u001b[0murl\u001b[0m\u001b[1;33m=\u001b[0m\u001b[0murl\u001b[0m\u001b[1;33m,\u001b[0m\u001b[1;33m\u001b[0m\u001b[1;33m\u001b[0m\u001b[0m\n",
      "\u001b[1;32m~\\anaconda3\\lib\\site-packages\\urllib3\\connectionpool.py\u001b[0m in \u001b[0;36murlopen\u001b[1;34m(self, method, url, body, headers, retries, redirect, assert_same_host, timeout, pool_timeout, release_conn, chunked, body_pos, **response_kw)\u001b[0m\n\u001b[0;32m    697\u001b[0m \u001b[1;33m\u001b[0m\u001b[0m\n\u001b[0;32m    698\u001b[0m             \u001b[1;31m# Make the request on the httplib connection object.\u001b[0m\u001b[1;33m\u001b[0m\u001b[1;33m\u001b[0m\u001b[0m\n\u001b[1;32m--> 699\u001b[1;33m             httplib_response = self._make_request(\n\u001b[0m\u001b[0;32m    700\u001b[0m                 \u001b[0mconn\u001b[0m\u001b[1;33m,\u001b[0m\u001b[1;33m\u001b[0m\u001b[1;33m\u001b[0m\u001b[0m\n\u001b[0;32m    701\u001b[0m                 \u001b[0mmethod\u001b[0m\u001b[1;33m,\u001b[0m\u001b[1;33m\u001b[0m\u001b[1;33m\u001b[0m\u001b[0m\n",
      "\u001b[1;32m~\\anaconda3\\lib\\site-packages\\urllib3\\connectionpool.py\u001b[0m in \u001b[0;36m_make_request\u001b[1;34m(self, conn, method, url, timeout, chunked, **httplib_request_kw)\u001b[0m\n\u001b[0;32m    443\u001b[0m                     \u001b[1;31m# Python 3 (including for exceptions like SystemExit).\u001b[0m\u001b[1;33m\u001b[0m\u001b[1;33m\u001b[0m\u001b[0m\n\u001b[0;32m    444\u001b[0m                     \u001b[1;31m# Otherwise it looks like a bug in the code.\u001b[0m\u001b[1;33m\u001b[0m\u001b[1;33m\u001b[0m\u001b[0m\n\u001b[1;32m--> 445\u001b[1;33m                     \u001b[0msix\u001b[0m\u001b[1;33m.\u001b[0m\u001b[0mraise_from\u001b[0m\u001b[1;33m(\u001b[0m\u001b[0me\u001b[0m\u001b[1;33m,\u001b[0m \u001b[1;32mNone\u001b[0m\u001b[1;33m)\u001b[0m\u001b[1;33m\u001b[0m\u001b[1;33m\u001b[0m\u001b[0m\n\u001b[0m\u001b[0;32m    446\u001b[0m         \u001b[1;32mexcept\u001b[0m \u001b[1;33m(\u001b[0m\u001b[0mSocketTimeout\u001b[0m\u001b[1;33m,\u001b[0m \u001b[0mBaseSSLError\u001b[0m\u001b[1;33m,\u001b[0m \u001b[0mSocketError\u001b[0m\u001b[1;33m)\u001b[0m \u001b[1;32mas\u001b[0m \u001b[0me\u001b[0m\u001b[1;33m:\u001b[0m\u001b[1;33m\u001b[0m\u001b[1;33m\u001b[0m\u001b[0m\n\u001b[0;32m    447\u001b[0m             \u001b[0mself\u001b[0m\u001b[1;33m.\u001b[0m\u001b[0m_raise_timeout\u001b[0m\u001b[1;33m(\u001b[0m\u001b[0merr\u001b[0m\u001b[1;33m=\u001b[0m\u001b[0me\u001b[0m\u001b[1;33m,\u001b[0m \u001b[0murl\u001b[0m\u001b[1;33m=\u001b[0m\u001b[0murl\u001b[0m\u001b[1;33m,\u001b[0m \u001b[0mtimeout_value\u001b[0m\u001b[1;33m=\u001b[0m\u001b[0mread_timeout\u001b[0m\u001b[1;33m)\u001b[0m\u001b[1;33m\u001b[0m\u001b[1;33m\u001b[0m\u001b[0m\n",
      "\u001b[1;32m~\\anaconda3\\lib\\site-packages\\urllib3\\packages\\six.py\u001b[0m in \u001b[0;36mraise_from\u001b[1;34m(value, from_value)\u001b[0m\n",
      "\u001b[1;32m~\\anaconda3\\lib\\site-packages\\urllib3\\connectionpool.py\u001b[0m in \u001b[0;36m_make_request\u001b[1;34m(self, conn, method, url, timeout, chunked, **httplib_request_kw)\u001b[0m\n\u001b[0;32m    438\u001b[0m                 \u001b[1;31m# Python 3\u001b[0m\u001b[1;33m\u001b[0m\u001b[1;33m\u001b[0m\u001b[0m\n\u001b[0;32m    439\u001b[0m                 \u001b[1;32mtry\u001b[0m\u001b[1;33m:\u001b[0m\u001b[1;33m\u001b[0m\u001b[1;33m\u001b[0m\u001b[0m\n\u001b[1;32m--> 440\u001b[1;33m                     \u001b[0mhttplib_response\u001b[0m \u001b[1;33m=\u001b[0m \u001b[0mconn\u001b[0m\u001b[1;33m.\u001b[0m\u001b[0mgetresponse\u001b[0m\u001b[1;33m(\u001b[0m\u001b[1;33m)\u001b[0m\u001b[1;33m\u001b[0m\u001b[1;33m\u001b[0m\u001b[0m\n\u001b[0m\u001b[0;32m    441\u001b[0m                 \u001b[1;32mexcept\u001b[0m \u001b[0mBaseException\u001b[0m \u001b[1;32mas\u001b[0m \u001b[0me\u001b[0m\u001b[1;33m:\u001b[0m\u001b[1;33m\u001b[0m\u001b[1;33m\u001b[0m\u001b[0m\n\u001b[0;32m    442\u001b[0m                     \u001b[1;31m# Remove the TypeError from the exception chain in\u001b[0m\u001b[1;33m\u001b[0m\u001b[1;33m\u001b[0m\u001b[0m\n",
      "\u001b[1;32m~\\anaconda3\\lib\\http\\client.py\u001b[0m in \u001b[0;36mgetresponse\u001b[1;34m(self)\u001b[0m\n\u001b[0;32m   1369\u001b[0m         \u001b[1;32mtry\u001b[0m\u001b[1;33m:\u001b[0m\u001b[1;33m\u001b[0m\u001b[1;33m\u001b[0m\u001b[0m\n\u001b[0;32m   1370\u001b[0m             \u001b[1;32mtry\u001b[0m\u001b[1;33m:\u001b[0m\u001b[1;33m\u001b[0m\u001b[1;33m\u001b[0m\u001b[0m\n\u001b[1;32m-> 1371\u001b[1;33m                 \u001b[0mresponse\u001b[0m\u001b[1;33m.\u001b[0m\u001b[0mbegin\u001b[0m\u001b[1;33m(\u001b[0m\u001b[1;33m)\u001b[0m\u001b[1;33m\u001b[0m\u001b[1;33m\u001b[0m\u001b[0m\n\u001b[0m\u001b[0;32m   1372\u001b[0m             \u001b[1;32mexcept\u001b[0m \u001b[0mConnectionError\u001b[0m\u001b[1;33m:\u001b[0m\u001b[1;33m\u001b[0m\u001b[1;33m\u001b[0m\u001b[0m\n\u001b[0;32m   1373\u001b[0m                 \u001b[0mself\u001b[0m\u001b[1;33m.\u001b[0m\u001b[0mclose\u001b[0m\u001b[1;33m(\u001b[0m\u001b[1;33m)\u001b[0m\u001b[1;33m\u001b[0m\u001b[1;33m\u001b[0m\u001b[0m\n",
      "\u001b[1;32m~\\anaconda3\\lib\\http\\client.py\u001b[0m in \u001b[0;36mbegin\u001b[1;34m(self)\u001b[0m\n\u001b[0;32m    317\u001b[0m         \u001b[1;31m# read until we get a non-100 response\u001b[0m\u001b[1;33m\u001b[0m\u001b[1;33m\u001b[0m\u001b[0m\n\u001b[0;32m    318\u001b[0m         \u001b[1;32mwhile\u001b[0m \u001b[1;32mTrue\u001b[0m\u001b[1;33m:\u001b[0m\u001b[1;33m\u001b[0m\u001b[1;33m\u001b[0m\u001b[0m\n\u001b[1;32m--> 319\u001b[1;33m             \u001b[0mversion\u001b[0m\u001b[1;33m,\u001b[0m \u001b[0mstatus\u001b[0m\u001b[1;33m,\u001b[0m \u001b[0mreason\u001b[0m \u001b[1;33m=\u001b[0m \u001b[0mself\u001b[0m\u001b[1;33m.\u001b[0m\u001b[0m_read_status\u001b[0m\u001b[1;33m(\u001b[0m\u001b[1;33m)\u001b[0m\u001b[1;33m\u001b[0m\u001b[1;33m\u001b[0m\u001b[0m\n\u001b[0m\u001b[0;32m    320\u001b[0m             \u001b[1;32mif\u001b[0m \u001b[0mstatus\u001b[0m \u001b[1;33m!=\u001b[0m \u001b[0mCONTINUE\u001b[0m\u001b[1;33m:\u001b[0m\u001b[1;33m\u001b[0m\u001b[1;33m\u001b[0m\u001b[0m\n\u001b[0;32m    321\u001b[0m                 \u001b[1;32mbreak\u001b[0m\u001b[1;33m\u001b[0m\u001b[1;33m\u001b[0m\u001b[0m\n",
      "\u001b[1;32m~\\anaconda3\\lib\\http\\client.py\u001b[0m in \u001b[0;36m_read_status\u001b[1;34m(self)\u001b[0m\n\u001b[0;32m    278\u001b[0m \u001b[1;33m\u001b[0m\u001b[0m\n\u001b[0;32m    279\u001b[0m     \u001b[1;32mdef\u001b[0m \u001b[0m_read_status\u001b[0m\u001b[1;33m(\u001b[0m\u001b[0mself\u001b[0m\u001b[1;33m)\u001b[0m\u001b[1;33m:\u001b[0m\u001b[1;33m\u001b[0m\u001b[1;33m\u001b[0m\u001b[0m\n\u001b[1;32m--> 280\u001b[1;33m         \u001b[0mline\u001b[0m \u001b[1;33m=\u001b[0m \u001b[0mstr\u001b[0m\u001b[1;33m(\u001b[0m\u001b[0mself\u001b[0m\u001b[1;33m.\u001b[0m\u001b[0mfp\u001b[0m\u001b[1;33m.\u001b[0m\u001b[0mreadline\u001b[0m\u001b[1;33m(\u001b[0m\u001b[0m_MAXLINE\u001b[0m \u001b[1;33m+\u001b[0m \u001b[1;36m1\u001b[0m\u001b[1;33m)\u001b[0m\u001b[1;33m,\u001b[0m \u001b[1;34m\"iso-8859-1\"\u001b[0m\u001b[1;33m)\u001b[0m\u001b[1;33m\u001b[0m\u001b[1;33m\u001b[0m\u001b[0m\n\u001b[0m\u001b[0;32m    281\u001b[0m         \u001b[1;32mif\u001b[0m \u001b[0mlen\u001b[0m\u001b[1;33m(\u001b[0m\u001b[0mline\u001b[0m\u001b[1;33m)\u001b[0m \u001b[1;33m>\u001b[0m \u001b[0m_MAXLINE\u001b[0m\u001b[1;33m:\u001b[0m\u001b[1;33m\u001b[0m\u001b[1;33m\u001b[0m\u001b[0m\n\u001b[0;32m    282\u001b[0m             \u001b[1;32mraise\u001b[0m \u001b[0mLineTooLong\u001b[0m\u001b[1;33m(\u001b[0m\u001b[1;34m\"status line\"\u001b[0m\u001b[1;33m)\u001b[0m\u001b[1;33m\u001b[0m\u001b[1;33m\u001b[0m\u001b[0m\n",
      "\u001b[1;32m~\\anaconda3\\lib\\socket.py\u001b[0m in \u001b[0;36mreadinto\u001b[1;34m(self, b)\u001b[0m\n\u001b[0;32m    702\u001b[0m         \u001b[1;32mwhile\u001b[0m \u001b[1;32mTrue\u001b[0m\u001b[1;33m:\u001b[0m\u001b[1;33m\u001b[0m\u001b[1;33m\u001b[0m\u001b[0m\n\u001b[0;32m    703\u001b[0m             \u001b[1;32mtry\u001b[0m\u001b[1;33m:\u001b[0m\u001b[1;33m\u001b[0m\u001b[1;33m\u001b[0m\u001b[0m\n\u001b[1;32m--> 704\u001b[1;33m                 \u001b[1;32mreturn\u001b[0m \u001b[0mself\u001b[0m\u001b[1;33m.\u001b[0m\u001b[0m_sock\u001b[0m\u001b[1;33m.\u001b[0m\u001b[0mrecv_into\u001b[0m\u001b[1;33m(\u001b[0m\u001b[0mb\u001b[0m\u001b[1;33m)\u001b[0m\u001b[1;33m\u001b[0m\u001b[1;33m\u001b[0m\u001b[0m\n\u001b[0m\u001b[0;32m    705\u001b[0m             \u001b[1;32mexcept\u001b[0m \u001b[0mtimeout\u001b[0m\u001b[1;33m:\u001b[0m\u001b[1;33m\u001b[0m\u001b[1;33m\u001b[0m\u001b[0m\n\u001b[0;32m    706\u001b[0m                 \u001b[0mself\u001b[0m\u001b[1;33m.\u001b[0m\u001b[0m_timeout_occurred\u001b[0m \u001b[1;33m=\u001b[0m \u001b[1;32mTrue\u001b[0m\u001b[1;33m\u001b[0m\u001b[1;33m\u001b[0m\u001b[0m\n",
      "\u001b[1;32m~\\anaconda3\\lib\\ssl.py\u001b[0m in \u001b[0;36mrecv_into\u001b[1;34m(self, buffer, nbytes, flags)\u001b[0m\n\u001b[0;32m   1239\u001b[0m                   \u001b[1;34m\"non-zero flags not allowed in calls to recv_into() on %s\"\u001b[0m \u001b[1;33m%\u001b[0m\u001b[1;33m\u001b[0m\u001b[1;33m\u001b[0m\u001b[0m\n\u001b[0;32m   1240\u001b[0m                   self.__class__)\n\u001b[1;32m-> 1241\u001b[1;33m             \u001b[1;32mreturn\u001b[0m \u001b[0mself\u001b[0m\u001b[1;33m.\u001b[0m\u001b[0mread\u001b[0m\u001b[1;33m(\u001b[0m\u001b[0mnbytes\u001b[0m\u001b[1;33m,\u001b[0m \u001b[0mbuffer\u001b[0m\u001b[1;33m)\u001b[0m\u001b[1;33m\u001b[0m\u001b[1;33m\u001b[0m\u001b[0m\n\u001b[0m\u001b[0;32m   1242\u001b[0m         \u001b[1;32melse\u001b[0m\u001b[1;33m:\u001b[0m\u001b[1;33m\u001b[0m\u001b[1;33m\u001b[0m\u001b[0m\n\u001b[0;32m   1243\u001b[0m             \u001b[1;32mreturn\u001b[0m \u001b[0msuper\u001b[0m\u001b[1;33m(\u001b[0m\u001b[1;33m)\u001b[0m\u001b[1;33m.\u001b[0m\u001b[0mrecv_into\u001b[0m\u001b[1;33m(\u001b[0m\u001b[0mbuffer\u001b[0m\u001b[1;33m,\u001b[0m \u001b[0mnbytes\u001b[0m\u001b[1;33m,\u001b[0m \u001b[0mflags\u001b[0m\u001b[1;33m)\u001b[0m\u001b[1;33m\u001b[0m\u001b[1;33m\u001b[0m\u001b[0m\n",
      "\u001b[1;32m~\\anaconda3\\lib\\ssl.py\u001b[0m in \u001b[0;36mread\u001b[1;34m(self, len, buffer)\u001b[0m\n\u001b[0;32m   1097\u001b[0m         \u001b[1;32mtry\u001b[0m\u001b[1;33m:\u001b[0m\u001b[1;33m\u001b[0m\u001b[1;33m\u001b[0m\u001b[0m\n\u001b[0;32m   1098\u001b[0m             \u001b[1;32mif\u001b[0m \u001b[0mbuffer\u001b[0m \u001b[1;32mis\u001b[0m \u001b[1;32mnot\u001b[0m \u001b[1;32mNone\u001b[0m\u001b[1;33m:\u001b[0m\u001b[1;33m\u001b[0m\u001b[1;33m\u001b[0m\u001b[0m\n\u001b[1;32m-> 1099\u001b[1;33m                 \u001b[1;32mreturn\u001b[0m \u001b[0mself\u001b[0m\u001b[1;33m.\u001b[0m\u001b[0m_sslobj\u001b[0m\u001b[1;33m.\u001b[0m\u001b[0mread\u001b[0m\u001b[1;33m(\u001b[0m\u001b[0mlen\u001b[0m\u001b[1;33m,\u001b[0m \u001b[0mbuffer\u001b[0m\u001b[1;33m)\u001b[0m\u001b[1;33m\u001b[0m\u001b[1;33m\u001b[0m\u001b[0m\n\u001b[0m\u001b[0;32m   1100\u001b[0m             \u001b[1;32melse\u001b[0m\u001b[1;33m:\u001b[0m\u001b[1;33m\u001b[0m\u001b[1;33m\u001b[0m\u001b[0m\n\u001b[0;32m   1101\u001b[0m                 \u001b[1;32mreturn\u001b[0m \u001b[0mself\u001b[0m\u001b[1;33m.\u001b[0m\u001b[0m_sslobj\u001b[0m\u001b[1;33m.\u001b[0m\u001b[0mread\u001b[0m\u001b[1;33m(\u001b[0m\u001b[0mlen\u001b[0m\u001b[1;33m)\u001b[0m\u001b[1;33m\u001b[0m\u001b[1;33m\u001b[0m\u001b[0m\n",
      "\u001b[1;31mKeyboardInterrupt\u001b[0m: "
     ]
    }
   ],
   "source": [
    "sp_dataframe = pd.DataFrame(columns = my_columns)\n",
    "print(stocks)\n",
    "for symbol in stocks['Ticker']:\n",
    "    api_url = f'https://sandbox.iexapis.com/stable/stock/{symbol}/quote?token={IEX_CLOUD_API_TOKEN}'\n",
    "    print(api_url)\n",
    "    data = requests.get(api_url).json()\n",
    "    print(data)\n",
    "    sp_dataframe = sp_dataframe.append(\n",
    "                                        pd.Series([symbol, \n",
    "                                                   data['latestPrice'], \n",
    "                                                   data['marketCap'], \n",
    "                                                   'N/A'], \n",
    "                                                  index = my_columns), \n",
    "                                        ignore_index = True)\n",
    "    print(sp_dataframe)\n",
    "    \n"
   ]
  },
  {
   "cell_type": "code",
   "execution_count": null,
   "metadata": {
    "slideshow": {
     "slide_type": "slide"
    }
   },
   "outputs": [],
   "source": [
    "sp_dataframe"
   ]
  },
  {
   "cell_type": "markdown",
   "metadata": {
    "slideshow": {
     "slide_type": "slide"
    }
   },
   "source": [
    "## Using Batch API Calls to Improve Performance\n",
    "\n",
    "Batch API calls are one of the easiest ways to improve the performance of your code.\n",
    "\n",
    "This is because HTTP requests are typically one of the slowest components of a script.\n",
    "\n",
    "Also, API providers will often give you discounted rates for using batch API calls since they are easier for the API provider to respond to.\n",
    "\n",
    "IEX Cloud limits their batch API calls to 100 tickers per request. Still, this reduces the number of API calls we'll make in this section from 500 to 5 - huge improvement! In this section, we'll split our list of stocks into groups of 100 and then make a batch API call for each group."
   ]
  },
  {
   "cell_type": "code",
   "execution_count": null,
   "metadata": {
    "slideshow": {
     "slide_type": "slide"
    }
   },
   "outputs": [],
   "source": [
    "# Function sourced from \n",
    "# https://stackoverflow.com/questions/312443/how-do-you-split-a-list-into-evenly-sized-chunks\n",
    "def chunks(lst, n):\n",
    "    \"\"\"Yield successive n-sized chunks from lst.\"\"\"\n",
    "    for i in range(0, len(lst), n):\n",
    "        yield lst[i:i + n]"
   ]
  },
  {
   "cell_type": "code",
   "execution_count": 32,
   "metadata": {},
   "outputs": [
    {
     "name": "stdout",
     "output_type": "stream",
     "text": [
      "A,AAL,AAP,AAPL,ABBV,ABC,ABMD,ABT,ACN,ADBE,ADI,ADM,ADP,ADSK,AEE,AEP,AES,AFL,AIG,AIV,AIZ,AJG,AKAM,ALB,ALGN,ALK,ALL,ALLE,ALXN,AMAT,AMCR,AMD,AME,AMGN,AMP,AMT,AMZN,ANET,ANSS,ANTM,AON,AOS,APA,APD,APH,APTV,ARE,ATO,ATVI,AVB,AVGO,AVY,AWK,AXP,AZO,BA,BAC,BAX,BBY,BDX,BEN,BF.B,BIIB,BIO,BK,BKNG,BKR,BLK,BLL,BMY,BR,BRK.B,BSX,BWA,BXP,C,CAG,CAH,CARR,CAT,CB,CBOE,CBRE,CCI,CCL,CDNS,CDW,CE,CERN,CF,CFG,CHD,CHRW,CHTR,CI,CINF,CL,CLX,CMA,CMCSA\n",
      "CME,CMG,CMI,CMS,CNC,CNP,COF,COG,COO,COP,COST,COTY,CPB,CPRT,CRM,CSCO,CSX,CTAS,CTL,CTSH,CTVA,CTXS,CVS,CVX,CXO,D,DAL,DD,DE,DFS,DG,DGX,DHI,DHR,DIS,DISCK,DISH,DLR,DLTR,DOV,DOW,DPZ,DRE,DRI,DTE,DUK,DVA,DVN,DXC,DXCM,EA,EBAY,ECL,ED,EFX,EIX,EL,EMN,EMR,EOG,EQIX,EQR,ES,ESS,ETFC,ETN,ETR,EVRG,EW,EXC,EXPD,EXPE,EXR,F,FANG,FAST,FB,FBHS,FCX,FDX,FE,FFIV,FIS,FISV,FITB,FLIR,FLS,FLT,FMC,FOX,FOXA,FRC,FRT,FTI,FTNT,FTV,GD,GE,GILD,GIS\n",
      "GL,GLW,GM,GOOG,GOOGL,GPC,GPN,GPS,GRMN,GS,GWW,HAL,HAS,HBAN,HBI,HCA,HD,HES,HIG,HII,HLT,HOLX,HON,HPE,HPQ,HRB,HRL,HSIC,HST,HSY,HUM,HWM,IBM,ICE,IDXX,IEX,IFF,ILMN,INCY,INFO,INTC,INTU,IP,IPG,IPGP,IQV,IR,IRM,ISRG,IT,ITW,IVZ,J,JBHT,JCI,JKHY,JNJ,JNPR,JPM,K,KEY,KEYS,KHC,KIM,KLAC,KMB,KMI,KMX,KO,KR,KSS,KSU,L,LB,LDOS,LEG,LEN,LH,LHX,LIN,LKQ,LLY,LMT,LNC,LNT,LOW,LRCX,LUV,LVS,LW,LYB,LYV,MA,MAA,MAR,MAS,MCD,MCHP,MCK,MCO\n",
      "MDLZ,MDT,MET,MGM,MHK,MKC,MKTX,MLM,MMC,MMM,MNST,MO,MOS,MPC,MRK,MRO,MS,MSCI,MSFT,MSI,MTB,MTD,MU,MXIM,MYL,NBL,NCLH,NDAQ,NEE,NEM,NFLX,NI,NKE,NLOK,NLSN,NOC,NOV,NOW,NRG,NSC,NTAP,NTRS,NUE,NVDA,NVR,NWL,NWS,NWSA,O,ODFL,OKE,OMC,ORCL,ORLY,OTIS,OXY,PAYC,PAYX,PBCT,PCAR,PEAK,PEG,PEP,PFE,PFG,PG,PGR,PH,PHM,PKG,PKI,PLD,PM,PNC,PNR,PNW,PPG,PPL,PRGO,PRU,PSA,PSX,PVH,PWR,PXD,PYPL,QCOM,QRVO,RCL,RE,REG,REGN,RF,RHI,RJF,RL,RMD,ROK,ROL,ROP\n",
      "ROST,RSG,RTX,SBAC,SBUX,SCHW,SEE,SHW,SIVB,SJM,SLB,SLG,SNA,SNPS,SO,SPG,SPGI,SRE,STE,STT,STX,STZ,SWK,SWKS,SYF,SYK,SYY,T,TAP,TDG,TDY,TEL,TFC,TFX,TGT,TIF,TJX,TMO,TMUS,TPR,TROW,TRV,TSCO,TSN,TT,TTWO,TWTR,TXN,TXT,TYL,UA,UAA,UAL,UDR,UHS,ULTA,UNH,UNM,UNP,UPS,URI,USB,V,VAR,VFC,VLO,VMC,VNO,VRSK,VRSN,VRTX,VTR,VZ,WAB,WAT,WBA,WDC,WEC,WELL,WFC,WHR,WM,WMB,WMT,WRB,WRK,WST,WU,WY,WYNN,XEL,XLNX,XOM,XRAY,XRX,XYL,YUM,ZBH,ZBRA,ZION\n",
      "ZTS\n",
      "None\n",
      "None\n",
      "None\n",
      "None\n",
      "None\n",
      "None\n"
     ]
    },
    {
     "data": {
      "text/html": [
       "<div>\n",
       "<style scoped>\n",
       "    .dataframe tbody tr th:only-of-type {\n",
       "        vertical-align: middle;\n",
       "    }\n",
       "\n",
       "    .dataframe tbody tr th {\n",
       "        vertical-align: top;\n",
       "    }\n",
       "\n",
       "    .dataframe thead th {\n",
       "        text-align: right;\n",
       "    }\n",
       "</style>\n",
       "<table border=\"1\" class=\"dataframe\">\n",
       "  <thead>\n",
       "    <tr style=\"text-align: right;\">\n",
       "      <th></th>\n",
       "      <th>Ticker</th>\n",
       "      <th>Price</th>\n",
       "      <th>Market Capitalization</th>\n",
       "      <th>Number Of Shares to Buy</th>\n",
       "    </tr>\n",
       "  </thead>\n",
       "  <tbody>\n",
       "    <tr>\n",
       "      <th>0</th>\n",
       "      <td>A</td>\n",
       "      <td>137.70</td>\n",
       "      <td>41008767693</td>\n",
       "      <td>N/A</td>\n",
       "    </tr>\n",
       "    <tr>\n",
       "      <th>1</th>\n",
       "      <td>AAL</td>\n",
       "      <td>15.42</td>\n",
       "      <td>10262433050</td>\n",
       "      <td>N/A</td>\n",
       "    </tr>\n",
       "    <tr>\n",
       "      <th>2</th>\n",
       "      <td>AAP</td>\n",
       "      <td>202.47</td>\n",
       "      <td>12074237786</td>\n",
       "      <td>N/A</td>\n",
       "    </tr>\n",
       "    <tr>\n",
       "      <th>3</th>\n",
       "      <td>AAPL</td>\n",
       "      <td>172.16</td>\n",
       "      <td>2758693086388</td>\n",
       "      <td>N/A</td>\n",
       "    </tr>\n",
       "    <tr>\n",
       "      <th>4</th>\n",
       "      <td>ABBV</td>\n",
       "      <td>145.74</td>\n",
       "      <td>261291126123</td>\n",
       "      <td>N/A</td>\n",
       "    </tr>\n",
       "    <tr>\n",
       "      <th>...</th>\n",
       "      <td>...</td>\n",
       "      <td>...</td>\n",
       "      <td>...</td>\n",
       "      <td>...</td>\n",
       "    </tr>\n",
       "    <tr>\n",
       "      <th>496</th>\n",
       "      <td>YUM</td>\n",
       "      <td>123.37</td>\n",
       "      <td>34835005431</td>\n",
       "      <td>N/A</td>\n",
       "    </tr>\n",
       "    <tr>\n",
       "      <th>497</th>\n",
       "      <td>ZBH</td>\n",
       "      <td>116.10</td>\n",
       "      <td>25037656588</td>\n",
       "      <td>N/A</td>\n",
       "    </tr>\n",
       "    <tr>\n",
       "      <th>498</th>\n",
       "      <td>ZBRA</td>\n",
       "      <td>344.24</td>\n",
       "      <td>17510764624</td>\n",
       "      <td>N/A</td>\n",
       "    </tr>\n",
       "    <tr>\n",
       "      <th>499</th>\n",
       "      <td>ZION</td>\n",
       "      <td>58.24</td>\n",
       "      <td>8858413160</td>\n",
       "      <td>N/A</td>\n",
       "    </tr>\n",
       "    <tr>\n",
       "      <th>500</th>\n",
       "      <td>ZTS</td>\n",
       "      <td>181.54</td>\n",
       "      <td>85523951982</td>\n",
       "      <td>N/A</td>\n",
       "    </tr>\n",
       "  </tbody>\n",
       "</table>\n",
       "<p>501 rows × 4 columns</p>\n",
       "</div>"
      ],
      "text/plain": [
       "    Ticker   Price Market Capitalization Number Of Shares to Buy\n",
       "0        A  137.70           41008767693                     N/A\n",
       "1      AAL   15.42           10262433050                     N/A\n",
       "2      AAP  202.47           12074237786                     N/A\n",
       "3     AAPL  172.16         2758693086388                     N/A\n",
       "4     ABBV  145.74          261291126123                     N/A\n",
       "..     ...     ...                   ...                     ...\n",
       "496    YUM  123.37           34835005431                     N/A\n",
       "497    ZBH  116.10           25037656588                     N/A\n",
       "498   ZBRA  344.24           17510764624                     N/A\n",
       "499   ZION   58.24            8858413160                     N/A\n",
       "500    ZTS  181.54           85523951982                     N/A\n",
       "\n",
       "[501 rows x 4 columns]"
      ]
     },
     "execution_count": 32,
     "metadata": {},
     "output_type": "execute_result"
    }
   ],
   "source": [
    "symbol_groups = list(chunks(stocks['Ticker'], 100))\n",
    "symbol_strings = []\n",
    "for i in range(0, len(symbol_groups)):\n",
    "    symbol_strings.append(','.join(symbol_groups[i]))\n",
    "    print(symbol_strings[i])\n",
    "\n",
    "sp_dataframe = pd.DataFrame(columns = my_columns)\n",
    "\n",
    "for symbol_string in symbol_strings:\n",
    "#     print(symbol_strings)\n",
    "        batch_api_call_url = f'https://sandbox.iexapis.com/stable/stock/market/batch/?types=quote&symbols={symbol_string}&token={IEX_CLOUD_API_TOKEN}'\n",
    "        data = requests.get(batch_api_call_url).json()\n",
    "        print (data.get(BaseException))\n",
    "\n",
    "        for symbol in symbol_string.split(','):\n",
    "            sp_dataframe = sp_dataframe.append(\n",
    "                                            pd.Series([symbol, \n",
    "                                                       data[symbol]['quote']['latestPrice'], \n",
    "                                                       data[symbol]['quote']['marketCap'], \n",
    "                                                       'N/A'], \n",
    "                                                      index = my_columns), \n",
    "                                            ignore_index = True)\n",
    "\n",
    "\n",
    "    \n",
    "sp_dataframe\n",
    "\n"
   ]
  },
  {
   "cell_type": "code",
   "execution_count": null,
   "metadata": {},
   "outputs": [],
   "source": []
  },
  {
   "cell_type": "markdown",
   "metadata": {
    "slideshow": {
     "slide_type": "slide"
    }
   },
   "source": [
    "## Calculating the Number of Shares to Buy\n",
    "\n",
    "As you can see in the DataFrame above, we stil haven't calculated the number of shares of each stock to buy.\n",
    "\n",
    "We'll do that next."
   ]
  },
  {
   "cell_type": "code",
   "execution_count": 33,
   "metadata": {
    "slideshow": {
     "slide_type": "slide"
    }
   },
   "outputs": [
    {
     "name": "stdout",
     "output_type": "stream",
     "text": [
      "Enter the value of your portfolio:1000000\n"
     ]
    }
   ],
   "source": [
    "portfolio_size = input(\"Enter the value of your portfolio:\")\n",
    "\n",
    "try:\n",
    "    val = float(portfolio_size)\n",
    "except ValueError:\n",
    "    print(\"That's not a number! \\n Try again:\")\n",
    "    portfolio_size = input(\"Enter the value of your portfolio:\")"
   ]
  },
  {
   "cell_type": "code",
   "execution_count": 34,
   "metadata": {
    "slideshow": {
     "slide_type": "slide"
    }
   },
   "outputs": [
    {
     "name": "stdout",
     "output_type": "stream",
     "text": [
      "501\n",
      "1996.007984031936\n"
     ]
    },
    {
     "data": {
      "text/html": [
       "<div>\n",
       "<style scoped>\n",
       "    .dataframe tbody tr th:only-of-type {\n",
       "        vertical-align: middle;\n",
       "    }\n",
       "\n",
       "    .dataframe tbody tr th {\n",
       "        vertical-align: top;\n",
       "    }\n",
       "\n",
       "    .dataframe thead th {\n",
       "        text-align: right;\n",
       "    }\n",
       "</style>\n",
       "<table border=\"1\" class=\"dataframe\">\n",
       "  <thead>\n",
       "    <tr style=\"text-align: right;\">\n",
       "      <th></th>\n",
       "      <th>Ticker</th>\n",
       "      <th>Price</th>\n",
       "      <th>Market Capitalization</th>\n",
       "      <th>Number Of Shares to Buy</th>\n",
       "    </tr>\n",
       "  </thead>\n",
       "  <tbody>\n",
       "    <tr>\n",
       "      <th>0</th>\n",
       "      <td>A</td>\n",
       "      <td>137.70</td>\n",
       "      <td>41008767693</td>\n",
       "      <td>14</td>\n",
       "    </tr>\n",
       "    <tr>\n",
       "      <th>1</th>\n",
       "      <td>AAL</td>\n",
       "      <td>15.42</td>\n",
       "      <td>10262433050</td>\n",
       "      <td>129</td>\n",
       "    </tr>\n",
       "    <tr>\n",
       "      <th>2</th>\n",
       "      <td>AAP</td>\n",
       "      <td>202.47</td>\n",
       "      <td>12074237786</td>\n",
       "      <td>9</td>\n",
       "    </tr>\n",
       "    <tr>\n",
       "      <th>3</th>\n",
       "      <td>AAPL</td>\n",
       "      <td>172.16</td>\n",
       "      <td>2758693086388</td>\n",
       "      <td>11</td>\n",
       "    </tr>\n",
       "    <tr>\n",
       "      <th>4</th>\n",
       "      <td>ABBV</td>\n",
       "      <td>145.74</td>\n",
       "      <td>261291126123</td>\n",
       "      <td>13</td>\n",
       "    </tr>\n",
       "    <tr>\n",
       "      <th>...</th>\n",
       "      <td>...</td>\n",
       "      <td>...</td>\n",
       "      <td>...</td>\n",
       "      <td>...</td>\n",
       "    </tr>\n",
       "    <tr>\n",
       "      <th>496</th>\n",
       "      <td>YUM</td>\n",
       "      <td>123.37</td>\n",
       "      <td>34835005431</td>\n",
       "      <td>16</td>\n",
       "    </tr>\n",
       "    <tr>\n",
       "      <th>497</th>\n",
       "      <td>ZBH</td>\n",
       "      <td>116.10</td>\n",
       "      <td>25037656588</td>\n",
       "      <td>17</td>\n",
       "    </tr>\n",
       "    <tr>\n",
       "      <th>498</th>\n",
       "      <td>ZBRA</td>\n",
       "      <td>344.24</td>\n",
       "      <td>17510764624</td>\n",
       "      <td>5</td>\n",
       "    </tr>\n",
       "    <tr>\n",
       "      <th>499</th>\n",
       "      <td>ZION</td>\n",
       "      <td>58.24</td>\n",
       "      <td>8858413160</td>\n",
       "      <td>34</td>\n",
       "    </tr>\n",
       "    <tr>\n",
       "      <th>500</th>\n",
       "      <td>ZTS</td>\n",
       "      <td>181.54</td>\n",
       "      <td>85523951982</td>\n",
       "      <td>10</td>\n",
       "    </tr>\n",
       "  </tbody>\n",
       "</table>\n",
       "<p>501 rows × 4 columns</p>\n",
       "</div>"
      ],
      "text/plain": [
       "    Ticker   Price Market Capitalization Number Of Shares to Buy\n",
       "0        A  137.70           41008767693                      14\n",
       "1      AAL   15.42           10262433050                     129\n",
       "2      AAP  202.47           12074237786                       9\n",
       "3     AAPL  172.16         2758693086388                      11\n",
       "4     ABBV  145.74          261291126123                      13\n",
       "..     ...     ...                   ...                     ...\n",
       "496    YUM  123.37           34835005431                      16\n",
       "497    ZBH  116.10           25037656588                      17\n",
       "498   ZBRA  344.24           17510764624                       5\n",
       "499   ZION   58.24            8858413160                      34\n",
       "500    ZTS  181.54           85523951982                      10\n",
       "\n",
       "[501 rows x 4 columns]"
      ]
     },
     "execution_count": 34,
     "metadata": {},
     "output_type": "execute_result"
    }
   ],
   "source": [
    "position_size = float(portfolio_size) / len(sp_dataframe.index)\n",
    "print(len(sp_dataframe.index))\n",
    "print(position_size)\n",
    "for i in range(0, len(sp_dataframe['Ticker'])):\n",
    "    sp_dataframe.loc[i, 'Number Of Shares to Buy'] = math.floor(position_size / sp_dataframe['Price'][i])\n",
    "sp_dataframe"
   ]
  },
  {
   "cell_type": "code",
   "execution_count": 36,
   "metadata": {},
   "outputs": [],
   "source": [
    "import seaborn as sns\n",
    "sp_dataFrame_graph=pd.DataFrame()\n",
    "sp_dataFrame_graph['ticker']=sp_dataframe[\"Ticker\"]\n",
    "sp_dataFrame_graph['mar_cap']=sp_dataframe[\"Market Capitalization\"].astype(float)/100\n",
    "sp_dataFrame_graph['nb_shares']=sp_dataframe[\"Number Of Shares to Buy\"].astype(int)\n",
    "\n"
   ]
  },
  {
   "cell_type": "code",
   "execution_count": 37,
   "metadata": {},
   "outputs": [
    {
     "data": {
      "image/png": "[encoded data removed]",
      "text/plain": [
       "<Figure size 2160x1440 with 1 Axes>"
      ]
     },
     "metadata": {
      "needs_background": "light"
     },
     "output_type": "display_data"
    }
   ],
   "source": [
    "#first 30 tickers\n",
    "plt.figure(figsize=(30,20))\n",
    "ax = sns.barplot(x=\"ticker\",y=sp_dataFrame_graph[\"mar_cap\"],\n",
    "               data=sp_dataFrame_graph.head(30))\n",
    "ax.set_xticklabels(ax.get_xticklabels(), rotation=45, horizontalalignment='right',\n",
    "    fontweight='bold',\n",
    "    fontsize='x-large')\n",
    "plt.show()\n",
    "\n"
   ]
  },
  {
   "cell_type": "code",
   "execution_count": 38,
   "metadata": {},
   "outputs": [
    {
     "data": {
      "image/png": "[encoded data removed]",
      "text/plain": [
       "<Figure size 2160x1440 with 1 Axes>"
      ]
     },
     "metadata": {
      "needs_background": "light"
     },
     "output_type": "display_data"
    }
   ],
   "source": [
    "# sortted values by market cap\n",
    "plt.figure(figsize=(30,20))\n",
    "ax = sns.barplot(x=\"ticker\",y=sp_dataFrame_graph[\"mar_cap\"].astype(float),\n",
    "              data=sp_dataFrame_graph.sort_values(by=\"mar_cap\").head(50))\n",
    "ax.set_xticklabels(ax.get_xticklabels(), rotation=45, horizontalalignment='right',\n",
    "    fontweight='bold',\n",
    "    fontsize='x-large')\n",
    "plt.show()"
   ]
  },
  {
   "cell_type": "code",
   "execution_count": 39,
   "metadata": {},
   "outputs": [
    {
     "data": {
      "image/png": "[encoded data removed]",
      "text/plain": [
       "<Figure size 2160x1440 with 1 Axes>"
      ]
     },
     "metadata": {
      "needs_background": "light"
     },
     "output_type": "display_data"
    }
   ],
   "source": [
    "# nb_shares\n",
    "plt.figure(figsize=(30,20))\n",
    "ax = sns.barplot(x=\"ticker\",y=sp_dataFrame_graph[\"nb_shares\"].astype(float),\n",
    "                 data=sp_dataFrame_graph.sort_values(by=\"mar_cap\").head(50))\n",
    "\n",
    "\n",
    "ax.set_xticklabels(ax.get_xticklabels(), rotation=45, horizontalalignment='right',\n",
    "    fontweight='bold',\n",
    "    fontsize='x-large')\n",
    "for i in ax.containers:\n",
    "    ax.bar_label(i,)\n",
    "    "
   ]
  },
  {
   "cell_type": "markdown",
   "metadata": {
    "slideshow": {
     "slide_type": "slide"
    }
   },
   "source": [
    "## Formatting Our Excel Output\n",
    "\n",
    "We will be using the XlsxWriter library for Python to create nicely-formatted Excel files.\n",
    "\n",
    "XlsxWriter is an excellent package and offers tons of customization. However, the tradeoff for this is that the library can seem very complicated to new users. Accordingly, this section will be fairly long because I want to do a good job of explaining how XlsxWriter works.\n",
    "\n",
    "### Initializing our XlsxWriter Object"
   ]
  },
  {
   "cell_type": "code",
   "execution_count": 40,
   "metadata": {
    "slideshow": {
     "slide_type": "slide"
    }
   },
   "outputs": [],
   "source": [
    "writer = pd.ExcelWriter(r'C:\\Users\\user\\Downloads\\recommended_trades.xlsx', engine='xlsxwriter')\n",
    "sp_dataframe.to_excel(writer, sheet_name='Recommended Trades', index = False)"
   ]
  },
  {
   "cell_type": "markdown",
   "metadata": {
    "slideshow": {
     "slide_type": "slide"
    }
   },
   "source": [
    "### Creating the Formats We'll Need For Our `.xlsx` File\n",
    "\n",
    "Formats include colors, fonts, and also symbols like `%` and `$`. We'll need four main formats for our Excel document:\n",
    "* String format for tickers\n",
    "* \\\\$XX.XX format for stock prices\n",
    "* \\\\$XX,XXX format for market capitalization\n",
    "* Integer format for the number of shares to purchase"
   ]
  },
  {
   "cell_type": "code",
   "execution_count": 41,
   "metadata": {
    "slideshow": {
     "slide_type": "slide"
    }
   },
   "outputs": [],
   "source": [
    "background_color = '#0a0a23'\n",
    "font_color = '#ffffff'\n",
    "\n",
    "string_format = writer.book.add_format(\n",
    "        {\n",
    "            'font_color': font_color,\n",
    "            'bg_color': background_color,\n",
    "            'border': 1\n",
    "        }\n",
    "    )\n",
    "\n",
    "dollar_format = writer.book.add_format(\n",
    "        {\n",
    "            'num_format':'$0.00',\n",
    "            'font_color': font_color,\n",
    "            'bg_color': background_color,\n",
    "            'border': 1\n",
    "        }\n",
    "    )\n",
    "\n",
    "integer_format = writer.book.add_format(\n",
    "        {\n",
    "            'num_format':'0',\n",
    "            'font_color': font_color,\n",
    "            'bg_color': background_color,\n",
    "            'border': 1\n",
    "        }\n",
    "    )"
   ]
  },
  {
   "cell_type": "markdown",
   "metadata": {
    "slideshow": {
     "slide_type": "slide"
    }
   },
   "source": [
    "### Applying the Formats to the Columns of Our `.xlsx` File\n",
    "\n",
    "We can use the `set_column` method applied to the `writer.sheets['Recommended Trades']` object to apply formats to specific columns of our spreadsheets.\n",
    "\n",
    "Here's an example:\n",
    "\n",
    "```python\n",
    "writer.sheets['Recommended Trades'].set_column('B:B', #This tells the method to apply the format to column B\n",
    "                     18, #This tells the method to apply a column width of 18 pixels\n",
    "                     string_format #This applies the format 'string_format' to the column\n",
    "                    )\n",
    "```"
   ]
  },
  {
   "cell_type": "code",
   "execution_count": 42,
   "metadata": {
    "slideshow": {
     "slide_type": "slide"
    }
   },
   "outputs": [],
   "source": [
    "# writer.sheets['Recommended Trades'].write('A1', 'Ticker', string_format)\n",
    "# writer.sheets['Recommended Trades'].write('B1', 'Price', string_format)\n",
    "# writer.sheets['Recommended Trades'].write('C1', 'Market Capitalization', string_format)\n",
    "# writer.sheets['Recommended Trades'].write('D1', 'Number Of Shares to Buy', string_format)\n",
    "# writer.sheets['Recommended Trades'].set_column('A:A', 20, string_format)\n",
    "# writer.sheets['Recommended Trades'].set_column('B:B', 20, dollar_format)\n",
    "# writer.sheets['Recommended Trades'].set_column('C:C', 20, dollar_format)\n",
    "# writer.sheets['Recommended Trades'].set_column('D:D', 20, integer_format)\n"
   ]
  },
  {
   "cell_type": "markdown",
   "metadata": {
    "slideshow": {
     "slide_type": "slide"
    }
   },
   "source": [
    "This code works, but it violates the software principle of \"Don't Repeat Yourself\". \n",
    "\n",
    "Let's simplify this by putting it in 2 loops:"
   ]
  },
  {
   "cell_type": "code",
   "execution_count": 43,
   "metadata": {
    "slideshow": {
     "slide_type": "slide"
    }
   },
   "outputs": [],
   "source": [
    "column_formats = { \n",
    "                    'A': ['Ticker', string_format],\n",
    "                    'B': ['Price', dollar_format],\n",
    "                    'C': ['Market Capitalization', dollar_format],\n",
    "                    'D': ['Number of Shares to Buy', integer_format]\n",
    "                    }\n",
    "\n",
    "for column in column_formats.keys():\n",
    "    writer.sheets['Recommended Trades'].set_column(f'{column}:{column}', 20, column_formats[column][1])\n",
    "    writer.sheets['Recommended Trades'].write(f'{column}1', column_formats[column][0], string_format)"
   ]
  },
  {
   "cell_type": "markdown",
   "metadata": {
    "slideshow": {
     "slide_type": "slide"
    }
   },
   "source": [
    "## Saving Our Excel Output\n",
    "\n",
    "Saving our Excel file is very easy:"
   ]
  },
  {
   "cell_type": "code",
   "execution_count": 44,
   "metadata": {
    "slideshow": {
     "slide_type": "slide"
    }
   },
   "outputs": [],
   "source": [
    "writer.save()"
   ]
  },
  {
   "cell_type": "code",
   "execution_count": null,
   "metadata": {
    "slideshow": {
     "slide_type": "slide"
    }
   },
   "outputs": [],
   "source": [
    "import os\n",
    "current_path = os.getcwd()\n",
    "print(current_path)"
   ]
  },
  {
   "cell_type": "code",
   "execution_count": null,
   "metadata": {},
   "outputs": [],
   "source": [
    "nbconvert --to webpdf --allow-chromium-download SP_500_Equal_Weight.ipynb"
   ]
  },
  {
   "cell_type": "code",
   "execution_count": null,
   "metadata": {},
   "outputs": [],
   "source": []
  }
 ],
 "metadata": {
  "kernelspec": {
   "display_name": "Python 3 (ipykernel)",
   "language": "python",
   "name": "python3"
  },
  "language_info": {
   "codemirror_mode": {
    "name": "ipython",
    "version": 3
   },
   "file_extension": ".py",
   "mimetype": "text/x-python",
   "name": "python",
   "nbconvert_exporter": "python",
   "pygments_lexer": "ipython3",
   "version": "3.9.7"
  }
 },
 "nbformat": 4,
 "nbformat_minor": 4
}
