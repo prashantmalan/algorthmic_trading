{
 "cells": [
  {
   "cell_type": "markdown",
   "metadata": {},
   "source": [
    "# Equal-Weight S&P 500 Index Fund\n",
    "\n",
    "## Introduction & Library Imports\n",
    "\n",
    "The S&P 500 is the world's most popular stock market index. The largest fund that is benchmarked to this index is the SPDR® S&P 500® ETF Trust. It has more than US$250 billion of assets under management.\n",
    "\n",
    "The goal of this section of the course is to create a Python script that will accept the value of your portfolio and tell you how many shares of each S&P 500 constituent you should purchase to get an equal-weight version of the index fund.\n",
    "\n",
    "## Library Imports\n",
    "\n",
    "The first thing we need to do is import the open-source software libraries that we'll be using in this tutorial."
   ]
  },
  {
   "cell_type": "code",
   "execution_count": 30,
   "metadata": {},
   "outputs": [],
   "source": [
    "import numpy as np #The Numpy numerical computing library\n",
    "import pandas as pd #The Pandas data science library\n",
    "import requests #The requests library for HTTP requests in Python\n",
    "import xlsxwriter #The XlsxWriter libarary for \n",
    "import math #The Python math module"
   ]
  },
  {
   "cell_type": "markdown",
   "metadata": {},
   "source": [
    "## Importing Our List of Stocks\n",
    "\n",
    "The next thing we need to do is import the constituents of the S&P 500.\n",
    "\n",
    "These constituents change over time, so in an ideal world you would connect directly to the index provider (Standard & Poor's) and pull their real-time constituents on a regular basis.\n",
    "\n",
    "Paying for access to the index provider's API is outside of the scope of this course. \n",
    "\n",
    "There's a static version of the S&P 500 constituents available here. [Click this link to download them now](http://nickmccullum.com/algorithmic-trading-python/sp_500_stocks.csv). Move this file into the `starter-files` folder so it can be accessed by other files in that directory.\n",
    "\n",
    "Now it's time to import these stocks to our Jupyter Notebook file."
   ]
  },
  {
   "cell_type": "code",
   "execution_count": 31,
   "metadata": {
    "scrolled": true
   },
   "outputs": [
    {
     "data": {
      "text/html": [
       "<div>\n",
       "<style scoped>\n",
       "    .dataframe tbody tr th:only-of-type {\n",
       "        vertical-align: middle;\n",
       "    }\n",
       "\n",
       "    .dataframe tbody tr th {\n",
       "        vertical-align: top;\n",
       "    }\n",
       "\n",
       "    .dataframe thead th {\n",
       "        text-align: right;\n",
       "    }\n",
       "</style>\n",
       "<table border=\"1\" class=\"dataframe\">\n",
       "  <thead>\n",
       "    <tr style=\"text-align: right;\">\n",
       "      <th></th>\n",
       "      <th>Ticker</th>\n",
       "    </tr>\n",
       "  </thead>\n",
       "  <tbody>\n",
       "    <tr>\n",
       "      <th>0</th>\n",
       "      <td>A</td>\n",
       "    </tr>\n",
       "    <tr>\n",
       "      <th>1</th>\n",
       "      <td>AAL</td>\n",
       "    </tr>\n",
       "    <tr>\n",
       "      <th>2</th>\n",
       "      <td>AAP</td>\n",
       "    </tr>\n",
       "    <tr>\n",
       "      <th>3</th>\n",
       "      <td>AAPL</td>\n",
       "    </tr>\n",
       "    <tr>\n",
       "      <th>4</th>\n",
       "      <td>ABBV</td>\n",
       "    </tr>\n",
       "    <tr>\n",
       "      <th>...</th>\n",
       "      <td>...</td>\n",
       "    </tr>\n",
       "    <tr>\n",
       "      <th>499</th>\n",
       "      <td>YUM</td>\n",
       "    </tr>\n",
       "    <tr>\n",
       "      <th>500</th>\n",
       "      <td>ZBH</td>\n",
       "    </tr>\n",
       "    <tr>\n",
       "      <th>501</th>\n",
       "      <td>ZBRA</td>\n",
       "    </tr>\n",
       "    <tr>\n",
       "      <th>502</th>\n",
       "      <td>ZION</td>\n",
       "    </tr>\n",
       "    <tr>\n",
       "      <th>503</th>\n",
       "      <td>ZTS</td>\n",
       "    </tr>\n",
       "  </tbody>\n",
       "</table>\n",
       "<p>504 rows × 1 columns</p>\n",
       "</div>"
      ],
      "text/plain": [
       "    Ticker\n",
       "0        A\n",
       "1      AAL\n",
       "2      AAP\n",
       "3     AAPL\n",
       "4     ABBV\n",
       "..     ...\n",
       "499    YUM\n",
       "500    ZBH\n",
       "501   ZBRA\n",
       "502   ZION\n",
       "503    ZTS\n",
       "\n",
       "[504 rows x 1 columns]"
      ]
     },
     "execution_count": 31,
     "metadata": {},
     "output_type": "execute_result"
    }
   ],
   "source": [
    "stocks = pd.read_csv(r'C:\\Users\\user\\Downloads\\sp_500_stocks.csv')\n",
    "type(stocks)\n",
    "stocks"
   ]
  },
  {
   "cell_type": "markdown",
   "metadata": {},
   "source": [
    "## Acquiring an API Token\n",
    "\n",
    "Now it's time to import our IEX Cloud API token. This is the data provider that we will be using throughout this course.\n",
    "\n",
    "API tokens (and other sensitive information) should be stored in a `secrets.py` file that doesn't get pushed to your local Git repository. We'll be using a sandbox API token in this course, which means that the data we'll use is randomly-generated and (more importantly) has no cost associated with it.\n",
    "\n",
    "[Click here](http://nickmccullum.com/algorithmic-trading-python/secrets.py) to download your `secrets.py` file. Move the file into the same directory as this Jupyter Notebook before proceeding."
   ]
  },
  {
   "cell_type": "code",
   "execution_count": 32,
   "metadata": {},
   "outputs": [],
   "source": [
    "from secrets import IEX_CLOUD_API_TOKEN"
   ]
  },
  {
   "cell_type": "markdown",
   "metadata": {},
   "source": [
    "## Making Our First API Call\n",
    "\n",
    "Now it's time to structure our API calls to IEX cloud. \n",
    "\n",
    "We need the following information from the API:\n",
    "\n",
    "* Market capitalization for each stock\n",
    "* Price of each stock\n",
    "\n"
   ]
  },
  {
   "cell_type": "code",
   "execution_count": 33,
   "metadata": {},
   "outputs": [
    {
     "data": {
      "text/plain": [
       "{'avgTotalVolume': 90493146,\n",
       " 'calculationPrice': 'close',\n",
       " 'change': 4.02,\n",
       " 'changePercent': 0.03583,\n",
       " 'close': 119.15,\n",
       " 'closeSource': 'fcifilao',\n",
       " 'closeTime': 1707006475171,\n",
       " 'companyName': 'Amazon.com Inc.',\n",
       " 'currency': 'USD',\n",
       " 'delayedPrice': 119.79,\n",
       " 'delayedPriceTime': 1724186970416,\n",
       " 'extendedChange': 0.098,\n",
       " 'extendedChangePercent': 0.00085,\n",
       " 'extendedPrice': 120.088,\n",
       " 'extendedPriceTime': 1733646321672,\n",
       " 'high': 120.8,\n",
       " 'highSource': 'liaueedipr dm1e ney5 tc',\n",
       " 'highTime': 1685540677789,\n",
       " 'iexAskPrice': None,\n",
       " 'iexAskSize': None,\n",
       " 'iexBidPrice': None,\n",
       " 'iexBidSize': None,\n",
       " 'iexClose': 117.4,\n",
       " 'iexCloseTime': 1687179511074,\n",
       " 'iexLastUpdated': None,\n",
       " 'iexMarketPercent': None,\n",
       " 'iexOpen': 116.66,\n",
       " 'iexOpenTime': 1693260679312,\n",
       " 'iexRealtimePrice': None,\n",
       " 'iexRealtimeSize': None,\n",
       " 'iexVolume': None,\n",
       " 'lastTradeTime': 1722133540855,\n",
       " 'latestPrice': 116.5,\n",
       " 'latestSource': 'Close',\n",
       " 'latestTime': 'June 24, 2022',\n",
       " 'latestUpdate': 1672312030406,\n",
       " 'latestVolume': 72936303,\n",
       " 'low': 113.42,\n",
       " 'lowSource': 'r1n ip tuddlei aee5cmey',\n",
       " 'lowTime': 1683039171504,\n",
       " 'marketCap': 1214653926932,\n",
       " 'oddLotDelayedPrice': 118.59,\n",
       " 'oddLotDelayedPriceTime': 1735246099233,\n",
       " 'open': 114.52,\n",
       " 'openTime': 1669089348902,\n",
       " 'openSource': 'cliiaoff',\n",
       " 'peRatio': 2.9,\n",
       " 'previousClose': 115.95,\n",
       " 'previousVolume': 65968501,\n",
       " 'primaryExchange': 'NAQDAS',\n",
       " 'symbol': 'AMZN',\n",
       " 'volume': 71065484,\n",
       " 'week52High': 192.41,\n",
       " 'week52Low': 104.45,\n",
       " 'ytdChange': -0.2746558041975221,\n",
       " 'isUSMarketOpen': False}"
      ]
     },
     "execution_count": 33,
     "metadata": {},
     "output_type": "execute_result"
    }
   ],
   "source": [
    "symbol='AMZN'\n",
    "api_url = f'https://sandbox.iexapis.com/stable/stock/{symbol}/quote?token={IEX_CLOUD_API_TOKEN}'\n",
    "data = requests.get(api_url).json()\n",
    "data"
   ]
  },
  {
   "cell_type": "markdown",
   "metadata": {},
   "source": [
    "## Parsing Our API Call\n",
    "\n",
    "The API call that we executed in the last code block contains all of the information required to build our equal-weight S&P 500 strategy. \n",
    "\n",
    "With that said, the data isn't in a proper format yet. We need to parse it first."
   ]
  },
  {
   "cell_type": "code",
   "execution_count": 34,
   "metadata": {},
   "outputs": [
    {
     "data": {
      "text/plain": [
       "1214653926932"
      ]
     },
     "execution_count": 34,
     "metadata": {},
     "output_type": "execute_result"
    }
   ],
   "source": [
    "data['latestPrice']\n",
    "data['marketCap']"
   ]
  },
  {
   "cell_type": "markdown",
   "metadata": {},
   "source": [
    "## Adding Our Stocks Data to a Pandas DataFrame\n",
    "\n",
    "The next thing we need to do is add our stock's price and market capitalization to a pandas DataFrame. Think of a DataFrame like the Python version of a spreadsheet. It stores tabular data."
   ]
  },
  {
   "cell_type": "code",
   "execution_count": 35,
   "metadata": {},
   "outputs": [
    {
     "data": {
      "text/html": [
       "<div>\n",
       "<style scoped>\n",
       "    .dataframe tbody tr th:only-of-type {\n",
       "        vertical-align: middle;\n",
       "    }\n",
       "\n",
       "    .dataframe tbody tr th {\n",
       "        vertical-align: top;\n",
       "    }\n",
       "\n",
       "    .dataframe thead th {\n",
       "        text-align: right;\n",
       "    }\n",
       "</style>\n",
       "<table border=\"1\" class=\"dataframe\">\n",
       "  <thead>\n",
       "    <tr style=\"text-align: right;\">\n",
       "      <th></th>\n",
       "      <th>Ticker</th>\n",
       "      <th>Price</th>\n",
       "      <th>Market Capitalization</th>\n",
       "      <th>Number Of Shares to Buy</th>\n",
       "    </tr>\n",
       "  </thead>\n",
       "  <tbody>\n",
       "  </tbody>\n",
       "</table>\n",
       "</div>"
      ],
      "text/plain": [
       "Empty DataFrame\n",
       "Columns: [Ticker, Price, Market Capitalization, Number Of Shares to Buy]\n",
       "Index: []"
      ]
     },
     "execution_count": 35,
     "metadata": {},
     "output_type": "execute_result"
    }
   ],
   "source": [
    "my_columns = ['Ticker', 'Price','Market Capitalization', 'Number Of Shares to Buy']\n",
    "sp_dataframe = pd.DataFrame(columns = my_columns)\n",
    "sp_dataframe"
   ]
  },
  {
   "cell_type": "code",
   "execution_count": 36,
   "metadata": {},
   "outputs": [
    {
     "data": {
      "text/html": [
       "<div>\n",
       "<style scoped>\n",
       "    .dataframe tbody tr th:only-of-type {\n",
       "        vertical-align: middle;\n",
       "    }\n",
       "\n",
       "    .dataframe tbody tr th {\n",
       "        vertical-align: top;\n",
       "    }\n",
       "\n",
       "    .dataframe thead th {\n",
       "        text-align: right;\n",
       "    }\n",
       "</style>\n",
       "<table border=\"1\" class=\"dataframe\">\n",
       "  <thead>\n",
       "    <tr style=\"text-align: right;\">\n",
       "      <th></th>\n",
       "      <th>Ticker</th>\n",
       "      <th>Price</th>\n",
       "      <th>Market Capitalization</th>\n",
       "      <th>Number Of Shares to Buy</th>\n",
       "    </tr>\n",
       "  </thead>\n",
       "  <tbody>\n",
       "    <tr>\n",
       "      <th>0</th>\n",
       "      <td>AAPL</td>\n",
       "      <td>116.5</td>\n",
       "      <td>1214653926932</td>\n",
       "      <td>N/A</td>\n",
       "    </tr>\n",
       "  </tbody>\n",
       "</table>\n",
       "</div>"
      ],
      "text/plain": [
       "  Ticker  Price Market Capitalization Number Of Shares to Buy\n",
       "0   AAPL  116.5         1214653926932                     N/A"
      ]
     },
     "execution_count": 36,
     "metadata": {},
     "output_type": "execute_result"
    }
   ],
   "source": [
    "sp_dataframe = sp_dataframe.append(\n",
    "                                        pd.Series(['AAPL', \n",
    "                                                   data['latestPrice'], \n",
    "                                                   data['marketCap'], \n",
    "                                                   'N/A'], \n",
    "                                                  index = my_columns), \n",
    "                                        ignore_index = True)\n",
    "sp_dataframe"
   ]
  },
  {
   "cell_type": "markdown",
   "metadata": {},
   "source": [
    "## Looping Through The Tickers in Our List of Stocks\n",
    "\n",
    "Using the same logic that we outlined above, we can pull data for all S&P 500 stocks and store their data in the DataFrame using a `for` loop."
   ]
  },
  {
   "cell_type": "code",
   "execution_count": 37,
   "metadata": {},
   "outputs": [
    {
     "name": "stdout",
     "output_type": "stream",
     "text": [
      "https://sandbox.iexapis.com/stable/stock/A/quote?token=Tpk_059b97af715d417d9f49f50b51b1c448\n",
      "{'avgTotalVolume': 1904641, 'calculationPrice': 'close', 'change': 2.71, 'changePercent': 0.02339, 'close': 122.56, 'closeSource': 'filiofca', 'closeTime': 1670258515387, 'companyName': 'Agilent Technologies Inc.', 'currency': 'USD', 'delayedPrice': 123.24, 'delayedPriceTime': 1679158387066, 'extendedChange': 0.11, 'extendedChangePercent': 0.00094, 'extendedPrice': 124.3, 'extendedPriceTime': 1701149976376, 'high': 125.91, 'highSource': 'pnyutd eer1c de iml5eia', 'highTime': 1694344980719, 'iexAskPrice': None, 'iexAskSize': None, 'iexBidPrice': None, 'iexBidSize': None, 'iexClose': 123.67, 'iexCloseTime': 1708026345998, 'iexLastUpdated': None, 'iexMarketPercent': None, 'iexOpen': 125.26, 'iexOpenTime': 1731161387056, 'iexRealtimePrice': None, 'iexRealtimeSize': None, 'iexVolume': None, 'lastTradeTime': 1736562759053, 'latestPrice': 125.9, 'latestSource': 'Close', 'latestTime': 'June 24, 2022', 'latestUpdate': 1692025914381, 'latestVolume': 3925042, 'low': 122.56, 'lowSource': 'menyecet e5r1ldupdii a ', 'lowTime': 1727575024014, 'marketCap': 37307630849, 'oddLotDelayedPrice': 126.76, 'oddLotDelayedPriceTime': 1711376922714, 'open': 125.91, 'openTime': 1702049168610, 'openSource': 'lffiacio', 'peRatio': 29.62, 'previousClose': 120.9, 'previousVolume': 1848706, 'primaryExchange': ' GOCW NEICORAKCNTS NEYH EKX.', 'symbol': 'A', 'volume': 3935067, 'week52High': 179.68, 'week52Low': 116.08, 'ytdChange': -0.2247760423455504, 'isUSMarketOpen': False}\n",
      "  Ticker  Price Market Capitalization Number Of Shares to Buy\n",
      "0      A  125.9           37307630849                     N/A\n",
      "https://sandbox.iexapis.com/stable/stock/AAL/quote?token=Tpk_059b97af715d417d9f49f50b51b1c448\n",
      "{'avgTotalVolume': 40233750, 'calculationPrice': 'close', 'change': 0.94, 'changePercent': 0.07394, 'close': 14.5, 'closeSource': 'aifocfli', 'closeTime': 1660155205292, 'companyName': 'American Airlines Group Inc', 'currency': 'USD', 'delayedPrice': 14.34, 'delayedPriceTime': 1731827113014, 'extendedChange': 0.1, 'extendedChangePercent': 0.00735, 'extendedPrice': 14, 'extendedPriceTime': 1705412441322, 'high': 14.5, 'highSource': 'el apemr t5i1yd cenudie', 'highTime': 1683488684294, 'iexAskPrice': None, 'iexAskSize': None, 'iexBidPrice': None, 'iexBidSize': None, 'iexClose': 13.918, 'iexCloseTime': 1731938888244, 'iexLastUpdated': None, 'iexMarketPercent': None, 'iexOpen': 13.458, 'iexOpenTime': 1717478948669, 'iexRealtimePrice': None, 'iexRealtimeSize': None, 'iexVolume': None, 'lastTradeTime': 1724265925098, 'latestPrice': 14.5, 'latestSource': 'Close', 'latestTime': 'June 24, 2022', 'latestUpdate': 1711030160699, 'latestVolume': 42559006, 'low': 12.991, 'lowSource': 'a rpm5yce d elenuetd1ii', 'lowTime': 1690433159315, 'marketCap': 9367010630, 'oddLotDelayedPrice': 14.224, 'oddLotDelayedPriceTime': 1663357065644, 'open': 13.34, 'openTime': 1667842571401, 'openSource': 'foaciilf', 'peRatio': -3.85, 'previousClose': 13.62, 'previousVolume': 31924922, 'primaryExchange': 'DQNASA', 'symbol': 'AAL', 'volume': 41389115, 'week52High': 23.29, 'week52Low': 12.03, 'ytdChange': -0.1585801542256859, 'isUSMarketOpen': False}\n",
      "  Ticker  Price Market Capitalization Number Of Shares to Buy\n",
      "0      A  125.9           37307630849                     N/A\n",
      "1    AAL   14.5            9367010630                     N/A\n",
      "https://sandbox.iexapis.com/stable/stock/AAP/quote?token=Tpk_059b97af715d417d9f49f50b51b1c448\n",
      "{'avgTotalVolume': 809199, 'calculationPrice': 'close', 'change': 4.67, 'changePercent': 0.02577, 'close': 187.5, 'closeSource': 'foilacif', 'closeTime': 1706556583692, 'companyName': 'Advance Auto Parts Inc', 'currency': 'USD', 'delayedPrice': 190.89, 'delayedPriceTime': 1683350537582, 'extendedChange': 0, 'extendedChangePercent': 0, 'extendedPrice': 183.8, 'extendedPriceTime': 1699918269797, 'high': 187.5, 'highSource': 'e5mytu  eildaecir1e dpn', 'highTime': 1669280913740, 'iexAskPrice': None, 'iexAskSize': None, 'iexBidPrice': None, 'iexBidSize': None, 'iexClose': 191.27, 'iexCloseTime': 1676189994365, 'iexLastUpdated': None, 'iexMarketPercent': None, 'iexOpen': 186.54, 'iexOpenTime': 1728429742065, 'iexRealtimePrice': None, 'iexRealtimeSize': None, 'iexVolume': None, 'lastTradeTime': 1703034048863, 'latestPrice': 184.6, 'latestSource': 'Close', 'latestTime': 'June 24, 2022', 'latestUpdate': 1676373611798, 'latestVolume': 1048061, 'low': 185.69, 'lowSource': 'n mei yat uelcr5ed1iedp', 'lowTime': 1691848126314, 'marketCap': 11212688283, 'oddLotDelayedPrice': 187.54, 'oddLotDelayedPriceTime': 1728190321224, 'open': 186.47, 'openTime': 1683313036549, 'openSource': 'lioicffa', 'peRatio': 21.31, 'previousClose': 183, 'previousVolume': 669564, 'primaryExchange': 'HNKA YC. ICCRNEEOGXNSOK EWT ', 'symbol': 'AAP', 'volume': 1030281, 'week52High': 251.38, 'week52Low': 165, 'ytdChange': -0.19994588959719972, 'isUSMarketOpen': False}\n",
      "  Ticker  Price Market Capitalization Number Of Shares to Buy\n",
      "0      A  125.9           37307630849                     N/A\n",
      "1    AAL   14.5            9367010630                     N/A\n",
      "2    AAP  184.6           11212688283                     N/A\n",
      "https://sandbox.iexapis.com/stable/stock/AAPL/quote?token=Tpk_059b97af715d417d9f49f50b51b1c448\n",
      "{'avgTotalVolume': 86573547, 'calculationPrice': 'close', 'change': 3.42, 'changePercent': 0.02554, 'close': 148.09, 'closeSource': 'ioaiffcl', 'closeTime': 1689656494070, 'companyName': 'Apple Inc', 'currency': 'USD', 'delayedPrice': 141.84, 'delayedPriceTime': 1689123408295, 'extendedChange': 0.08, 'extendedChangePercent': 0.00058, 'extendedPrice': 147.8, 'extendedPriceTime': 1680197807327, 'high': 148.09, 'highSource': 'etc medii5r yp luee1nda', 'highTime': 1667332989086, 'iexAskPrice': None, 'iexAskSize': None, 'iexBidPrice': None, 'iexBidSize': None, 'iexClose': 142.527, 'iexCloseTime': 1670459504459, 'iexLastUpdated': None, 'iexMarketPercent': None, 'iexOpen': 141.73, 'iexOpenTime': 1714399169513, 'iexRealtimePrice': None, 'iexRealtimeSize': None, 'iexVolume': None, 'lastTradeTime': 1738040675165, 'latestPrice': 147.92, 'latestSource': 'Close', 'latestTime': 'June 24, 2022', 'latestUpdate': 1659704256963, 'latestVolume': 92367790, 'low': 140.06, 'lowSource': 'enitadr1p5eudei ym le c', 'lowTime': 1736377981088, 'marketCap': 2313821202817, 'oddLotDelayedPrice': 143.112, 'oddLotDelayedPriceTime': 1708066663714, 'open': 143.75, 'openTime': 1658916792857, 'openSource': 'ilfcaiof', 'peRatio': 23.13, 'previousClose': 144.56, 'previousVolume': 72861975, 'primaryExchange': 'QSNAAD', 'symbol': 'AAPL', 'volume': 89756401, 'week52High': 190.42, 'week52Low': 132.1, 'ytdChange': -0.183492039497783, 'isUSMarketOpen': False}\n",
      "  Ticker   Price Market Capitalization Number Of Shares to Buy\n",
      "0      A  125.90           37307630849                     N/A\n",
      "1    AAL   14.50            9367010630                     N/A\n",
      "2    AAP  184.60           11212688283                     N/A\n",
      "3   AAPL  147.92         2313821202817                     N/A\n",
      "https://sandbox.iexapis.com/stable/stock/ABBV/quote?token=Tpk_059b97af715d417d9f49f50b51b1c448\n",
      "{'avgTotalVolume': 6917040, 'calculationPrice': 'close', 'change': 2.93, 'changePercent': 0.01998, 'close': 157.22, 'closeSource': 'ifafocli', 'closeTime': 1718925660163, 'companyName': 'Abbvie Inc', 'currency': 'USD', 'delayedPrice': 156.11, 'delayedPriceTime': 1721415742314, 'extendedChange': 0.24, 'extendedChangePercent': 0.00153, 'extendedPrice': 157.02, 'extendedPriceTime': 1691639639355, 'high': 158.54, 'highSource': '1 tpcyelirem ni eddeau5', 'highTime': 1717048892447, 'iexAskPrice': None, 'iexAskSize': None, 'iexBidPrice': None, 'iexBidSize': None, 'iexClose': 159.02, 'iexCloseTime': 1699884698935, 'iexLastUpdated': None, 'iexMarketPercent': None, 'iexOpen': 158.07, 'iexOpenTime': 1690236765898, 'iexRealtimePrice': None, 'iexRealtimeSize': None, 'iexVolume': None, 'lastTradeTime': 1684501805761, 'latestPrice': 154.36, 'latestSource': 'Close', 'latestTime': 'June 24, 2022', 'latestUpdate': 1662568942030, 'latestVolume': 8856569, 'low': 153.42, 'lowSource': 'uay1dtie rdeie 5pnclem ', 'lowTime': 1714721115408, 'marketCap': 270200004220, 'oddLotDelayedPrice': 154.21, 'oddLotDelayedPriceTime': 1725170990693, 'open': 157.9, 'openTime': 1663434449204, 'openSource': 'ciofifal', 'peRatio': 22.56, 'previousClose': 156.42, 'previousVolume': 8002326, 'primaryExchange': 'KRNCSNE IE AWENCOX.H KT CYGO', 'symbol': 'ABBV', 'volume': 8851736, 'week52High': 176, 'week52Low': 103.82, 'ytdChange': 0.1689828830727239, 'isUSMarketOpen': False}\n",
      "  Ticker   Price Market Capitalization Number Of Shares to Buy\n",
      "0      A  125.90           37307630849                     N/A\n",
      "1    AAL   14.50            9367010630                     N/A\n",
      "2    AAP  184.60           11212688283                     N/A\n",
      "3   AAPL  147.92         2313821202817                     N/A\n",
      "4   ABBV  154.36          270200004220                     N/A\n",
      "https://sandbox.iexapis.com/stable/stock/ABC/quote?token=Tpk_059b97af715d417d9f49f50b51b1c448\n"
     ]
    },
    {
     "name": "stdout",
     "output_type": "stream",
     "text": [
      "{'avgTotalVolume': 1659512, 'calculationPrice': 'close', 'change': 3.89, 'changePercent': 0.0269, 'close': 148.68, 'closeSource': 'iloacfif', 'closeTime': 1657025486902, 'companyName': 'Amerisource Bergen Corp.', 'currency': 'USD', 'delayedPrice': 149.15, 'delayedPriceTime': 1732182474516, 'extendedChange': 0, 'extendedChangePercent': 0, 'extendedPrice': 152.73, 'extendedPriceTime': 1733774618480, 'high': 152.04, 'highSource': 'm1uiiaddercteye e n5pl ', 'highTime': 1670421462196, 'iexAskPrice': None, 'iexAskSize': None, 'iexBidPrice': None, 'iexBidSize': None, 'iexClose': 154.63, 'iexCloseTime': 1724214409830, 'iexLastUpdated': None, 'iexMarketPercent': None, 'iexOpen': 145.49, 'iexOpenTime': 1672666815902, 'iexRealtimePrice': None, 'iexRealtimeSize': None, 'iexVolume': None, 'lastTradeTime': 1679434359190, 'latestPrice': 149.35, 'latestSource': 'Close', 'latestTime': 'June 24, 2022', 'latestUpdate': 1707674059364, 'latestVolume': 4241457, 'low': 145.5, 'lowSource': '5ci  yiued1tpelnemrea d', 'lowTime': 1693297101433, 'marketCap': 31399819777, 'oddLotDelayedPrice': 150.6, 'oddLotDelayedPriceTime': 1709380011903, 'open': 147.25, 'openTime': 1698801921180, 'openSource': 'fioiacfl', 'peRatio': 18.2, 'previousClose': 145, 'previousVolume': 1056603, 'primaryExchange': 'CHK  TSXN.CNWA IOYERKOGCN EE', 'symbol': 'ABC', 'volume': 4306525, 'week52High': 172.2, 'week52Low': 114.09, 'ytdChange': 0.15261750350024722, 'isUSMarketOpen': False}\n",
      "  Ticker   Price Market Capitalization Number Of Shares to Buy\n",
      "0      A  125.90           37307630849                     N/A\n",
      "1    AAL   14.50            9367010630                     N/A\n",
      "2    AAP  184.60           11212688283                     N/A\n",
      "3   AAPL  147.92         2313821202817                     N/A\n",
      "4   ABBV  154.36          270200004220                     N/A\n",
      "5    ABC  149.35           31399819777                     N/A\n",
      "https://sandbox.iexapis.com/stable/stock/ABMD/quote?token=Tpk_059b97af715d417d9f49f50b51b1c448\n",
      "{'avgTotalVolume': 317504, 'calculationPrice': 'close', 'change': 7, 'changePercent': 0.02815, 'close': 255.9, 'closeSource': 'ifflcoai', 'closeTime': 1684087243861, 'companyName': 'Abiomed Inc.', 'currency': 'USD', 'delayedPrice': 264.26, 'delayedPriceTime': 1686057070375, 'extendedChange': 0, 'extendedChangePercent': 0, 'extendedPrice': 267.97, 'extendedPriceTime': 1656811650309, 'high': 261.38, 'highSource': 'demtade5 ur yei1ic nple', 'highTime': 1671957367690, 'iexAskPrice': None, 'iexAskSize': None, 'iexBidPrice': None, 'iexBidSize': None, 'iexClose': 256.72, 'iexCloseTime': 1723617980102, 'iexLastUpdated': None, 'iexMarketPercent': None, 'iexOpen': 258.55, 'iexOpenTime': 1673021052885, 'iexRealtimePrice': None, 'iexRealtimeSize': None, 'iexVolume': None, 'lastTradeTime': 1687863077913, 'latestPrice': 268.06, 'latestSource': 'Close', 'latestTime': 'June 24, 2022', 'latestUpdate': 1720113582769, 'latestVolume': 419232, 'low': 252.24, 'lowSource': 'iam5 en1e tecipeddur ly', 'lowTime': 1664065162564, 'marketCap': 11785579311, 'oddLotDelayedPrice': 260.87, 'oddLotDelayedPriceTime': 1731810083317, 'open': 261.38, 'openTime': 1710548206685, 'openSource': 'ciifoalf', 'peRatio': 87.81, 'previousClose': 250.88, 'previousVolume': 313792, 'primaryExchange': 'ASDQAN', 'symbol': 'ABMD', 'volume': 422004, 'week52High': 398.2, 'week52Low': 226.93, 'ytdChange': -0.2629819872105181, 'isUSMarketOpen': False}\n",
      "  Ticker   Price Market Capitalization Number Of Shares to Buy\n",
      "0      A  125.90           37307630849                     N/A\n",
      "1    AAL   14.50            9367010630                     N/A\n",
      "2    AAP  184.60           11212688283                     N/A\n",
      "3   AAPL  147.92         2313821202817                     N/A\n",
      "4   ABBV  154.36          270200004220                     N/A\n",
      "5    ABC  149.35           31399819777                     N/A\n",
      "6   ABMD  268.06           11785579311                     N/A\n",
      "https://sandbox.iexapis.com/stable/stock/ABT/quote?token=Tpk_059b97af715d417d9f49f50b51b1c448\n",
      "{'avgTotalVolume': 5829633, 'calculationPrice': 'close', 'change': 3.33, 'changePercent': 0.03117, 'close': 110.28, 'closeSource': 'fclfaioi', 'closeTime': 1723173450327, 'companyName': 'Abbott Laboratories', 'currency': 'USD', 'delayedPrice': 109.64, 'delayedPriceTime': 1679705588720, 'extendedChange': -0.45, 'extendedChangePercent': -0.00417, 'extendedPrice': 114, 'extendedPriceTime': 1731122203744, 'high': 113.09, 'highSource': 'p  1erucl5tyien daimdee', 'highTime': 1724772436128, 'iexAskPrice': None, 'iexAskSize': None, 'iexBidPrice': None, 'iexBidSize': None, 'iexClose': 112.13, 'iexCloseTime': 1731234428538, 'iexLastUpdated': None, 'iexMarketPercent': None, 'iexOpen': 109.08, 'iexOpenTime': 1668090561394, 'iexRealtimePrice': None, 'iexRealtimeSize': None, 'iexVolume': None, 'lastTradeTime': 1733852035121, 'latestPrice': 114.11, 'latestSource': 'Close', 'latestTime': 'June 24, 2022', 'latestUpdate': 1679358940801, 'latestVolume': 14450941, 'low': 106.87, 'lowSource': ' etye 1emaciedn5 lriudp', 'lowTime': 1689712723532, 'marketCap': 198784576543, 'oddLotDelayedPrice': 113.4, 'oddLotDelayedPriceTime': 1676027958106, 'open': 112, 'openTime': 1701819662843, 'openSource': 'iflocaif', 'peRatio': 25.78, 'previousClose': 111.39, 'previousVolume': 5192028, 'primaryExchange': 'ERNESEXOIYNOCKTW.C   HNAGKC ', 'symbol': 'ABT', 'volume': 14311429, 'week52High': 148.47, 'week52Low': 103.54, 'ytdChange': -0.1864159858439402, 'isUSMarketOpen': False}\n",
      "  Ticker   Price Market Capitalization Number Of Shares to Buy\n",
      "0      A  125.90           37307630849                     N/A\n",
      "1    AAL   14.50            9367010630                     N/A\n",
      "2    AAP  184.60           11212688283                     N/A\n",
      "3   AAPL  147.92         2313821202817                     N/A\n",
      "4   ABBV  154.36          270200004220                     N/A\n",
      "5    ABC  149.35           31399819777                     N/A\n",
      "6   ABMD  268.06           11785579311                     N/A\n",
      "7    ABT  114.11          198784576543                     N/A\n",
      "https://sandbox.iexapis.com/stable/stock/ACN/quote?token=Tpk_059b97af715d417d9f49f50b51b1c448\n",
      "{'avgTotalVolume': 2597286, 'calculationPrice': 'close', 'change': 13.78, 'changePercent': 0.04944, 'close': 312.31, 'closeSource': 'liaffcio', 'closeTime': 1730174657862, 'companyName': 'Accenture plc - Class A', 'currency': 'USD', 'delayedPrice': 312.68, 'delayedPriceTime': 1688770705524, 'extendedChange': -0.57, 'extendedChangePercent': -0.0019, 'extendedPrice': 306.35, 'extendedPriceTime': 1723107038473, 'high': 312.31, 'highSource': 'i p1meiteyecel 5nrdadu ', 'highTime': 1704561096152, 'iexAskPrice': None, 'iexAskSize': None, 'iexBidPrice': None, 'iexBidSize': None, 'iexClose': 309.7, 'iexCloseTime': 1734127133177, 'iexLastUpdated': None, 'iexMarketPercent': None, 'iexOpen': 300.78, 'iexOpenTime': 1659949862650, 'iexRealtimePrice': None, 'iexRealtimeSize': None, 'iexVolume': None, 'lastTradeTime': 1669490818085, 'latestPrice': 302.75, 'latestSource': 'Close', 'latestTime': 'June 24, 2022', 'latestUpdate': 1737630264693, 'latestVolume': 4870674, 'low': 287.22, 'lowSource': 'ae1  pmdlu5diiet creeyn', 'lowTime': 1715947049250, 'marketCap': 204250014619, 'oddLotDelayedPrice': 314.239, 'oddLotDelayedPriceTime': 1721347400122, 'open': 294.29, 'openTime': 1664247257659, 'openSource': 'aciffoli', 'peRatio': 30.42, 'previousClose': 289.4, 'previousVolume': 3483438, 'primaryExchange': 'OEG WNRE YCN.CCAENSTK OIKX H', 'symbol': 'ACN', 'volume': 4812390, 'week52High': 425.24, 'week52Low': 277.71, 'ytdChange': -0.23697827056523552, 'isUSMarketOpen': False}\n",
      "  Ticker   Price Market Capitalization Number Of Shares to Buy\n",
      "0      A  125.90           37307630849                     N/A\n",
      "1    AAL   14.50            9367010630                     N/A\n",
      "2    AAP  184.60           11212688283                     N/A\n",
      "3   AAPL  147.92         2313821202817                     N/A\n",
      "4   ABBV  154.36          270200004220                     N/A\n",
      "5    ABC  149.35           31399819777                     N/A\n",
      "6   ABMD  268.06           11785579311                     N/A\n",
      "7    ABT  114.11          198784576543                     N/A\n",
      "8    ACN  302.75          204250014619                     N/A\n",
      "https://sandbox.iexapis.com/stable/stock/ADBE/quote?token=Tpk_059b97af715d417d9f49f50b51b1c448\n"
     ]
    },
    {
     "name": "stdout",
     "output_type": "stream",
     "text": [
      "{'avgTotalVolume': 4021217, 'calculationPrice': 'close', 'change': 11.54, 'changePercent': 0.03019, 'close': 400.84, 'closeSource': 'ailoffic', 'closeTime': 1667493284336, 'companyName': 'Adobe Inc', 'currency': 'USD', 'delayedPrice': 401.5, 'delayedPriceTime': 1680191093057, 'extendedChange': -0.54, 'extendedChangePercent': -0.00138, 'extendedPrice': 399.5, 'extendedPriceTime': 1702982606752, 'high': 400.84, 'highSource': 'ncmi ui yedpe1dtr e5ela', 'highTime': 1658245113957, 'iexAskPrice': None, 'iexAskSize': None, 'iexBidPrice': None, 'iexBidSize': None, 'iexClose': 401.75, 'iexCloseTime': 1717495754177, 'iexLastUpdated': None, 'iexMarketPercent': None, 'iexOpen': 381.62, 'iexOpenTime': 1691017556294, 'iexRealtimePrice': None, 'iexRealtimeSize': None, 'iexVolume': None, 'lastTradeTime': 1704288941086, 'latestPrice': 405.68, 'latestSource': 'Close', 'latestTime': 'June 24, 2022', 'latestUpdate': 1691174447188, 'latestVolume': 3332780, 'low': 382.44, 'lowSource': 'EeXprii Irce tam el', 'lowTime': 1721327555242, 'marketCap': 190330323754, 'oddLotDelayedPrice': 398.614, 'oddLotDelayedPriceTime': 1661150802882, 'open': 399.38, 'openTime': 1715381279140, 'openSource': 'laffciio', 'peRatio': 40.3, 'previousClose': 393.41, 'previousVolume': 2642403, 'primaryExchange': 'NAASDQ', 'symbol': 'ADBE', 'volume': 3311975, 'week52High': 703.35, 'week52Low': 347, 'ytdChange': -0.30014395775143776, 'isUSMarketOpen': False}\n",
      "  Ticker   Price Market Capitalization Number Of Shares to Buy\n",
      "0      A  125.90           37307630849                     N/A\n",
      "1    AAL   14.50            9367010630                     N/A\n",
      "2    AAP  184.60           11212688283                     N/A\n",
      "3   AAPL  147.92         2313821202817                     N/A\n",
      "4   ABBV  154.36          270200004220                     N/A\n",
      "5    ABC  149.35           31399819777                     N/A\n",
      "6   ABMD  268.06           11785579311                     N/A\n",
      "7    ABT  114.11          198784576543                     N/A\n",
      "8    ACN  302.75          204250014619                     N/A\n",
      "9   ADBE  405.68          190330323754                     N/A\n",
      "https://sandbox.iexapis.com/stable/stock/ADI/quote?token=Tpk_059b97af715d417d9f49f50b51b1c448\n",
      "{'avgTotalVolume': 3725709, 'calculationPrice': 'close', 'change': 4.19, 'changePercent': 0.02868, 'close': 150.44, 'closeSource': 'fflicioa', 'closeTime': 1677436371159, 'companyName': 'Analog Devices Inc.', 'currency': 'USD', 'delayedPrice': 152.91, 'delayedPriceTime': 1662987846517, 'extendedChange': -0.89, 'extendedChangePercent': -0.00599, 'extendedPrice': 149.48, 'extendedPriceTime': 1672290877935, 'high': 156.38, 'highSource': 'euade rdl mp icy1eneti5', 'highTime': 1701525401582, 'iexAskPrice': None, 'iexAskSize': None, 'iexBidPrice': None, 'iexBidSize': None, 'iexClose': 152.86, 'iexCloseTime': 1701457924314, 'iexLastUpdated': None, 'iexMarketPercent': None, 'iexOpen': 152.31, 'iexOpenTime': 1690128999022, 'iexRealtimePrice': None, 'iexRealtimeSize': None, 'iexVolume': None, 'lastTradeTime': 1663125982899, 'latestPrice': 149.83, 'latestSource': 'Close', 'latestTime': 'June 24, 2022', 'latestUpdate': 1726073349904, 'latestVolume': 5289188, 'low': 147.7, 'lowSource': 'mti n1eeed li drupeyc5a', 'lowTime': 1671559228748, 'marketCap': 81476677333, 'oddLotDelayedPrice': 151.6, 'oddLotDelayedPriceTime': 1685070111023, 'open': 147.7, 'openTime': 1723322597044, 'openSource': 'oiifcfla', 'peRatio': 45.3, 'previousClose': 149.83, 'previousVolume': 3048589, 'primaryExchange': 'ADQANS', 'symbol': 'ADI', 'volume': 5144199, 'week52High': 195.1, 'week52Low': 145.92, 'ytdChange': -0.11648763454964059, 'isUSMarketOpen': False}\n",
      "   Ticker   Price Market Capitalization Number Of Shares to Buy\n",
      "0       A  125.90           37307630849                     N/A\n",
      "1     AAL   14.50            9367010630                     N/A\n",
      "2     AAP  184.60           11212688283                     N/A\n",
      "3    AAPL  147.92         2313821202817                     N/A\n",
      "4    ABBV  154.36          270200004220                     N/A\n",
      "5     ABC  149.35           31399819777                     N/A\n",
      "6    ABMD  268.06           11785579311                     N/A\n",
      "7     ABT  114.11          198784576543                     N/A\n",
      "8     ACN  302.75          204250014619                     N/A\n",
      "9    ADBE  405.68          190330323754                     N/A\n",
      "10    ADI  149.83           81476677333                     N/A\n",
      "https://sandbox.iexapis.com/stable/stock/ADM/quote?token=Tpk_059b97af715d417d9f49f50b51b1c448\n"
     ]
    },
    {
     "ename": "KeyboardInterrupt",
     "evalue": "",
     "output_type": "error",
     "traceback": [
      "\u001b[1;31m---------------------------------------------------------------------------\u001b[0m",
      "\u001b[1;31mKeyboardInterrupt\u001b[0m                         Traceback (most recent call last)",
      "\u001b[1;32m~\\AppData\\Local\\Temp/ipykernel_17540/3557493371.py\u001b[0m in \u001b[0;36m<module>\u001b[1;34m\u001b[0m\n\u001b[0;32m      4\u001b[0m     \u001b[0mapi_url\u001b[0m \u001b[1;33m=\u001b[0m \u001b[1;34mf'https://sandbox.iexapis.com/stable/stock/{symbol}/quote?token={IEX_CLOUD_API_TOKEN}'\u001b[0m\u001b[1;33m\u001b[0m\u001b[1;33m\u001b[0m\u001b[0m\n\u001b[0;32m      5\u001b[0m     \u001b[0mprint\u001b[0m\u001b[1;33m(\u001b[0m\u001b[0mapi_url\u001b[0m\u001b[1;33m)\u001b[0m\u001b[1;33m\u001b[0m\u001b[1;33m\u001b[0m\u001b[0m\n\u001b[1;32m----> 6\u001b[1;33m     \u001b[0mdata\u001b[0m \u001b[1;33m=\u001b[0m \u001b[0mrequests\u001b[0m\u001b[1;33m.\u001b[0m\u001b[0mget\u001b[0m\u001b[1;33m(\u001b[0m\u001b[0mapi_url\u001b[0m\u001b[1;33m)\u001b[0m\u001b[1;33m.\u001b[0m\u001b[0mjson\u001b[0m\u001b[1;33m(\u001b[0m\u001b[1;33m)\u001b[0m\u001b[1;33m\u001b[0m\u001b[1;33m\u001b[0m\u001b[0m\n\u001b[0m\u001b[0;32m      7\u001b[0m     \u001b[0mprint\u001b[0m\u001b[1;33m(\u001b[0m\u001b[0mdata\u001b[0m\u001b[1;33m)\u001b[0m\u001b[1;33m\u001b[0m\u001b[1;33m\u001b[0m\u001b[0m\n\u001b[0;32m      8\u001b[0m     sp_dataframe = sp_dataframe.append(\n",
      "\u001b[1;32m~\\anaconda3\\lib\\site-packages\\requests\\api.py\u001b[0m in \u001b[0;36mget\u001b[1;34m(url, params, **kwargs)\u001b[0m\n\u001b[0;32m     73\u001b[0m     \"\"\"\n\u001b[0;32m     74\u001b[0m \u001b[1;33m\u001b[0m\u001b[0m\n\u001b[1;32m---> 75\u001b[1;33m     \u001b[1;32mreturn\u001b[0m \u001b[0mrequest\u001b[0m\u001b[1;33m(\u001b[0m\u001b[1;34m'get'\u001b[0m\u001b[1;33m,\u001b[0m \u001b[0murl\u001b[0m\u001b[1;33m,\u001b[0m \u001b[0mparams\u001b[0m\u001b[1;33m=\u001b[0m\u001b[0mparams\u001b[0m\u001b[1;33m,\u001b[0m \u001b[1;33m**\u001b[0m\u001b[0mkwargs\u001b[0m\u001b[1;33m)\u001b[0m\u001b[1;33m\u001b[0m\u001b[1;33m\u001b[0m\u001b[0m\n\u001b[0m\u001b[0;32m     76\u001b[0m \u001b[1;33m\u001b[0m\u001b[0m\n\u001b[0;32m     77\u001b[0m \u001b[1;33m\u001b[0m\u001b[0m\n",
      "\u001b[1;32m~\\anaconda3\\lib\\site-packages\\requests\\api.py\u001b[0m in \u001b[0;36mrequest\u001b[1;34m(method, url, **kwargs)\u001b[0m\n\u001b[0;32m     59\u001b[0m     \u001b[1;31m# cases, and look like a memory leak in others.\u001b[0m\u001b[1;33m\u001b[0m\u001b[1;33m\u001b[0m\u001b[0m\n\u001b[0;32m     60\u001b[0m     \u001b[1;32mwith\u001b[0m \u001b[0msessions\u001b[0m\u001b[1;33m.\u001b[0m\u001b[0mSession\u001b[0m\u001b[1;33m(\u001b[0m\u001b[1;33m)\u001b[0m \u001b[1;32mas\u001b[0m \u001b[0msession\u001b[0m\u001b[1;33m:\u001b[0m\u001b[1;33m\u001b[0m\u001b[1;33m\u001b[0m\u001b[0m\n\u001b[1;32m---> 61\u001b[1;33m         \u001b[1;32mreturn\u001b[0m \u001b[0msession\u001b[0m\u001b[1;33m.\u001b[0m\u001b[0mrequest\u001b[0m\u001b[1;33m(\u001b[0m\u001b[0mmethod\u001b[0m\u001b[1;33m=\u001b[0m\u001b[0mmethod\u001b[0m\u001b[1;33m,\u001b[0m \u001b[0murl\u001b[0m\u001b[1;33m=\u001b[0m\u001b[0murl\u001b[0m\u001b[1;33m,\u001b[0m \u001b[1;33m**\u001b[0m\u001b[0mkwargs\u001b[0m\u001b[1;33m)\u001b[0m\u001b[1;33m\u001b[0m\u001b[1;33m\u001b[0m\u001b[0m\n\u001b[0m\u001b[0;32m     62\u001b[0m \u001b[1;33m\u001b[0m\u001b[0m\n\u001b[0;32m     63\u001b[0m \u001b[1;33m\u001b[0m\u001b[0m\n",
      "\u001b[1;32m~\\anaconda3\\lib\\site-packages\\requests\\sessions.py\u001b[0m in \u001b[0;36mrequest\u001b[1;34m(self, method, url, params, data, headers, cookies, files, auth, timeout, allow_redirects, proxies, hooks, stream, verify, cert, json)\u001b[0m\n\u001b[0;32m    540\u001b[0m         }\n\u001b[0;32m    541\u001b[0m         \u001b[0msend_kwargs\u001b[0m\u001b[1;33m.\u001b[0m\u001b[0mupdate\u001b[0m\u001b[1;33m(\u001b[0m\u001b[0msettings\u001b[0m\u001b[1;33m)\u001b[0m\u001b[1;33m\u001b[0m\u001b[1;33m\u001b[0m\u001b[0m\n\u001b[1;32m--> 542\u001b[1;33m         \u001b[0mresp\u001b[0m \u001b[1;33m=\u001b[0m \u001b[0mself\u001b[0m\u001b[1;33m.\u001b[0m\u001b[0msend\u001b[0m\u001b[1;33m(\u001b[0m\u001b[0mprep\u001b[0m\u001b[1;33m,\u001b[0m \u001b[1;33m**\u001b[0m\u001b[0msend_kwargs\u001b[0m\u001b[1;33m)\u001b[0m\u001b[1;33m\u001b[0m\u001b[1;33m\u001b[0m\u001b[0m\n\u001b[0m\u001b[0;32m    543\u001b[0m \u001b[1;33m\u001b[0m\u001b[0m\n\u001b[0;32m    544\u001b[0m         \u001b[1;32mreturn\u001b[0m \u001b[0mresp\u001b[0m\u001b[1;33m\u001b[0m\u001b[1;33m\u001b[0m\u001b[0m\n",
      "\u001b[1;32m~\\anaconda3\\lib\\site-packages\\requests\\sessions.py\u001b[0m in \u001b[0;36msend\u001b[1;34m(self, request, **kwargs)\u001b[0m\n\u001b[0;32m    653\u001b[0m \u001b[1;33m\u001b[0m\u001b[0m\n\u001b[0;32m    654\u001b[0m         \u001b[1;31m# Send the request\u001b[0m\u001b[1;33m\u001b[0m\u001b[1;33m\u001b[0m\u001b[0m\n\u001b[1;32m--> 655\u001b[1;33m         \u001b[0mr\u001b[0m \u001b[1;33m=\u001b[0m \u001b[0madapter\u001b[0m\u001b[1;33m.\u001b[0m\u001b[0msend\u001b[0m\u001b[1;33m(\u001b[0m\u001b[0mrequest\u001b[0m\u001b[1;33m,\u001b[0m \u001b[1;33m**\u001b[0m\u001b[0mkwargs\u001b[0m\u001b[1;33m)\u001b[0m\u001b[1;33m\u001b[0m\u001b[1;33m\u001b[0m\u001b[0m\n\u001b[0m\u001b[0;32m    656\u001b[0m \u001b[1;33m\u001b[0m\u001b[0m\n\u001b[0;32m    657\u001b[0m         \u001b[1;31m# Total elapsed time of the request (approximately)\u001b[0m\u001b[1;33m\u001b[0m\u001b[1;33m\u001b[0m\u001b[0m\n",
      "\u001b[1;32m~\\anaconda3\\lib\\site-packages\\requests\\adapters.py\u001b[0m in \u001b[0;36msend\u001b[1;34m(self, request, stream, timeout, verify, cert, proxies)\u001b[0m\n\u001b[0;32m    437\u001b[0m         \u001b[1;32mtry\u001b[0m\u001b[1;33m:\u001b[0m\u001b[1;33m\u001b[0m\u001b[1;33m\u001b[0m\u001b[0m\n\u001b[0;32m    438\u001b[0m             \u001b[1;32mif\u001b[0m \u001b[1;32mnot\u001b[0m \u001b[0mchunked\u001b[0m\u001b[1;33m:\u001b[0m\u001b[1;33m\u001b[0m\u001b[1;33m\u001b[0m\u001b[0m\n\u001b[1;32m--> 439\u001b[1;33m                 resp = conn.urlopen(\n\u001b[0m\u001b[0;32m    440\u001b[0m                     \u001b[0mmethod\u001b[0m\u001b[1;33m=\u001b[0m\u001b[0mrequest\u001b[0m\u001b[1;33m.\u001b[0m\u001b[0mmethod\u001b[0m\u001b[1;33m,\u001b[0m\u001b[1;33m\u001b[0m\u001b[1;33m\u001b[0m\u001b[0m\n\u001b[0;32m    441\u001b[0m                     \u001b[0murl\u001b[0m\u001b[1;33m=\u001b[0m\u001b[0murl\u001b[0m\u001b[1;33m,\u001b[0m\u001b[1;33m\u001b[0m\u001b[1;33m\u001b[0m\u001b[0m\n",
      "\u001b[1;32m~\\anaconda3\\lib\\site-packages\\urllib3\\connectionpool.py\u001b[0m in \u001b[0;36murlopen\u001b[1;34m(self, method, url, body, headers, retries, redirect, assert_same_host, timeout, pool_timeout, release_conn, chunked, body_pos, **response_kw)\u001b[0m\n\u001b[0;32m    697\u001b[0m \u001b[1;33m\u001b[0m\u001b[0m\n\u001b[0;32m    698\u001b[0m             \u001b[1;31m# Make the request on the httplib connection object.\u001b[0m\u001b[1;33m\u001b[0m\u001b[1;33m\u001b[0m\u001b[0m\n\u001b[1;32m--> 699\u001b[1;33m             httplib_response = self._make_request(\n\u001b[0m\u001b[0;32m    700\u001b[0m                 \u001b[0mconn\u001b[0m\u001b[1;33m,\u001b[0m\u001b[1;33m\u001b[0m\u001b[1;33m\u001b[0m\u001b[0m\n\u001b[0;32m    701\u001b[0m                 \u001b[0mmethod\u001b[0m\u001b[1;33m,\u001b[0m\u001b[1;33m\u001b[0m\u001b[1;33m\u001b[0m\u001b[0m\n",
      "\u001b[1;32m~\\anaconda3\\lib\\site-packages\\urllib3\\connectionpool.py\u001b[0m in \u001b[0;36m_make_request\u001b[1;34m(self, conn, method, url, timeout, chunked, **httplib_request_kw)\u001b[0m\n\u001b[0;32m    380\u001b[0m         \u001b[1;31m# Trigger any extra validation we need to do.\u001b[0m\u001b[1;33m\u001b[0m\u001b[1;33m\u001b[0m\u001b[0m\n\u001b[0;32m    381\u001b[0m         \u001b[1;32mtry\u001b[0m\u001b[1;33m:\u001b[0m\u001b[1;33m\u001b[0m\u001b[1;33m\u001b[0m\u001b[0m\n\u001b[1;32m--> 382\u001b[1;33m             \u001b[0mself\u001b[0m\u001b[1;33m.\u001b[0m\u001b[0m_validate_conn\u001b[0m\u001b[1;33m(\u001b[0m\u001b[0mconn\u001b[0m\u001b[1;33m)\u001b[0m\u001b[1;33m\u001b[0m\u001b[1;33m\u001b[0m\u001b[0m\n\u001b[0m\u001b[0;32m    383\u001b[0m         \u001b[1;32mexcept\u001b[0m \u001b[1;33m(\u001b[0m\u001b[0mSocketTimeout\u001b[0m\u001b[1;33m,\u001b[0m \u001b[0mBaseSSLError\u001b[0m\u001b[1;33m)\u001b[0m \u001b[1;32mas\u001b[0m \u001b[0me\u001b[0m\u001b[1;33m:\u001b[0m\u001b[1;33m\u001b[0m\u001b[1;33m\u001b[0m\u001b[0m\n\u001b[0;32m    384\u001b[0m             \u001b[1;31m# Py2 raises this as a BaseSSLError, Py3 raises it as socket timeout.\u001b[0m\u001b[1;33m\u001b[0m\u001b[1;33m\u001b[0m\u001b[0m\n",
      "\u001b[1;32m~\\anaconda3\\lib\\site-packages\\urllib3\\connectionpool.py\u001b[0m in \u001b[0;36m_validate_conn\u001b[1;34m(self, conn)\u001b[0m\n\u001b[0;32m   1008\u001b[0m         \u001b[1;31m# Force connect early to allow us to validate the connection.\u001b[0m\u001b[1;33m\u001b[0m\u001b[1;33m\u001b[0m\u001b[0m\n\u001b[0;32m   1009\u001b[0m         \u001b[1;32mif\u001b[0m \u001b[1;32mnot\u001b[0m \u001b[0mgetattr\u001b[0m\u001b[1;33m(\u001b[0m\u001b[0mconn\u001b[0m\u001b[1;33m,\u001b[0m \u001b[1;34m\"sock\"\u001b[0m\u001b[1;33m,\u001b[0m \u001b[1;32mNone\u001b[0m\u001b[1;33m)\u001b[0m\u001b[1;33m:\u001b[0m  \u001b[1;31m# AppEngine might not have  `.sock`\u001b[0m\u001b[1;33m\u001b[0m\u001b[1;33m\u001b[0m\u001b[0m\n\u001b[1;32m-> 1010\u001b[1;33m             \u001b[0mconn\u001b[0m\u001b[1;33m.\u001b[0m\u001b[0mconnect\u001b[0m\u001b[1;33m(\u001b[0m\u001b[1;33m)\u001b[0m\u001b[1;33m\u001b[0m\u001b[1;33m\u001b[0m\u001b[0m\n\u001b[0m\u001b[0;32m   1011\u001b[0m \u001b[1;33m\u001b[0m\u001b[0m\n\u001b[0;32m   1012\u001b[0m         \u001b[1;32mif\u001b[0m \u001b[1;32mnot\u001b[0m \u001b[0mconn\u001b[0m\u001b[1;33m.\u001b[0m\u001b[0mis_verified\u001b[0m\u001b[1;33m:\u001b[0m\u001b[1;33m\u001b[0m\u001b[1;33m\u001b[0m\u001b[0m\n",
      "\u001b[1;32m~\\anaconda3\\lib\\site-packages\\urllib3\\connection.py\u001b[0m in \u001b[0;36mconnect\u001b[1;34m(self)\u001b[0m\n\u001b[0;32m    414\u001b[0m             \u001b[0mcontext\u001b[0m\u001b[1;33m.\u001b[0m\u001b[0mload_default_certs\u001b[0m\u001b[1;33m(\u001b[0m\u001b[1;33m)\u001b[0m\u001b[1;33m\u001b[0m\u001b[1;33m\u001b[0m\u001b[0m\n\u001b[0;32m    415\u001b[0m \u001b[1;33m\u001b[0m\u001b[0m\n\u001b[1;32m--> 416\u001b[1;33m         self.sock = ssl_wrap_socket(\n\u001b[0m\u001b[0;32m    417\u001b[0m             \u001b[0msock\u001b[0m\u001b[1;33m=\u001b[0m\u001b[0mconn\u001b[0m\u001b[1;33m,\u001b[0m\u001b[1;33m\u001b[0m\u001b[1;33m\u001b[0m\u001b[0m\n\u001b[0;32m    418\u001b[0m             \u001b[0mkeyfile\u001b[0m\u001b[1;33m=\u001b[0m\u001b[0mself\u001b[0m\u001b[1;33m.\u001b[0m\u001b[0mkey_file\u001b[0m\u001b[1;33m,\u001b[0m\u001b[1;33m\u001b[0m\u001b[1;33m\u001b[0m\u001b[0m\n",
      "\u001b[1;32m~\\anaconda3\\lib\\site-packages\\urllib3\\util\\ssl_.py\u001b[0m in \u001b[0;36mssl_wrap_socket\u001b[1;34m(sock, keyfile, certfile, cert_reqs, ca_certs, server_hostname, ssl_version, ciphers, ssl_context, ca_cert_dir, key_password, ca_cert_data, tls_in_tls)\u001b[0m\n\u001b[0;32m    447\u001b[0m \u001b[1;33m\u001b[0m\u001b[0m\n\u001b[0;32m    448\u001b[0m     \u001b[1;32mif\u001b[0m \u001b[0msend_sni\u001b[0m\u001b[1;33m:\u001b[0m\u001b[1;33m\u001b[0m\u001b[1;33m\u001b[0m\u001b[0m\n\u001b[1;32m--> 449\u001b[1;33m         ssl_sock = _ssl_wrap_socket_impl(\n\u001b[0m\u001b[0;32m    450\u001b[0m             \u001b[0msock\u001b[0m\u001b[1;33m,\u001b[0m \u001b[0mcontext\u001b[0m\u001b[1;33m,\u001b[0m \u001b[0mtls_in_tls\u001b[0m\u001b[1;33m,\u001b[0m \u001b[0mserver_hostname\u001b[0m\u001b[1;33m=\u001b[0m\u001b[0mserver_hostname\u001b[0m\u001b[1;33m\u001b[0m\u001b[1;33m\u001b[0m\u001b[0m\n\u001b[0;32m    451\u001b[0m         )\n",
      "\u001b[1;32m~\\anaconda3\\lib\\site-packages\\urllib3\\util\\ssl_.py\u001b[0m in \u001b[0;36m_ssl_wrap_socket_impl\u001b[1;34m(sock, ssl_context, tls_in_tls, server_hostname)\u001b[0m\n\u001b[0;32m    491\u001b[0m \u001b[1;33m\u001b[0m\u001b[0m\n\u001b[0;32m    492\u001b[0m     \u001b[1;32mif\u001b[0m \u001b[0mserver_hostname\u001b[0m\u001b[1;33m:\u001b[0m\u001b[1;33m\u001b[0m\u001b[1;33m\u001b[0m\u001b[0m\n\u001b[1;32m--> 493\u001b[1;33m         \u001b[1;32mreturn\u001b[0m \u001b[0mssl_context\u001b[0m\u001b[1;33m.\u001b[0m\u001b[0mwrap_socket\u001b[0m\u001b[1;33m(\u001b[0m\u001b[0msock\u001b[0m\u001b[1;33m,\u001b[0m \u001b[0mserver_hostname\u001b[0m\u001b[1;33m=\u001b[0m\u001b[0mserver_hostname\u001b[0m\u001b[1;33m)\u001b[0m\u001b[1;33m\u001b[0m\u001b[1;33m\u001b[0m\u001b[0m\n\u001b[0m\u001b[0;32m    494\u001b[0m     \u001b[1;32melse\u001b[0m\u001b[1;33m:\u001b[0m\u001b[1;33m\u001b[0m\u001b[1;33m\u001b[0m\u001b[0m\n\u001b[0;32m    495\u001b[0m         \u001b[1;32mreturn\u001b[0m \u001b[0mssl_context\u001b[0m\u001b[1;33m.\u001b[0m\u001b[0mwrap_socket\u001b[0m\u001b[1;33m(\u001b[0m\u001b[0msock\u001b[0m\u001b[1;33m)\u001b[0m\u001b[1;33m\u001b[0m\u001b[1;33m\u001b[0m\u001b[0m\n",
      "\u001b[1;32m~\\anaconda3\\lib\\ssl.py\u001b[0m in \u001b[0;36mwrap_socket\u001b[1;34m(self, sock, server_side, do_handshake_on_connect, suppress_ragged_eofs, server_hostname, session)\u001b[0m\n\u001b[0;32m    498\u001b[0m         \u001b[1;31m# SSLSocket class handles server_hostname encoding before it calls\u001b[0m\u001b[1;33m\u001b[0m\u001b[1;33m\u001b[0m\u001b[0m\n\u001b[0;32m    499\u001b[0m         \u001b[1;31m# ctx._wrap_socket()\u001b[0m\u001b[1;33m\u001b[0m\u001b[1;33m\u001b[0m\u001b[0m\n\u001b[1;32m--> 500\u001b[1;33m         return self.sslsocket_class._create(\n\u001b[0m\u001b[0;32m    501\u001b[0m             \u001b[0msock\u001b[0m\u001b[1;33m=\u001b[0m\u001b[0msock\u001b[0m\u001b[1;33m,\u001b[0m\u001b[1;33m\u001b[0m\u001b[1;33m\u001b[0m\u001b[0m\n\u001b[0;32m    502\u001b[0m             \u001b[0mserver_side\u001b[0m\u001b[1;33m=\u001b[0m\u001b[0mserver_side\u001b[0m\u001b[1;33m,\u001b[0m\u001b[1;33m\u001b[0m\u001b[1;33m\u001b[0m\u001b[0m\n",
      "\u001b[1;32m~\\anaconda3\\lib\\ssl.py\u001b[0m in \u001b[0;36m_create\u001b[1;34m(cls, sock, server_side, do_handshake_on_connect, suppress_ragged_eofs, server_hostname, context, session)\u001b[0m\n\u001b[0;32m   1038\u001b[0m                         \u001b[1;31m# non-blocking\u001b[0m\u001b[1;33m\u001b[0m\u001b[1;33m\u001b[0m\u001b[0m\n\u001b[0;32m   1039\u001b[0m                         \u001b[1;32mraise\u001b[0m \u001b[0mValueError\u001b[0m\u001b[1;33m(\u001b[0m\u001b[1;34m\"do_handshake_on_connect should not be specified for non-blocking sockets\"\u001b[0m\u001b[1;33m)\u001b[0m\u001b[1;33m\u001b[0m\u001b[1;33m\u001b[0m\u001b[0m\n\u001b[1;32m-> 1040\u001b[1;33m                     \u001b[0mself\u001b[0m\u001b[1;33m.\u001b[0m\u001b[0mdo_handshake\u001b[0m\u001b[1;33m(\u001b[0m\u001b[1;33m)\u001b[0m\u001b[1;33m\u001b[0m\u001b[1;33m\u001b[0m\u001b[0m\n\u001b[0m\u001b[0;32m   1041\u001b[0m             \u001b[1;32mexcept\u001b[0m \u001b[1;33m(\u001b[0m\u001b[0mOSError\u001b[0m\u001b[1;33m,\u001b[0m \u001b[0mValueError\u001b[0m\u001b[1;33m)\u001b[0m\u001b[1;33m:\u001b[0m\u001b[1;33m\u001b[0m\u001b[1;33m\u001b[0m\u001b[0m\n\u001b[0;32m   1042\u001b[0m                 \u001b[0mself\u001b[0m\u001b[1;33m.\u001b[0m\u001b[0mclose\u001b[0m\u001b[1;33m(\u001b[0m\u001b[1;33m)\u001b[0m\u001b[1;33m\u001b[0m\u001b[1;33m\u001b[0m\u001b[0m\n",
      "\u001b[1;32m~\\anaconda3\\lib\\ssl.py\u001b[0m in \u001b[0;36mdo_handshake\u001b[1;34m(self, block)\u001b[0m\n\u001b[0;32m   1307\u001b[0m             \u001b[1;32mif\u001b[0m \u001b[0mtimeout\u001b[0m \u001b[1;33m==\u001b[0m \u001b[1;36m0.0\u001b[0m \u001b[1;32mand\u001b[0m \u001b[0mblock\u001b[0m\u001b[1;33m:\u001b[0m\u001b[1;33m\u001b[0m\u001b[1;33m\u001b[0m\u001b[0m\n\u001b[0;32m   1308\u001b[0m                 \u001b[0mself\u001b[0m\u001b[1;33m.\u001b[0m\u001b[0msettimeout\u001b[0m\u001b[1;33m(\u001b[0m\u001b[1;32mNone\u001b[0m\u001b[1;33m)\u001b[0m\u001b[1;33m\u001b[0m\u001b[1;33m\u001b[0m\u001b[0m\n\u001b[1;32m-> 1309\u001b[1;33m             \u001b[0mself\u001b[0m\u001b[1;33m.\u001b[0m\u001b[0m_sslobj\u001b[0m\u001b[1;33m.\u001b[0m\u001b[0mdo_handshake\u001b[0m\u001b[1;33m(\u001b[0m\u001b[1;33m)\u001b[0m\u001b[1;33m\u001b[0m\u001b[1;33m\u001b[0m\u001b[0m\n\u001b[0m\u001b[0;32m   1310\u001b[0m         \u001b[1;32mfinally\u001b[0m\u001b[1;33m:\u001b[0m\u001b[1;33m\u001b[0m\u001b[1;33m\u001b[0m\u001b[0m\n\u001b[0;32m   1311\u001b[0m             \u001b[0mself\u001b[0m\u001b[1;33m.\u001b[0m\u001b[0msettimeout\u001b[0m\u001b[1;33m(\u001b[0m\u001b[0mtimeout\u001b[0m\u001b[1;33m)\u001b[0m\u001b[1;33m\u001b[0m\u001b[1;33m\u001b[0m\u001b[0m\n",
      "\u001b[1;31mKeyboardInterrupt\u001b[0m: "
     ]
    }
   ],
   "source": [
    "sp_dataframe = pd.DataFrame(columns = my_columns)\n",
    "\n",
    "for symbol in stocks['Ticker']:\n",
    "    api_url = f'https://sandbox.iexapis.com/stable/stock/{symbol}/quote?token={IEX_CLOUD_API_TOKEN}'\n",
    "    print(api_url)\n",
    "    data = requests.get(api_url).json()\n",
    "    print(data)\n",
    "    sp_dataframe = sp_dataframe.append(\n",
    "                                        pd.Series([symbol, \n",
    "                                                   data['latestPrice'], \n",
    "                                                   data['marketCap'], \n",
    "                                                   'N/A'], \n",
    "                                                  index = my_columns), \n",
    "                                        ignore_index = True)\n",
    "    print(sp_dataframe)\n",
    "    \n"
   ]
  },
  {
   "cell_type": "code",
   "execution_count": 38,
   "metadata": {},
   "outputs": [
    {
     "data": {
      "text/html": [
       "<div>\n",
       "<style scoped>\n",
       "    .dataframe tbody tr th:only-of-type {\n",
       "        vertical-align: middle;\n",
       "    }\n",
       "\n",
       "    .dataframe tbody tr th {\n",
       "        vertical-align: top;\n",
       "    }\n",
       "\n",
       "    .dataframe thead th {\n",
       "        text-align: right;\n",
       "    }\n",
       "</style>\n",
       "<table border=\"1\" class=\"dataframe\">\n",
       "  <thead>\n",
       "    <tr style=\"text-align: right;\">\n",
       "      <th></th>\n",
       "      <th>Ticker</th>\n",
       "      <th>Price</th>\n",
       "      <th>Market Capitalization</th>\n",
       "      <th>Number Of Shares to Buy</th>\n",
       "    </tr>\n",
       "  </thead>\n",
       "  <tbody>\n",
       "    <tr>\n",
       "      <th>0</th>\n",
       "      <td>A</td>\n",
       "      <td>125.90</td>\n",
       "      <td>37307630849</td>\n",
       "      <td>N/A</td>\n",
       "    </tr>\n",
       "    <tr>\n",
       "      <th>1</th>\n",
       "      <td>AAL</td>\n",
       "      <td>14.50</td>\n",
       "      <td>9367010630</td>\n",
       "      <td>N/A</td>\n",
       "    </tr>\n",
       "    <tr>\n",
       "      <th>2</th>\n",
       "      <td>AAP</td>\n",
       "      <td>184.60</td>\n",
       "      <td>11212688283</td>\n",
       "      <td>N/A</td>\n",
       "    </tr>\n",
       "    <tr>\n",
       "      <th>3</th>\n",
       "      <td>AAPL</td>\n",
       "      <td>147.92</td>\n",
       "      <td>2313821202817</td>\n",
       "      <td>N/A</td>\n",
       "    </tr>\n",
       "    <tr>\n",
       "      <th>4</th>\n",
       "      <td>ABBV</td>\n",
       "      <td>154.36</td>\n",
       "      <td>270200004220</td>\n",
       "      <td>N/A</td>\n",
       "    </tr>\n",
       "    <tr>\n",
       "      <th>5</th>\n",
       "      <td>ABC</td>\n",
       "      <td>149.35</td>\n",
       "      <td>31399819777</td>\n",
       "      <td>N/A</td>\n",
       "    </tr>\n",
       "    <tr>\n",
       "      <th>6</th>\n",
       "      <td>ABMD</td>\n",
       "      <td>268.06</td>\n",
       "      <td>11785579311</td>\n",
       "      <td>N/A</td>\n",
       "    </tr>\n",
       "    <tr>\n",
       "      <th>7</th>\n",
       "      <td>ABT</td>\n",
       "      <td>114.11</td>\n",
       "      <td>198784576543</td>\n",
       "      <td>N/A</td>\n",
       "    </tr>\n",
       "    <tr>\n",
       "      <th>8</th>\n",
       "      <td>ACN</td>\n",
       "      <td>302.75</td>\n",
       "      <td>204250014619</td>\n",
       "      <td>N/A</td>\n",
       "    </tr>\n",
       "    <tr>\n",
       "      <th>9</th>\n",
       "      <td>ADBE</td>\n",
       "      <td>405.68</td>\n",
       "      <td>190330323754</td>\n",
       "      <td>N/A</td>\n",
       "    </tr>\n",
       "    <tr>\n",
       "      <th>10</th>\n",
       "      <td>ADI</td>\n",
       "      <td>149.83</td>\n",
       "      <td>81476677333</td>\n",
       "      <td>N/A</td>\n",
       "    </tr>\n",
       "  </tbody>\n",
       "</table>\n",
       "</div>"
      ],
      "text/plain": [
       "   Ticker   Price Market Capitalization Number Of Shares to Buy\n",
       "0       A  125.90           37307630849                     N/A\n",
       "1     AAL   14.50            9367010630                     N/A\n",
       "2     AAP  184.60           11212688283                     N/A\n",
       "3    AAPL  147.92         2313821202817                     N/A\n",
       "4    ABBV  154.36          270200004220                     N/A\n",
       "5     ABC  149.35           31399819777                     N/A\n",
       "6    ABMD  268.06           11785579311                     N/A\n",
       "7     ABT  114.11          198784576543                     N/A\n",
       "8     ACN  302.75          204250014619                     N/A\n",
       "9    ADBE  405.68          190330323754                     N/A\n",
       "10    ADI  149.83           81476677333                     N/A"
      ]
     },
     "execution_count": 38,
     "metadata": {},
     "output_type": "execute_result"
    }
   ],
   "source": [
    "sp_dataframe"
   ]
  },
  {
   "cell_type": "markdown",
   "metadata": {},
   "source": [
    "## Using Batch API Calls to Improve Performance\n",
    "\n",
    "Batch API calls are one of the easiest ways to improve the performance of your code.\n",
    "\n",
    "This is because HTTP requests are typically one of the slowest components of a script.\n",
    "\n",
    "Also, API providers will often give you discounted rates for using batch API calls since they are easier for the API provider to respond to.\n",
    "\n",
    "IEX Cloud limits their batch API calls to 100 tickers per request. Still, this reduces the number of API calls we'll make in this section from 500 to 5 - huge improvement! In this section, we'll split our list of stocks into groups of 100 and then make a batch API call for each group."
   ]
  },
  {
   "cell_type": "code",
   "execution_count": null,
   "metadata": {},
   "outputs": [],
   "source": [
    "# Function sourced from \n",
    "# https://stackoverflow.com/questions/312443/how-do-you-split-a-list-into-evenly-sized-chunks\n",
    "def chunks(lst, n):\n",
    "    \"\"\"Yield successive n-sized chunks from lst.\"\"\"\n",
    "    for i in range(0, len(lst), n):\n",
    "        yield lst[i:i + n]"
   ]
  },
  {
   "cell_type": "code",
   "execution_count": null,
   "metadata": {},
   "outputs": [],
   "source": [
    "symbol_groups = list(chunks(stocks['Ticker'], 100))\n",
    "symbol_strings = []\n",
    "for i in range(0, len(symbol_groups)):\n",
    "    symbol_strings.append(','.join(symbol_groups[i]))\n",
    "#     print(symbol_strings[i])\n",
    "\n",
    "sp_dataframe = pd.DataFrame(columns = my_columns)\n",
    "\n",
    "for symbol_string in symbol_strings:\n",
    "#     print(symbol_strings)\n",
    "    batch_api_call_url = f'https://sandbox.iexapis.com/stable/stock/market/batch/?types=quote&symbols={symbol_string}&token={IEX_CLOUD_API_TOKEN}'\n",
    "    data = requests.get(batch_api_call_url).json()\n",
    "    for symbol in symbol_string.split(','):\n",
    "        sp_dataframe = sp_dataframe.append(\n",
    "                                        pd.Series([symbol, \n",
    "                                                   data[symbol]['quote']['latestPrice'], \n",
    "                                                   data[symbol]['quote']['marketCap'], \n",
    "                                                   'N/A'], \n",
    "                                                  index = my_columns), \n",
    "                                        ignore_index = True)\n",
    "        \n",
    "    \n",
    "sp_dataframe"
   ]
  },
  {
   "cell_type": "markdown",
   "metadata": {},
   "source": [
    "## Calculating the Number of Shares to Buy\n",
    "\n",
    "As you can see in the DataFrame above, we stil haven't calculated the number of shares of each stock to buy.\n",
    "\n",
    "We'll do that next."
   ]
  },
  {
   "cell_type": "code",
   "execution_count": 39,
   "metadata": {},
   "outputs": [
    {
     "name": "stdout",
     "output_type": "stream",
     "text": [
      "Enter the value of your portfolio:100000000\n"
     ]
    }
   ],
   "source": [
    "portfolio_size = input(\"Enter the value of your portfolio:\")\n",
    "\n",
    "try:\n",
    "    val = float(portfolio_size)\n",
    "except ValueError:\n",
    "    print(\"That's not a number! \\n Try again:\")\n",
    "    portfolio_size = input(\"Enter the value of your portfolio:\")"
   ]
  },
  {
   "cell_type": "code",
   "execution_count": 40,
   "metadata": {},
   "outputs": [
    {
     "data": {
      "text/html": [
       "<div>\n",
       "<style scoped>\n",
       "    .dataframe tbody tr th:only-of-type {\n",
       "        vertical-align: middle;\n",
       "    }\n",
       "\n",
       "    .dataframe tbody tr th {\n",
       "        vertical-align: top;\n",
       "    }\n",
       "\n",
       "    .dataframe thead th {\n",
       "        text-align: right;\n",
       "    }\n",
       "</style>\n",
       "<table border=\"1\" class=\"dataframe\">\n",
       "  <thead>\n",
       "    <tr style=\"text-align: right;\">\n",
       "      <th></th>\n",
       "      <th>Ticker</th>\n",
       "      <th>Price</th>\n",
       "      <th>Market Capitalization</th>\n",
       "      <th>Number Of Shares to Buy</th>\n",
       "    </tr>\n",
       "  </thead>\n",
       "  <tbody>\n",
       "    <tr>\n",
       "      <th>0</th>\n",
       "      <td>A</td>\n",
       "      <td>121.88</td>\n",
       "      <td>37161496644</td>\n",
       "      <td>6032</td>\n",
       "    </tr>\n",
       "    <tr>\n",
       "      <th>1</th>\n",
       "      <td>AAL</td>\n",
       "      <td>14.60</td>\n",
       "      <td>9341865466</td>\n",
       "      <td>50362</td>\n",
       "    </tr>\n",
       "    <tr>\n",
       "      <th>2</th>\n",
       "      <td>AAP</td>\n",
       "      <td>184.30</td>\n",
       "      <td>11569256070</td>\n",
       "      <td>3989</td>\n",
       "    </tr>\n",
       "    <tr>\n",
       "      <th>3</th>\n",
       "      <td>AAPL</td>\n",
       "      <td>146.74</td>\n",
       "      <td>2366636645133</td>\n",
       "      <td>5010</td>\n",
       "    </tr>\n",
       "    <tr>\n",
       "      <th>4</th>\n",
       "      <td>ABBV</td>\n",
       "      <td>156.86</td>\n",
       "      <td>273263066752</td>\n",
       "      <td>4687</td>\n",
       "    </tr>\n",
       "    <tr>\n",
       "      <th>...</th>\n",
       "      <td>...</td>\n",
       "      <td>...</td>\n",
       "      <td>...</td>\n",
       "      <td>...</td>\n",
       "    </tr>\n",
       "    <tr>\n",
       "      <th>131</th>\n",
       "      <td>DGX</td>\n",
       "      <td>144.25</td>\n",
       "      <td>17114099394</td>\n",
       "      <td>5097</td>\n",
       "    </tr>\n",
       "    <tr>\n",
       "      <th>132</th>\n",
       "      <td>DHI</td>\n",
       "      <td>68.14</td>\n",
       "      <td>23886239293</td>\n",
       "      <td>10790</td>\n",
       "    </tr>\n",
       "    <tr>\n",
       "      <th>133</th>\n",
       "      <td>DHR</td>\n",
       "      <td>258.10</td>\n",
       "      <td>190222776229</td>\n",
       "      <td>2848</td>\n",
       "    </tr>\n",
       "    <tr>\n",
       "      <th>134</th>\n",
       "      <td>DIS</td>\n",
       "      <td>98.35</td>\n",
       "      <td>179180278154</td>\n",
       "      <td>7476</td>\n",
       "    </tr>\n",
       "    <tr>\n",
       "      <th>135</th>\n",
       "      <td>AAPL</td>\n",
       "      <td>120.91</td>\n",
       "      <td>1216227547277</td>\n",
       "      <td>N/A</td>\n",
       "    </tr>\n",
       "  </tbody>\n",
       "</table>\n",
       "<p>136 rows × 4 columns</p>\n",
       "</div>"
      ],
      "text/plain": [
       "    Ticker   Price Market Capitalization Number Of Shares to Buy\n",
       "0        A  121.88           37161496644                    6032\n",
       "1      AAL   14.60            9341865466                   50362\n",
       "2      AAP  184.30           11569256070                    3989\n",
       "3     AAPL  146.74         2366636645133                    5010\n",
       "4     ABBV  156.86          273263066752                    4687\n",
       "..     ...     ...                   ...                     ...\n",
       "131    DGX  144.25           17114099394                    5097\n",
       "132    DHI   68.14           23886239293                   10790\n",
       "133    DHR  258.10          190222776229                    2848\n",
       "134    DIS   98.35          179180278154                    7476\n",
       "135   AAPL  120.91         1216227547277                     N/A\n",
       "\n",
       "[136 rows x 4 columns]"
      ]
     },
     "execution_count": 40,
     "metadata": {},
     "output_type": "execute_result"
    }
   ],
   "source": [
    "position_size = float(portfolio_size) / len(final_dataframe.index)\n",
    "for i in range(0, len(final_dataframe['Ticker'])-1):\n",
    "    final_dataframe.loc[i, 'Number Of Shares to Buy'] = math.floor(position_size / final_dataframe['Price'][i])\n",
    "final_dataframe"
   ]
  },
  {
   "cell_type": "markdown",
   "metadata": {},
   "source": [
    "## Formatting Our Excel Output\n",
    "\n",
    "We will be using the XlsxWriter library for Python to create nicely-formatted Excel files.\n",
    "\n",
    "XlsxWriter is an excellent package and offers tons of customization. However, the tradeoff for this is that the library can seem very complicated to new users. Accordingly, this section will be fairly long because I want to do a good job of explaining how XlsxWriter works.\n",
    "\n",
    "### Initializing our XlsxWriter Object"
   ]
  },
  {
   "cell_type": "code",
   "execution_count": 41,
   "metadata": {},
   "outputs": [],
   "source": [
    "writer = pd.ExcelWriter(r'C:\\Users\\user\\Downloads\\recommended_trades.xlsx', engine='xlsxwriter')\n",
    "final_dataframe.to_excel(writer, sheet_name='Recommended Trades', index = False)"
   ]
  },
  {
   "cell_type": "markdown",
   "metadata": {},
   "source": [
    "### Creating the Formats We'll Need For Our `.xlsx` File\n",
    "\n",
    "Formats include colors, fonts, and also symbols like `%` and `$`. We'll need four main formats for our Excel document:\n",
    "* String format for tickers\n",
    "* \\\\$XX.XX format for stock prices\n",
    "* \\\\$XX,XXX format for market capitalization\n",
    "* Integer format for the number of shares to purchase"
   ]
  },
  {
   "cell_type": "code",
   "execution_count": 42,
   "metadata": {},
   "outputs": [],
   "source": [
    "background_color = '#0a0a23'\n",
    "font_color = '#ffffff'\n",
    "\n",
    "string_format = writer.book.add_format(\n",
    "        {\n",
    "            'font_color': font_color,\n",
    "            'bg_color': background_color,\n",
    "            'border': 1\n",
    "        }\n",
    "    )\n",
    "\n",
    "dollar_format = writer.book.add_format(\n",
    "        {\n",
    "            'num_format':'$0.00',\n",
    "            'font_color': font_color,\n",
    "            'bg_color': background_color,\n",
    "            'border': 1\n",
    "        }\n",
    "    )\n",
    "\n",
    "integer_format = writer.book.add_format(\n",
    "        {\n",
    "            'num_format':'0',\n",
    "            'font_color': font_color,\n",
    "            'bg_color': background_color,\n",
    "            'border': 1\n",
    "        }\n",
    "    )"
   ]
  },
  {
   "cell_type": "markdown",
   "metadata": {},
   "source": [
    "### Applying the Formats to the Columns of Our `.xlsx` File\n",
    "\n",
    "We can use the `set_column` method applied to the `writer.sheets['Recommended Trades']` object to apply formats to specific columns of our spreadsheets.\n",
    "\n",
    "Here's an example:\n",
    "\n",
    "```python\n",
    "writer.sheets['Recommended Trades'].set_column('B:B', #This tells the method to apply the format to column B\n",
    "                     18, #This tells the method to apply a column width of 18 pixels\n",
    "                     string_format #This applies the format 'string_format' to the column\n",
    "                    )\n",
    "```"
   ]
  },
  {
   "cell_type": "code",
   "execution_count": 22,
   "metadata": {},
   "outputs": [],
   "source": [
    "# writer.sheets['Recommended Trades'].write('A1', 'Ticker', string_format)\n",
    "# writer.sheets['Recommended Trades'].write('B1', 'Price', string_format)\n",
    "# writer.sheets['Recommended Trades'].write('C1', 'Market Capitalization', string_format)\n",
    "# writer.sheets['Recommended Trades'].write('D1', 'Number Of Shares to Buy', string_format)\n",
    "# writer.sheets['Recommended Trades'].set_column('A:A', 20, string_format)\n",
    "# writer.sheets['Recommended Trades'].set_column('B:B', 20, dollar_format)\n",
    "# writer.sheets['Recommended Trades'].set_column('C:C', 20, dollar_format)\n",
    "# writer.sheets['Recommended Trades'].set_column('D:D', 20, integer_format)\n"
   ]
  },
  {
   "cell_type": "markdown",
   "metadata": {},
   "source": [
    "This code works, but it violates the software principle of \"Don't Repeat Yourself\". \n",
    "\n",
    "Let's simplify this by putting it in 2 loops:"
   ]
  },
  {
   "cell_type": "code",
   "execution_count": 43,
   "metadata": {},
   "outputs": [],
   "source": [
    "column_formats = { \n",
    "                    'A': ['Ticker', string_format],\n",
    "                    'B': ['Price', dollar_format],\n",
    "                    'C': ['Market Capitalization', dollar_format],\n",
    "                    'D': ['Number of Shares to Buy', integer_format]\n",
    "                    }\n",
    "\n",
    "for column in column_formats.keys():\n",
    "    writer.sheets['Recommended Trades'].set_column(f'{column}:{column}', 20, column_formats[column][1])\n",
    "    writer.sheets['Recommended Trades'].write(f'{column}1', column_formats[column][0], string_format)"
   ]
  },
  {
   "cell_type": "markdown",
   "metadata": {},
   "source": [
    "## Saving Our Excel Output\n",
    "\n",
    "Saving our Excel file is very easy:"
   ]
  },
  {
   "cell_type": "code",
   "execution_count": 44,
   "metadata": {},
   "outputs": [],
   "source": [
    "writer.save()"
   ]
  },
  {
   "cell_type": "code",
   "execution_count": null,
   "metadata": {},
   "outputs": [],
   "source": []
  }
 ],
 "metadata": {
  "kernelspec": {
   "display_name": "Python 3 (ipykernel)",
   "language": "python",
   "name": "python3"
  },
  "language_info": {
   "codemirror_mode": {
    "name": "ipython",
    "version": 3
   },
   "file_extension": ".py",
   "mimetype": "text/x-python",
   "name": "python",
   "nbconvert_exporter": "python",
   "pygments_lexer": "ipython3",
   "version": "3.9.7"
  }
 },
 "nbformat": 4,
 "nbformat_minor": 4
}
